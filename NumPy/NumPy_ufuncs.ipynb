{
 "cells": [
  {
   "cell_type": "markdown",
   "metadata": {},
   "source": [
    "# NumPy ufuncs"
   ]
  },
  {
   "cell_type": "code",
   "execution_count": 2,
   "metadata": {},
   "outputs": [],
   "source": [
    "import numpy as np"
   ]
  },
  {
   "cell_type": "markdown",
   "metadata": {},
   "source": [
    "## What are ufuncs?\n",
    "#### ufuncs stands for \"Universal Functions\" and they are NumPy functions that operates on the ndarray object.\n",
    "\n",
    "## Why use ufuncs?\n",
    "#### ufuncs are used to implement vectorization in NumPy which is way faster than iterating over elements.\n",
    "#### They also provide broadcasting and additional methods like reduce, accumulate etc. that are very helpful for computation."
   ]
  },
  {
   "cell_type": "markdown",
   "metadata": {},
   "source": [
    "# What is Vectorization?\n",
    "#### Converting iterative statements into a vector based operation is called vectorization.\n",
    "#### It is faster as modern CPUs are optimized for such operations."
   ]
  },
  {
   "cell_type": "markdown",
   "metadata": {},
   "source": [
    "# Simple Arithmetic"
   ]
  },
  {
   "cell_type": "markdown",
   "metadata": {},
   "source": [
    "### Addition\n"
   ]
  },
  {
   "cell_type": "code",
   "execution_count": 3,
   "metadata": {},
   "outputs": [
    {
     "name": "stdout",
     "output_type": "stream",
     "text": [
      "[1 2 3 4 5] + [1 2 3 4 5] \n",
      "= [ 2  4  6  8 10]\n"
     ]
    }
   ],
   "source": [
    "arr1 = np.array([1, 2, 3, 4, 5])\n",
    "arr2 = np.array([1, 2, 3, 4, 5])\n",
    "\n",
    "newarr = np.add(arr1, arr2)\n",
    "print(arr1, \"+\", arr2, \"\\n=\", newarr)\n"
   ]
  },
  {
   "cell_type": "markdown",
   "metadata": {},
   "source": [
    "### Subtraction"
   ]
  },
  {
   "cell_type": "code",
   "execution_count": 4,
   "metadata": {},
   "outputs": [
    {
     "name": "stdout",
     "output_type": "stream",
     "text": [
      "[1 2 3 4 5] - [1 2 3 4 6] \n",
      "= [ 0  0  0  0 -1]\n"
     ]
    }
   ],
   "source": [
    "arr1 = np.array([1, 2, 3, 4, 5])\n",
    "arr2 = np.array([1, 2, 3, 4, 6])\n",
    "\n",
    "newarr = np.subtract(arr1, arr2)\n",
    "print(arr1, \"-\", arr2, \"\\n=\", newarr)\n"
   ]
  },
  {
   "cell_type": "markdown",
   "metadata": {},
   "source": [
    "### Multiplication"
   ]
  },
  {
   "cell_type": "code",
   "execution_count": 5,
   "metadata": {},
   "outputs": [
    {
     "name": "stdout",
     "output_type": "stream",
     "text": [
      "[1 2 3 4 5] * [1 2 3 4 6] \n",
      "= [ 1  4  9 16 30]\n"
     ]
    }
   ],
   "source": [
    "arr1 = np.array([1, 2, 3, 4, 5])\n",
    "arr2 = np.array([1, 2, 3, 4, 6])\n",
    "\n",
    "newarr = np.multiply(arr1, arr2)\n",
    "print(arr1, \"*\", arr2, \"\\n=\", newarr)\n"
   ]
  },
  {
   "cell_type": "markdown",
   "metadata": {},
   "source": [
    "### Division"
   ]
  },
  {
   "cell_type": "code",
   "execution_count": 6,
   "metadata": {},
   "outputs": [
    {
     "name": "stdout",
     "output_type": "stream",
     "text": [
      "[1 2 3 4 5] \\ [1 2 3 4 6] \n",
      "= [1.         1.         1.         1.         0.83333333]\n"
     ]
    }
   ],
   "source": [
    "arr1 = np.array([1, 2, 3, 4, 5])\n",
    "arr2 = np.array([1, 2, 3, 4, 6])\n",
    "\n",
    "newarr = np.divide(arr1, arr2)\n",
    "print(arr1, \"\\\\\", arr2, \"\\n=\", newarr)\n"
   ]
  },
  {
   "cell_type": "markdown",
   "metadata": {},
   "source": [
    "### Power"
   ]
  },
  {
   "cell_type": "code",
   "execution_count": 7,
   "metadata": {},
   "outputs": [
    {
     "name": "stdout",
     "output_type": "stream",
     "text": [
      "[1 2 3 4 5] ^ [2 2 2 2 2] \n",
      "= [ 1  4  9 16 25]\n"
     ]
    }
   ],
   "source": [
    "arr1 = np.array([1, 2, 3, 4, 5])\n",
    "arr2 = np.array([2, 2, 2, 2, 2])\n",
    "\n",
    "newarr = np.power(arr1, arr2)\n",
    "print(arr1, \"^\", arr2, \"\\n=\", newarr)\n"
   ]
  },
  {
   "cell_type": "markdown",
   "metadata": {},
   "source": [
    "### Remainder \n"
   ]
  },
  {
   "cell_type": "code",
   "execution_count": 8,
   "metadata": {},
   "outputs": [
    {
     "name": "stdout",
     "output_type": "stream",
     "text": [
      "[1 2 3 4 5] % [2 2 2 2 2] \n",
      "= [1 0 1 0 1]\n"
     ]
    }
   ],
   "source": [
    "arr1 = np.array([1, 2, 3, 4, 5])\n",
    "arr2 = np.array([2, 2, 2, 2, 2])\n",
    "\n",
    "newarr = np.mod(arr1, arr2)\n",
    "print(arr1, \"%\", arr2, \"\\n=\", newarr)"
   ]
  }
 ],
 "metadata": {
  "interpreter": {
   "hash": "215dea8494d900f95198fb6f8c1037bb36091c52d352cc11f22cad2221fe1635"
  },
  "kernelspec": {
   "display_name": "Python 3.8.5 ('base')",
   "language": "python",
   "name": "python3"
  },
  "language_info": {
   "codemirror_mode": {
    "name": "ipython",
    "version": 3
   },
   "file_extension": ".py",
   "mimetype": "text/x-python",
   "name": "python",
   "nbconvert_exporter": "python",
   "pygments_lexer": "ipython3",
   "version": "3.9.7"
  },
  "orig_nbformat": 4
 },
 "nbformat": 4,
 "nbformat_minor": 2
}
