{
 "cells": [
  {
   "cell_type": "markdown",
   "metadata": {},
   "source": [
    "<br>\n",
    "<div align=\"center\">\n",
    "    <img src=\"https://upload.wikimedia.org/wikipedia/commons/3/31/NumPy_logo_2020.svg\" alt=\"NumPy\">\n",
    "</div>\n",
    "<br>\n",
    "\n",
    "# `NumPy` stands for numeric python which is a python package for the computation and processing of the multidimensional and single dimensional array elements. `Travis Oliphant` created NumPy package in 2005 by injecting the features of the ancestor module Numeric into another module Numarray.\n",
    "\n",
    "# It is an extension module of Python which is mostly written in C. It provides various functions which are capable of performing the numeric computations with a high speed."
   ]
  },
  {
   "cell_type": "code",
   "execution_count": 6,
   "metadata": {},
   "outputs": [],
   "source": [
    "# importing numpy library with alias name as np\n",
    "import numpy as np\n"
   ]
  },
  {
   "cell_type": "markdown",
   "metadata": {},
   "source": [
    "# Creating Arrays in NumPy\n",
    "## NumPy Ndarray : np.array()\n",
    "The array object in NumPy is called ndarray"
   ]
  },
  {
   "cell_type": "markdown",
   "metadata": {},
   "source": [
    "### Parameters of np.array()\n",
    "| SN  | Parameter | Description                                                                                                                                      |\n",
    "| --- | --------- | ------------------------------------------------------------------------------------------------------------------------------------------------ |\n",
    "| 1   | object    | It represents the collection object. It can be a list, tuple, dictionary, set, etc.                                                              |\n",
    "| 2   | dtype     | We can change the data type of the array elements by changing this option to the specified type. The default is none.                            |\n",
    "| 3   | copy      | It is optional. By default, it is true which means the object is copied.                                                                         |\n",
    "| 4   | order     | There can be 3 possible values assigned to this option. It can be C (column order), R (row order), or A (any)                                    |\n",
    "| 5   | subok     | The returned array will be base class array by default. We can change this to make the subclasses passes through by setting this option to true. |\n",
    "| 6   | ndmin     | It represents the minimum dimensions of the resultant array.                                                                                     |"
   ]
  },
  {
   "cell_type": "code",
   "execution_count": 10,
   "metadata": {},
   "outputs": [
    {
     "name": "stdout",
     "output_type": "stream",
     "text": [
      "0-D array : 1\n",
      "1-D array : [1 2 3 4 5 6 7 8 9 0]\n",
      "2-D array : [[1 2 3 4 5]\n",
      " [6 7 8 9 0]]\n",
      "3-D array : [[[ 1  2  3]\n",
      "  [ 4  5  6]]\n",
      "\n",
      " [[ 7  8  9]\n",
      "  [10 11 12]]]\n"
     ]
    }
   ],
   "source": [
    "# np.array(object, dtype = None, copy = True, order = None, subok = False, ndmin = 0)\n",
    "\n",
    "arr0D = np.array(1)\n",
    "arr1D = np.array([1, 2, 3, 4, 5, 6, 7, 8, 9, 0])\n",
    "arr2D = np.array([[1, 2, 3, 4, 5], [6, 7, 8, 9, 0]])\n",
    "arr3D = np.array([[[1, 2, 3], [4, 5, 6]], [[7, 8, 9], [10, 11, 12]]])\n",
    "\n",
    "print(\"0-D array :\", arr0D)\n",
    "print(\"1-D array :\", arr1D)\n",
    "print(\"2-D array :\", arr2D)\n",
    "print(\"3-D array :\", arr3D)\n"
   ]
  },
  {
   "cell_type": "markdown",
   "metadata": {},
   "source": [
    "## Check number of Dimensions : ndim"
   ]
  },
  {
   "cell_type": "code",
   "execution_count": 11,
   "metadata": {},
   "outputs": [
    {
     "name": "stdout",
     "output_type": "stream",
     "text": [
      " dimension of array:  0\n",
      " dimension of array:  1\n",
      " dimension of array:  2\n",
      " dimension of array:  3\n"
     ]
    }
   ],
   "source": [
    "print(\" dimension of array: \", arr0D.ndim)\n",
    "print(\" dimension of array: \", arr1D.ndim)\n",
    "print(\" dimension of array: \", arr2D.ndim)\n",
    "print(\" dimension of array: \", arr3D.ndim)\n"
   ]
  },
  {
   "cell_type": "markdown",
   "metadata": {},
   "source": [
    "### Higher Dimensional Arrays"
   ]
  },
  {
   "cell_type": "code",
   "execution_count": 14,
   "metadata": {},
   "outputs": [
    {
     "name": "stdout",
     "output_type": "stream",
     "text": [
      "[[[[[1 2 3]]]]]\n",
      " dimension of array:  5\n"
     ]
    }
   ],
   "source": [
    "array = np.array([1, 2, 3], ndmin=5)\n",
    "print(array)\n",
    "print(\" dimension of array: \", array.ndim)\n"
   ]
  },
  {
   "cell_type": "markdown",
   "metadata": {},
   "source": [
    "## np.empty() , np.zeros() , np.ones()"
   ]
  },
  {
   "cell_type": "markdown",
   "metadata": {},
   "source": [
    "### parameters.\n",
    "- Shape: The desired shape of the specified array.\n",
    "- dtype: The data type of the array items. The default is the float.\n",
    "- Order: The default order is the c-style row-major order. It can be set to F for FORTRAN-style column-major order."
   ]
  },
  {
   "cell_type": "code",
   "execution_count": 24,
   "metadata": {},
   "outputs": [
    {
     "name": "stdout",
     "output_type": "stream",
     "text": [
      "[[2035874288        525]\n",
      " [         0          0]\n",
      " [         1          0]]\n"
     ]
    }
   ],
   "source": [
    "emptArray = np.empty((3,2),dtype = int)\n",
    "print(emptArray)"
   ]
  },
  {
   "cell_type": "code",
   "execution_count": 27,
   "metadata": {},
   "outputs": [
    {
     "name": "stdout",
     "output_type": "stream",
     "text": [
      "[[0. 0. 0. 0. 0.]\n",
      " [0. 0. 0. 0. 0.]\n",
      " [0. 0. 0. 0. 0.]]\n"
     ]
    }
   ],
   "source": [
    "emptArray = np.empty((3,5),dtype = float)\n",
    "print(emptArray)"
   ]
  },
  {
   "cell_type": "code",
   "execution_count": 16,
   "metadata": {},
   "outputs": [
    {
     "name": "stdout",
     "output_type": "stream",
     "text": [
      "[[0. 0. 0.]\n",
      " [0. 0. 0.]\n",
      " [0. 0. 0.]]\n"
     ]
    }
   ],
   "source": [
    "zeroArray = np.zeros((3, 3), dtype=float)\n",
    "print(zeroArray)\n"
   ]
  },
  {
   "cell_type": "code",
   "execution_count": 21,
   "metadata": {},
   "outputs": [
    {
     "name": "stdout",
     "output_type": "stream",
     "text": [
      "[[1. 1.]\n",
      " [1. 1.]\n",
      " [1. 1.]]\n"
     ]
    }
   ],
   "source": [
    "oneArray = np.ones((3,2), dtype=float)\n",
    "print(oneArray)"
   ]
  }
 ],
 "metadata": {
  "interpreter": {
   "hash": "04635d289a519a1410467dd0afb0db42f9184808881ca68b2eb5a687a20a5a94"
  },
  "kernelspec": {
   "display_name": "Python 3.10.1 64-bit",
   "language": "python",
   "name": "python3"
  },
  "language_info": {
   "codemirror_mode": {
    "name": "ipython",
    "version": 3
   },
   "file_extension": ".py",
   "mimetype": "text/x-python",
   "name": "python",
   "nbconvert_exporter": "python",
   "pygments_lexer": "ipython3",
   "version": "3.10.1"
  },
  "orig_nbformat": 4
 },
 "nbformat": 4,
 "nbformat_minor": 2
}
