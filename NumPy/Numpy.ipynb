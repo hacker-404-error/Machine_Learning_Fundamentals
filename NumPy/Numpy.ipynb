{
 "cells": [
  {
   "cell_type": "markdown",
   "metadata": {},
   "source": [
    "# NumPy Tutorial\n",
    "#### NumPy is a Python library.\n",
    "#### NumPy is used for working with arrays.\n",
    "#### NumPy is short for \"Numerical Python\"."
   ]
  },
  {
   "cell_type": "markdown",
   "metadata": {},
   "source": [
    "# why use numpy?\n",
    "### In Python we have lists that serve the purpose of arrays, but they are slow to process.\n",
    "### Numpy aims to provide an array object that is up to 50x faster than traditional Python lists.\n",
    "### The array object in Numpy is called ndarray, it provides a lot of supporting functions that make working with ndarray very easy.\n",
    "### Arrays are very frequently used in data science, where speed and resources are very important."
   ]
  },
  {
   "cell_type": "code",
   "execution_count": 2,
   "metadata": {},
   "outputs": [],
   "source": [
    "import numpy as np\n"
   ]
  },
  {
   "cell_type": "code",
   "execution_count": 3,
   "metadata": {},
   "outputs": [
    {
     "name": "stdout",
     "output_type": "stream",
     "text": [
      "[0. 0. 0. 0. 0.]\n"
     ]
    }
   ],
   "source": [
    "# Initializing 1d array of size 5 with 0\n",
    "initializing_1Darray = np.zeros([5])\n",
    "print(initializing_1Darray)\n"
   ]
  },
  {
   "cell_type": "code",
   "execution_count": 4,
   "metadata": {},
   "outputs": [
    {
     "name": "stdout",
     "output_type": "stream",
     "text": [
      "[[0. 0. 0.]\n",
      " [0. 0. 0.]\n",
      " [0. 0. 0.]]\n"
     ]
    }
   ],
   "source": [
    "# Initializing 2d array of size 3X3 with 0\n",
    "initializing_2Darray = np.zeros([3, 3])\n",
    "print(initializing_2Darray)\n"
   ]
  },
  {
   "cell_type": "code",
   "execution_count": 5,
   "metadata": {},
   "outputs": [
    {
     "name": "stdout",
     "output_type": "stream",
     "text": [
      "[[1. 1. 1.]\n",
      " [1. 1. 1.]\n",
      " [1. 1. 1.]]\n"
     ]
    }
   ],
   "source": [
    "# np.ones([size1, size2]) : initialize array of specified size with 1's\n",
    "x = np.ones([3, 3])\n",
    "print(x)\n"
   ]
  },
  {
   "cell_type": "code",
   "execution_count": 74,
   "metadata": {},
   "outputs": [
    {
     "name": "stdout",
     "output_type": "stream",
     "text": [
      "array1 = [ 1  2  3  4  5  6  7  8  9 10]\n",
      "array2 = [10  9  8  7  6  5  4  3  2  1]\n"
     ]
    }
   ],
   "source": [
    "# To generate array with in specified limit\n",
    "#x = np.arange(start , stop(not included), step, dtype=i4)\n",
    "x = np.arange(1, 11, 1, dtype='i4')\n",
    "print(f\"array1 = {x}\")\n",
    "\n",
    "y = np.arange(10, 0, -1)\n",
    "print(f\"array2 = {y}\")\n"
   ]
  },
  {
   "cell_type": "code",
   "execution_count": 7,
   "metadata": {},
   "outputs": [
    {
     "name": "stdout",
     "output_type": "stream",
     "text": [
      "[ 1.          1.47368421  1.94736842  2.42105263  2.89473684  3.36842105\n",
      "  3.84210526  4.31578947  4.78947368  5.26315789  5.73684211  6.21052632\n",
      "  6.68421053  7.15789474  7.63157895  8.10526316  8.57894737  9.05263158\n",
      "  9.52631579 10.        ]\n"
     ]
    }
   ],
   "source": [
    "# Generating 20 numbers between 1 to 10\n",
    "x = np.linspace(1, 10, 20)\n",
    "print(x)\n"
   ]
  },
  {
   "cell_type": "code",
   "execution_count": 8,
   "metadata": {},
   "outputs": [
    {
     "name": "stdout",
     "output_type": "stream",
     "text": [
      "[  100.           193.06977289   372.75937203   719.685673\n",
      "  1389.49549437  2682.69579528  5179.47467923 10000.        ]\n"
     ]
    }
   ],
   "source": [
    "# Generating 8 numbers(10^2,10^3,10^4,10^5...) between 2 to 4\n",
    "x = np.logspace(2, 4, 8)\n",
    "print(x)\n"
   ]
  },
  {
   "cell_type": "markdown",
   "metadata": {},
   "source": [
    "# Generating random number in nd array"
   ]
  },
  {
   "cell_type": "code",
   "execution_count": 9,
   "metadata": {},
   "outputs": [
    {
     "name": "stdout",
     "output_type": "stream",
     "text": [
      "0.07865563916085816\n"
     ]
    }
   ],
   "source": [
    "x = np.random.rand()\n",
    "print(x)"
   ]
  },
  {
   "cell_type": "code",
   "execution_count": 10,
   "metadata": {},
   "outputs": [
    {
     "name": "stdout",
     "output_type": "stream",
     "text": [
      "[0.26743498 0.13588083 0.60368474 0.43753323 0.1004424  0.91577178\n",
      " 0.83385001 0.05971234 0.46696217 0.62642164]\n"
     ]
    }
   ],
   "source": [
    "y = np.random.rand(10)\n",
    "print(y)\n"
   ]
  },
  {
   "cell_type": "code",
   "execution_count": 11,
   "metadata": {},
   "outputs": [
    {
     "name": "stdout",
     "output_type": "stream",
     "text": [
      "[[0.15593653 0.07421824]\n",
      " [0.44969189 0.92761382]]\n"
     ]
    }
   ],
   "source": [
    "z = np.random.rand(2, 2)\n",
    "print(z)\n"
   ]
  },
  {
   "cell_type": "code",
   "execution_count": 12,
   "metadata": {},
   "outputs": [
    {
     "name": "stdout",
     "output_type": "stream",
     "text": [
      "[[[0.10807353 0.26476765]\n",
      "  [0.42450568 0.19574645]]\n",
      "\n",
      " [[0.73601497 0.95415444]\n",
      "  [0.55058111 0.89209112]]]\n"
     ]
    }
   ],
   "source": [
    "n = np.random.rand(2, 2, 2)\n",
    "print(n)\n"
   ]
  },
  {
   "cell_type": "code",
   "execution_count": 92,
   "metadata": {},
   "outputs": [
    {
     "name": "stdout",
     "output_type": "stream",
     "text": [
      "9\n"
     ]
    }
   ],
   "source": [
    "# Generating number between 0 to 10\n",
    "x = np.random.randint(10)\n",
    "print(x)"
   ]
  },
  {
   "cell_type": "code",
   "execution_count": 13,
   "metadata": {},
   "outputs": [
    {
     "name": "stdout",
     "output_type": "stream",
     "text": [
      "[[3 1 6 0 7]\n",
      " [7 5 3 4 6]\n",
      " [1 4 5 8 1]\n",
      " [7 0 5 0 0]\n",
      " [9 2 9 6 0]]\n"
     ]
    }
   ],
   "source": [
    "# Generating number between 0 to 10 in array 5X5\n",
    "x = np.random.randint(0, 10, size=(5, 5))\n",
    "print(x)\n"
   ]
  },
  {
   "cell_type": "code",
   "execution_count": 14,
   "metadata": {},
   "outputs": [
    {
     "name": "stdout",
     "output_type": "stream",
     "text": [
      "[[5 5 5]\n",
      " [5 5 5]\n",
      " [5 5 5]]\n"
     ]
    }
   ],
   "source": [
    "# Genarting 3X3 matrix filled with 5\n",
    "x = np.full((3, 3), 5)\n",
    "print(x)\n"
   ]
  },
  {
   "cell_type": "code",
   "execution_count": 15,
   "metadata": {},
   "outputs": [
    {
     "name": "stdout",
     "output_type": "stream",
     "text": [
      "[1 2 3 4 5 1 2 3 4 5 1 2 3 4 5 1 2 3 4 5 1 2 3 4 5]\n"
     ]
    }
   ],
   "source": [
    "# Create a new array by repeating an existing array for a particular number of times\n",
    "arr = np.array([1, 2, 3, 4, 5])\n",
    "x = np.tile(arr, 5)\n",
    "print(x)\n"
   ]
  },
  {
   "cell_type": "code",
   "execution_count": 16,
   "metadata": {},
   "outputs": [
    {
     "name": "stdout",
     "output_type": "stream",
     "text": [
      "array(object, dtype=None, *, copy=True, order='K', subok=False, ndmin=0,\n",
      "      like=None)\n",
      "\n",
      "Create an array.\n",
      "\n",
      "Parameters\n",
      "----------\n",
      "object : array_like\n",
      "    An array, any object exposing the array interface, an object whose\n",
      "    __array__ method returns an array, or any (nested) sequence.\n",
      "    If object is a scalar, a 0-dimensional array containing object is\n",
      "    returned.\n",
      "dtype : data-type, optional\n",
      "    The desired data-type for the array.  If not given, then the type will\n",
      "    be determined as the minimum type required to hold the objects in the\n",
      "    sequence.\n",
      "copy : bool, optional\n",
      "    If true (default), then the object is copied.  Otherwise, a copy will\n",
      "    only be made if __array__ returns a copy, if obj is a nested sequence,\n",
      "    or if a copy is needed to satisfy any of the other requirements\n",
      "    (`dtype`, `order`, etc.).\n",
      "order : {'K', 'A', 'C', 'F'}, optional\n",
      "    Specify the memory layout of the array. If object is not an array, the\n",
      "    newly created array will be in C order (row major) unless 'F' is\n",
      "    specified, in which case it will be in Fortran order (column major).\n",
      "    If object is an array the following holds.\n",
      "\n",
      "    ===== ========= ===================================================\n",
      "    order  no copy                     copy=True\n",
      "    ===== ========= ===================================================\n",
      "    'K'   unchanged F & C order preserved, otherwise most similar order\n",
      "    'A'   unchanged F order if input is F and not C, otherwise C order\n",
      "    'C'   C order   C order\n",
      "    'F'   F order   F order\n",
      "    ===== ========= ===================================================\n",
      "\n",
      "    When ``copy=False`` and a copy is made for other reasons, the result is\n",
      "    the same as if ``copy=True``, with some exceptions for 'A', see the\n",
      "    Notes section. The default order is 'K'.\n",
      "subok : bool, optional\n",
      "    If True, then sub-classes will be passed-through, otherwise\n",
      "    the returned array will be forced to be a base-class array (default).\n",
      "ndmin : int, optional\n",
      "    Specifies the minimum number of dimensions that the resulting\n",
      "    array should have.  Ones will be pre-pended to the shape as\n",
      "    needed to meet this requirement.\n",
      "like : array_like\n",
      "    Reference object to allow the creation of arrays which are not\n",
      "    NumPy arrays. If an array-like passed in as ``like`` supports\n",
      "    the ``__array_function__`` protocol, the result will be defined\n",
      "    by it. In this case, it ensures the creation of an array object\n",
      "    compatible with that passed in via this argument.\n",
      "\n",
      "    .. versionadded:: 1.20.0\n",
      "\n",
      "Returns\n",
      "-------\n",
      "out : ndarray\n",
      "    An array object satisfying the specified requirements.\n",
      "\n",
      "See Also\n",
      "--------\n",
      "empty_like : Return an empty array with shape and type of input.\n",
      "ones_like : Return an array of ones with shape and type of input.\n",
      "zeros_like : Return an array of zeros with shape and type of input.\n",
      "full_like : Return a new array with shape of input filled with value.\n",
      "empty : Return a new uninitialized array.\n",
      "ones : Return a new array setting values to one.\n",
      "zeros : Return a new array setting values to zero.\n",
      "full : Return a new array of given shape filled with value.\n",
      "\n",
      "\n",
      "Notes\n",
      "-----\n",
      "When order is 'A' and `object` is an array in neither 'C' nor 'F' order,\n",
      "and a copy is forced by a change in dtype, then the order of the result is\n",
      "not necessarily 'C' as expected. This is likely a bug.\n",
      "\n",
      "Examples\n",
      "--------\n",
      ">>> np.array([1, 2, 3])\n",
      "array([1, 2, 3])\n",
      "\n",
      "Upcasting:\n",
      "\n",
      ">>> np.array([1, 2, 3.0])\n",
      "array([ 1.,  2.,  3.])\n",
      "\n",
      "More than one dimension:\n",
      "\n",
      ">>> np.array([[1, 2], [3, 4]])\n",
      "array([[1, 2],\n",
      "       [3, 4]])\n",
      "\n",
      "Minimum dimensions 2:\n",
      "\n",
      ">>> np.array([1, 2, 3], ndmin=2)\n",
      "array([[1, 2, 3]])\n",
      "\n",
      "Type provided:\n",
      "\n",
      ">>> np.array([1, 2, 3], dtype=complex)\n",
      "array([ 1.+0.j,  2.+0.j,  3.+0.j])\n",
      "\n",
      "Data-type consisting of more than one element:\n",
      "\n",
      ">>> x = np.array([(1,2),(3,4)],dtype=[('a','<i4'),('b','<i4')])\n",
      ">>> x['a']\n",
      "array([1, 3])\n",
      "\n",
      "Creating an array from sub-classes:\n",
      "\n",
      ">>> np.array(np.mat('1 2; 3 4'))\n",
      "array([[1, 2],\n",
      "       [3, 4]])\n",
      "\n",
      ">>> np.array(np.mat('1 2; 3 4'), subok=True)\n",
      "matrix([[1, 2],\n",
      "        [3, 4]])\n",
      "None\n"
     ]
    }
   ],
   "source": [
    "# print(np.info(max))\n",
    "# to know about the particular function in numpy\n",
    "\n",
    "# print(np.info(np.arange))\n",
    "print(np.info(np.array))\n",
    "# print(np.info(np.sum))\n"
   ]
  },
  {
   "cell_type": "markdown",
   "metadata": {},
   "source": [
    "# N-D Array\n"
   ]
  },
  {
   "cell_type": "code",
   "execution_count": 17,
   "metadata": {},
   "outputs": [
    {
     "name": "stdout",
     "output_type": "stream",
     "text": [
      "10\n",
      "dimension of array :  0\n"
     ]
    }
   ],
   "source": [
    "# Creating 0-D Array\n",
    "x = np.array(10)\n",
    "print(x)\n",
    "print(\"dimension of array : \", x.ndim)\n"
   ]
  },
  {
   "cell_type": "code",
   "execution_count": 18,
   "metadata": {},
   "outputs": [
    {
     "name": "stdout",
     "output_type": "stream",
     "text": [
      "[1 2 3 4 5]\n",
      "dimension of array :  1\n",
      "[[[[[1 2 3 4]]]]]\n",
      "number of dimensions : 5\n"
     ]
    }
   ],
   "source": [
    "# Creeating 1-D Array\n",
    "y = np.array([1, 2, 3, 4, 5])\n",
    "print(y)\n",
    "print(\"dimension of array : \", y.ndim)\n",
    "\n",
    "arr = np.array([1, 2, 3, 4], ndmin=5)\n",
    "print(arr)\n",
    "print('number of dimensions :', arr.ndim)\n"
   ]
  },
  {
   "cell_type": "code",
   "execution_count": 19,
   "metadata": {},
   "outputs": [
    {
     "name": "stdout",
     "output_type": "stream",
     "text": [
      "[[1 2 3 4 5]\n",
      " [6 7 8 9 0]]\n",
      "dimension of array :  2\n"
     ]
    }
   ],
   "source": [
    "# Creeating 2-D Array\n",
    "z = np.array([[1, 2, 3, 4, 5], [6, 7, 8, 9, 0]])\n",
    "print(z)\n",
    "print(\"dimension of array : \", z.ndim)\n"
   ]
  },
  {
   "cell_type": "code",
   "execution_count": 20,
   "metadata": {},
   "outputs": [
    {
     "name": "stdout",
     "output_type": "stream",
     "text": [
      "[[[1 2 3]\n",
      "  [4 5 6]]\n",
      "\n",
      " [[7 8 9]\n",
      "  [1 2 4]]]\n",
      "dimension of array :  3\n"
     ]
    }
   ],
   "source": [
    "# Creeating 3-D Array\n",
    "n = np.array([\n",
    "    [[1, 2, 3], [4, 5, 6]],\n",
    "    [[7, 8, 9], [1, 2, 4]]\n",
    "])\n",
    "print(n)\n",
    "print(\"dimension of array : \", n.ndim)\n"
   ]
  },
  {
   "cell_type": "markdown",
   "metadata": {},
   "source": [
    "# Numpy Array Indexing And Slicing"
   ]
  },
  {
   "cell_type": "code",
   "execution_count": 21,
   "metadata": {},
   "outputs": [
    {
     "name": "stdout",
     "output_type": "stream",
     "text": [
      "1\n",
      "10\n",
      "[1 2 3 4]\n",
      "[1 3 5 7 9]\n",
      "[ 1  2  3  4  5  6  7  8  9 10]\n",
      "[10  8  6  4]\n"
     ]
    }
   ],
   "source": [
    "# In 1-D Array:\n",
    "y = np.array([1, 2, 3, 4, 5, 6, 7, 8, 9, 10])\n",
    "# Indexing\n",
    "print(y[0])\n",
    "print(y[9])\n",
    "\n",
    "# Slicing\n",
    "print(y[0:4])\n",
    "print(y[0:11:2])\n",
    "print(y[::])\n",
    "print(y[10:1:-2])\n"
   ]
  },
  {
   "cell_type": "code",
   "execution_count": 22,
   "metadata": {},
   "outputs": [
    {
     "name": "stdout",
     "output_type": "stream",
     "text": [
      "INDEXING : \n",
      "1 2 3 9 10\n",
      "SLICING : \n",
      "[1 2 3 4 5]\n",
      "[ 6  7  8  9 10]\n",
      "Note This: \n",
      "[[1 2 3]\n",
      " [6 7 8]]\n",
      "[[ 1  3  5]\n",
      " [ 6  8 10]]\n"
     ]
    }
   ],
   "source": [
    "# In 2-D Array\n",
    "z = np.array([[1, 2, 3, 4, 5], [6, 7, 8, 9, 10]])\n",
    "\n",
    "print(\"INDEXING : \")\n",
    "print(z[0, 0], end=\" \")\n",
    "print(z[0, 1], end=\" \")\n",
    "print(z[0, 2], end=\" \")\n",
    "print(z[1, 3], end=\" \")\n",
    "print(z[1, 4], end=\"\\n\")\n",
    "\n",
    "print(\"SLICING : \")\n",
    "print(z[0, 0:6])\n",
    "print(z[1, 0:6])\n",
    "\n",
    "print(\"Note This: \")\n",
    "print(z[0:2, 0:3])\n",
    "print(z[0:2, 0:6:2])\n"
   ]
  },
  {
   "cell_type": "code",
   "execution_count": 23,
   "metadata": {},
   "outputs": [
    {
     "name": "stdout",
     "output_type": "stream",
     "text": [
      "INDEXING : \n",
      "2 3 5 6 8 9 11 12\n",
      "SLICING : \n",
      "[1 2]\n",
      "[7 8]\n",
      "INDEXING : \n",
      "Note this: \n",
      "[[ 4  5]\n",
      " [10 11]]\n",
      "Note this: \n",
      "[[1 2]\n",
      " [7 8]]\n",
      "Note this: \n",
      "[[[ 1  2]\n",
      "  [ 4  5]]\n",
      "\n",
      " [[ 7  8]\n",
      "  [10 11]]]\n"
     ]
    }
   ],
   "source": [
    "# In 3-D Array:\n",
    "z = np.array([\n",
    "    [[1, 2, 3], [4, 5, 6]],\n",
    "    [[7, 8, 9], [10, 11, 12]]\n",
    "])\n",
    "print(\"INDEXING : \")\n",
    "print(z[0, 0, 1], end=\" \")\n",
    "print(z[0, 0, 2], end=\" \")\n",
    "print(z[0, 1, 1], end=\" \")\n",
    "print(z[0, 1, 2], end=\" \")\n",
    "print(z[1, 0, 1], end=\" \")\n",
    "print(z[1, 0, 2], end=\" \")\n",
    "print(z[1, 1, 1], end=\" \")\n",
    "print(z[1, 1, 2], end=\"\\n\")\n",
    "\n",
    "print(\"SLICING : \")\n",
    "print(z[0, 0, 0:2])\n",
    "print(z[1, 0, 0:2])\n",
    "\n",
    "print(\"INDEXING : \")\n",
    "print(\"Note this: \")\n",
    "print(z[0:2, 1, 0:2])\n",
    "print(\"Note this: \")\n",
    "print(z[0:2, 0, 0:2])\n",
    "print(\"Note this: \")\n",
    "print(z[0:2, 0:2, 0:2])\n"
   ]
  },
  {
   "cell_type": "markdown",
   "metadata": {},
   "source": [
    "# Numpy Datatypes\n",
    "### NumPy has some extra data types, and refer to data types with one character, like i for integers, u for unsigned integers etc.\n",
    "### i - integer\n",
    "### b - boolean\n",
    "### u - unsigned integer\n",
    "### f - float\n",
    "### c - complex float\n",
    "### m - timedelta\n",
    "### M - datetime\n",
    "### O - object\n",
    "### S - string\n",
    "### U - unicode string\n",
    "### V - fixed chunk of memory for other type ( void )\n"
   ]
  },
  {
   "cell_type": "code",
   "execution_count": 24,
   "metadata": {},
   "outputs": [
    {
     "name": "stdout",
     "output_type": "stream",
     "text": [
      "[1 2 3 4 5]\n",
      "Datatype of array: int32\n"
     ]
    }
   ],
   "source": [
    "x = np.array([1, 2, 3, 4, 5])\n",
    "print(x)\n",
    "print(\"Datatype of array:\", x.dtype)\n"
   ]
  },
  {
   "cell_type": "code",
   "execution_count": 25,
   "metadata": {},
   "outputs": [
    {
     "name": "stdout",
     "output_type": "stream",
     "text": [
      "[[1 2 3]\n",
      " [4 5 6]] \n",
      " int32\n"
     ]
    }
   ],
   "source": [
    "# in i4, 4 is the size specified\n",
    "arr = np.array([[1, 2, 3], [4, 5, 6]], dtype=\"i4\")\n",
    "print(arr, \"\\n\", arr.dtype)\n"
   ]
  },
  {
   "cell_type": "code",
   "execution_count": 26,
   "metadata": {},
   "outputs": [
    {
     "name": "stdout",
     "output_type": "stream",
     "text": [
      "[[b'1' b'2' b'3']\n",
      " [b'4' b'5' b'6']] \n",
      " |S1\n"
     ]
    }
   ],
   "source": [
    "arr = np.array([[1, 2, 3], [4, 5, 6]], dtype=\"S\")\n",
    "print(arr, \"\\n\", arr.dtype)\n"
   ]
  },
  {
   "cell_type": "code",
   "execution_count": 27,
   "metadata": {},
   "outputs": [
    {
     "name": "stdout",
     "output_type": "stream",
     "text": [
      "[[ True  True  True]\n",
      " [ True False False]] \n",
      " bool\n"
     ]
    }
   ],
   "source": [
    "# Number >=1 and <0 is True\n",
    "# Number = 0 is False\n",
    "arr = np.array([[-1, 2, -3], [4, 0, 0]], dtype=\"bool\")\n",
    "print(arr, \"\\n\", arr.dtype)\n"
   ]
  },
  {
   "cell_type": "code",
   "execution_count": 28,
   "metadata": {},
   "outputs": [
    {
     "name": "stdout",
     "output_type": "stream",
     "text": [
      "[1 2 3 4 5] : int32\n",
      "[ True  True  True  True  True] : bool\n",
      "[b'1' b'2' b'3' b'4' b'5'] : |S11\n"
     ]
    }
   ],
   "source": [
    "arr = np.array([1, 2, 3, 4, 5])\n",
    "print(arr, \":\", arr.dtype)\n",
    "\n",
    "# copy and convert datatype of existing array to new_array\n",
    "\n",
    "new_arr = arr.astype(bool)\n",
    "print(new_arr, \":\", new_arr.dtype)\n",
    "\n",
    "new_arr1 = arr.astype(\"S\")\n",
    "print(new_arr1, \":\", new_arr1.dtype)\n"
   ]
  },
  {
   "cell_type": "markdown",
   "metadata": {},
   "source": [
    "# Array Copy Vs Array View\n",
    "\n",
    "### The copy owns the data and any changes made to the copy will not affect original array, and any changes made to the original array will not affect the copy.\n",
    "\n",
    "### The view does not own the data and any changes made to the view will affect the original array, and any changes made to the original array will affect the view.\n",
    "\n"
   ]
  },
  {
   "cell_type": "code",
   "execution_count": 29,
   "metadata": {},
   "outputs": [
    {
     "name": "stdout",
     "output_type": "stream",
     "text": [
      "[[1 2 3 4]\n",
      " [5 6 7 8]] Dimension: 2 DataType:  int32\n",
      "None\n",
      "copy() : \n",
      "[[1 2 3 4]\n",
      " [5 6 7 8]] Dimension: 2 DataType:  int32\n",
      "New_Array: [[  1   2 100   4]\n",
      " [  5   6   7   8]]\n",
      "Actual_Array: [[1 2 3 4]\n",
      " [5 6 7 8]]\n",
      "None\n"
     ]
    }
   ],
   "source": [
    "arr = np.array([[1, 2, 3, 4], [5, 6, 7, 8]])\n",
    "print(arr, \"Dimension:\", arr.ndim, \"DataType: \", arr.dtype)\n",
    "print(arr.base)\n",
    "\n",
    "\n",
    "print(\"copy() : \")\n",
    "newarr = arr.copy()\n",
    "print(newarr, \"Dimension:\", newarr.ndim, \"DataType: \", newarr.dtype)\n",
    "\n",
    "# changes in newarr will not affect the actual arr\n",
    "newarr[0, 2] = 100\n",
    "print(\"New_Array:\", newarr)\n",
    "print(\"Actual_Array:\", arr)\n",
    "\n",
    "# arr.base() : return array own by array. if it takes a copy of anouther array then it will show None as output\n",
    "print(newarr.base)\n"
   ]
  },
  {
   "cell_type": "code",
   "execution_count": 30,
   "metadata": {},
   "outputs": [
    {
     "name": "stdout",
     "output_type": "stream",
     "text": [
      "[[1 2 3 4]\n",
      " [5 6 7 8]] Dimension: 2 DataType:  int32\n",
      "view() : \n",
      "[[1 2 3 4]\n",
      " [5 6 7 8]] Dimension: 2 DataType:  int32\n",
      "New_Array: [[  1   2 100   4]\n",
      " [  5   6   7   8]]\n",
      "Actual_Array: [[  1   2 100   4]\n",
      " [  5   6   7   8]]\n",
      "[[  1   2 100   4]\n",
      " [  5   6   7   8]]\n"
     ]
    }
   ],
   "source": [
    "arr = np.array([[1, 2, 3, 4], [5, 6, 7, 8]])\n",
    "print(arr, \"Dimension:\", arr.ndim, \"DataType: \", arr.dtype)\n",
    "\n",
    "print(\"view() : \")\n",
    "newarr = arr.view()\n",
    "print(newarr, \"Dimension:\", newarr.ndim, \"DataType: \", newarr.dtype)\n",
    "\n",
    "# changes in newarr will  affect the actual arr\n",
    "newarr[0, 2] = 100\n",
    "print(\"New_Array:\", newarr)\n",
    "print(\"Actual_Array:\", arr)\n",
    "\n",
    "# arr.base() : return array own by array. if it takes a copy of anouther array then it will show None as output\n",
    "print(newarr.base)\n"
   ]
  },
  {
   "cell_type": "markdown",
   "metadata": {},
   "source": [
    "# Numpy Array Shaping\n",
    "## The shape of an array is the number of elements in each dimension.\n",
    "## NumPy arrays have an attribute called shape that returns a tuple with each index having the number of corresponding elements."
   ]
  },
  {
   "cell_type": "code",
   "execution_count": 31,
   "metadata": {},
   "outputs": [
    {
     "name": "stdout",
     "output_type": "stream",
     "text": [
      "(5,)\n",
      "(2, 5)\n",
      "(2, 2, 3)\n",
      "(1, 1, 1, 1, 4)\n"
     ]
    }
   ],
   "source": [
    "# To print Shape Of The Array:\n",
    "# arr.shape: o/p:(row,col): (1,2) or (1,2,3) etc\n",
    "\n",
    "arr = np.array([1, 2, 3, 4, 5])\n",
    "print(arr.shape)\n",
    "\n",
    "arr1 = np.array([[1, 2, 3, 4, 5], [1, 2, 3, 4, 5]])\n",
    "print(arr1.shape)\n",
    "\n",
    "arr2 = np.array([\n",
    "    [[1, 2, 3], [4, 5, 6]],\n",
    "    [[7, 8, 9], [10, 11, 12]]\n",
    "])\n",
    "print(arr2.shape)\n",
    "\n",
    "arr3 = np.array([1, 2, 3, 4], ndmin=5)\n",
    "print(arr3.shape)\n"
   ]
  },
  {
   "cell_type": "code",
   "execution_count": 93,
   "metadata": {},
   "outputs": [
    {
     "name": "stdout",
     "output_type": "stream",
     "text": [
      "4\n",
      "4\n",
      "4\n",
      "4\n"
     ]
    }
   ],
   "source": [
    "# Itemsize returns the size (in bytes) of each element of a Numpy array.\n",
    "arr = np.array([1, 2, 3, 4, 5])\n",
    "print(arr.itemsize)\n",
    "\n",
    "arr1 = np.array([[1, 2, 3, 4, 5], [1, 2, 3, 4, 5]])\n",
    "print(arr1.itemsize)\n",
    "\n",
    "arr2 = np.array([\n",
    "    [[1, 2, 3], [4, 5, 6]],\n",
    "    [[7, 8, 9], [10, 11, 12]]\n",
    "])\n",
    "print(arr2.itemsize)\n",
    "\n",
    "arr3 = np.array([1, 2, 3, 4], ndmin=5)\n",
    "print(arr3.itemsize)"
   ]
  },
  {
   "cell_type": "markdown",
   "metadata": {},
   "source": [
    "# Numpy Array ReShapping\n",
    "## Reshaping means changing the shape of an array.\n",
    "## The shape of an array is the number of elements in each dimension.\n",
    "## By reshaping we can add or remove dimensions or change number of elements in each dimension."
   ]
  },
  {
   "cell_type": "code",
   "execution_count": 32,
   "metadata": {},
   "outputs": [
    {
     "name": "stdout",
     "output_type": "stream",
     "text": [
      "[1 2 3 4 5 6]\n",
      "[[1 2 3]\n",
      " [4 5 6]]\n",
      "ERROR: As (4,2) means total 8 element must be there in existing array\n",
      "    But there is only 6 elements in existing array \n"
     ]
    }
   ],
   "source": [
    "arr = np.array([1, 2, 3, 4, 5, 6])\n",
    "print(arr)\n",
    "\n",
    "\n",
    "newarr = arr.reshape(2, 3)\n",
    "# as (2,3) means total 6 element must be there in existing array\n",
    "print(newarr)\n",
    "\n",
    "try:\n",
    "    newarr = arr.reshape(4, 2)\n",
    "except:\n",
    "    print(\"\"\"ERROR: As (4,2) means total 8 element must be there in existing array\n",
    "    But there is only 6 elements in existing array \"\"\")\n"
   ]
  },
  {
   "cell_type": "markdown",
   "metadata": {},
   "source": [
    "## Unknown Dimension\n",
    "\n",
    "### You are allowed to have one \"unknown\" dimension.\n",
    "### Meaning that you do not have to specify an exact number for one of the dimensions in the reshape method.\n",
    "### Pass -1 as the value, and NumPy will calculate this number for you."
   ]
  },
  {
   "cell_type": "code",
   "execution_count": 33,
   "metadata": {},
   "outputs": [
    {
     "name": "stdout",
     "output_type": "stream",
     "text": [
      "[[[ 1  2]\n",
      "  [ 3  4]\n",
      "  [ 5  6]]\n",
      "\n",
      " [[ 7  8]\n",
      "  [ 9 10]\n",
      "  [11 12]]]\n",
      "Unknown Dimensions : \n",
      "[[[ 1  2  3]\n",
      "  [ 4  5  6]\n",
      "  [ 7  8  9]\n",
      "  [10 11 12]]]\n",
      "[ 1  2  3  4  5  6  7  8  9 10 11 12]\n"
     ]
    }
   ],
   "source": [
    "arr = np.array([\n",
    "    [[1, 2, 3], [4, 5, 6]],\n",
    "    [[7, 8, 9], [10, 11, 12]],\n",
    "])\n",
    "print(arr.reshape(2, 3, 2))\n",
    "print(\"Unknown Dimensions : \")\n",
    "print(arr.reshape(1, 4, -1))\n",
    "\n",
    "# Reshape to 1-D Array\n",
    "print(arr.reshape(-1))\n"
   ]
  },
  {
   "cell_type": "markdown",
   "metadata": {},
   "source": [
    "# NumPy Array Iterating\n",
    "## Iterating means going through elements one by one.\n",
    "## As we deal with multi-dimensional arrays in numpy, we can do this using basic for loop of python."
   ]
  },
  {
   "cell_type": "code",
   "execution_count": 34,
   "metadata": {},
   "outputs": [
    {
     "name": "stdout",
     "output_type": "stream",
     "text": [
      "Elements By Elements: \n",
      "1 2 3 4 5 6 7 8 9 "
     ]
    }
   ],
   "source": [
    "arr1d = np.array([1, 2, 3, 4, 5, 6, 7, 8, 9])\n",
    "print(\"Elements By Elements: \")\n",
    "for i in arr1d:\n",
    "    print(i, end=\" \")\n"
   ]
  },
  {
   "cell_type": "code",
   "execution_count": 35,
   "metadata": {},
   "outputs": [
    {
     "name": "stdout",
     "output_type": "stream",
     "text": [
      "Elements By Elements: \n",
      "1 2 3 4 5 6 7 8 \n",
      "Printing 1DArrays in 2DArray;\n",
      "[1 2 3 4]\n",
      "[5 6 7 8]\n"
     ]
    }
   ],
   "source": [
    "arr2d = np.array([[1, 2, 3, 4], [5, 6, 7, 8]])\n",
    "\n",
    "print(\"Elements By Elements: \")\n",
    "for i in arr2d:\n",
    "    for j in i:\n",
    "        print(j, end=\" \")\n",
    "print(\"\\nPrinting 1DArrays in 2DArray;\")\n",
    "for i in arr2d:\n",
    "    print(i)\n"
   ]
  },
  {
   "cell_type": "code",
   "execution_count": 36,
   "metadata": {},
   "outputs": [
    {
     "name": "stdout",
     "output_type": "stream",
     "text": [
      "Printing Elements By Elements: \n",
      "1 2 3 4 5 6 7 8 9 10 11 12 \n",
      "printing 2darrays in 3Darray: \n",
      "[[1 2 3]\n",
      " [4 5 6]]\n",
      "[[ 7  8  9]\n",
      " [10 11 12]]\n",
      "printing 1darrays in 2darrays of 3Darray: \n",
      "[1 2 3]\n",
      "[4 5 6]\n",
      "[7 8 9]\n",
      "[10 11 12]\n"
     ]
    }
   ],
   "source": [
    "arr3d = np.array([\n",
    "    [[1, 2, 3], [4, 5, 6]],\n",
    "    [[7, 8, 9], [10, 11, 12]],\n",
    "])\n",
    "\n",
    "print(\"Printing Elements By Elements: \")\n",
    "for i in arr3d:\n",
    "    for j in i:\n",
    "        for k in j:\n",
    "            print(k, end=\" \")\n",
    "\n",
    "print(\"\\nprinting 2darrays in 3Darray: \")\n",
    "for i in arr3d:\n",
    "    print(i)\n",
    "\n",
    "print(\"printing 1darrays in 2darrays of 3Darray: \")\n",
    "for i in arr3d:\n",
    "    for j in i:\n",
    "        print(j)\n"
   ]
  },
  {
   "cell_type": "markdown",
   "metadata": {},
   "source": [
    "## Iterating Arrays Using nditer()\n",
    "### The function nditer() is a helping function that can be used from very basic to very advanced iterations. It solves some basic issues which we face in iteration, lets go through it with examples."
   ]
  },
  {
   "cell_type": "code",
   "execution_count": 37,
   "metadata": {},
   "outputs": [
    {
     "name": "stdout",
     "output_type": "stream",
     "text": [
      "1 2 3 4 5 6 7 8 "
     ]
    }
   ],
   "source": [
    "arr2d = np.array([[1, 2, 3, 4], [5, 6, 7, 8]])\n",
    "\n",
    "for i in np.nditer(arr2d):\n",
    "    print(i, end=\" \")\n"
   ]
  },
  {
   "cell_type": "code",
   "execution_count": 38,
   "metadata": {},
   "outputs": [
    {
     "name": "stdout",
     "output_type": "stream",
     "text": [
      "1 2 3 4 "
     ]
    }
   ],
   "source": [
    "arr2d = np.array([[1, 2, 3, 4], [5, 6, 7, 8]])\n",
    "\n",
    "for i in np.nditer(arr2d[0, 0:4]):\n",
    "    print(i, end=\" \")\n"
   ]
  },
  {
   "cell_type": "code",
   "execution_count": 39,
   "metadata": {},
   "outputs": [
    {
     "name": "stdout",
     "output_type": "stream",
     "text": [
      "1 2 3 5 6 7 "
     ]
    }
   ],
   "source": [
    "arr2d = np.array([[1, 2, 3, 4], [5, 6, 7, 8]])\n",
    "\n",
    "for i in np.nditer(arr2d[0:2, 0:3]):\n",
    "    print(i, end=\" \")\n"
   ]
  },
  {
   "cell_type": "code",
   "execution_count": 40,
   "metadata": {},
   "outputs": [
    {
     "name": "stdout",
     "output_type": "stream",
     "text": [
      "1 2 3 4 5 6 7 8 9 10 11 12 "
     ]
    }
   ],
   "source": [
    "arr3d = np.array([\n",
    "    [[1, 2, 3], [4, 5, 6]],\n",
    "    [[7, 8, 9], [10, 11, 12]],\n",
    "])\n",
    "for i in np.nditer(arr3d):\n",
    "    print(i, end=\" \")\n"
   ]
  },
  {
   "cell_type": "code",
   "execution_count": 41,
   "metadata": {},
   "outputs": [
    {
     "name": "stdout",
     "output_type": "stream",
     "text": [
      "1 2 4 5 7 8 10 11 "
     ]
    }
   ],
   "source": [
    "arr3d = np.array([\n",
    "    [[1, 2, 3], [4, 5, 6]],\n",
    "    [[7, 8, 9], [10, 11, 12]],\n",
    "])\n",
    "for i in np.nditer(arr3d[0:2, 0:2, 0:2]):\n",
    "    print(i, end=\" \")\n"
   ]
  },
  {
   "cell_type": "markdown",
   "metadata": {},
   "source": [
    "## Enumerated Iteration Using ndenumerate()\n",
    "### Enumeration means mentioning sequence number of somethings one by one.\n",
    "### Sometimes we require corresponding index of the element while iterating, the ndenumerate() method can be used for those usecases."
   ]
  },
  {
   "cell_type": "code",
   "execution_count": 42,
   "metadata": {},
   "outputs": [
    {
     "name": "stdout",
     "output_type": "stream",
     "text": [
      "(0, 0) : 1\n",
      "(0, 1) : 2\n",
      "(0, 2) : 3\n",
      "(0, 3) : 4\n",
      "(1, 0) : 5\n",
      "(1, 1) : 6\n",
      "(1, 2) : 7\n",
      "(1, 3) : 8\n"
     ]
    }
   ],
   "source": [
    "arr2d = np.array([[1, 2, 3, 4], [5, 6, 7, 8]])\n",
    "\n",
    "for index, i in np.ndenumerate(arr2d):\n",
    "    print(index, \":\", i)\n"
   ]
  },
  {
   "cell_type": "code",
   "execution_count": 43,
   "metadata": {},
   "outputs": [
    {
     "name": "stdout",
     "output_type": "stream",
     "text": [
      "(0, 0) : 1\n",
      "(0, 1) : 2\n",
      "(0, 2) : 3\n",
      "(1, 0) : 5\n",
      "(1, 1) : 6\n",
      "(1, 2) : 7\n"
     ]
    }
   ],
   "source": [
    "arr2d = np.array([[1, 2, 3, 4], [5, 6, 7, 8]])\n",
    "\n",
    "for index, i in np.ndenumerate(arr2d[0:2, 0:3]):\n",
    "    print(index, \":\", i)\n"
   ]
  },
  {
   "cell_type": "code",
   "execution_count": 44,
   "metadata": {},
   "outputs": [
    {
     "name": "stdout",
     "output_type": "stream",
     "text": [
      "(0, 0, 0) : 1\n",
      "(0, 0, 1) : 2\n",
      "(0, 0, 2) : 3\n",
      "(0, 1, 0) : 4\n",
      "(0, 1, 1) : 5\n",
      "(0, 1, 2) : 6\n",
      "(1, 0, 0) : 7\n",
      "(1, 0, 1) : 8\n",
      "(1, 0, 2) : 9\n",
      "(1, 1, 0) : 10\n",
      "(1, 1, 1) : 11\n",
      "(1, 1, 2) : 12\n"
     ]
    }
   ],
   "source": [
    "arr3d = np.array([\n",
    "    [[1, 2, 3], [4, 5, 6]],\n",
    "    [[7, 8, 9], [10, 11, 12]],\n",
    "])\n",
    "for index, i in np.ndenumerate(arr3d):\n",
    "    print(index, \":\", i)\n"
   ]
  },
  {
   "cell_type": "code",
   "execution_count": 45,
   "metadata": {},
   "outputs": [
    {
     "name": "stdout",
     "output_type": "stream",
     "text": [
      "(0, 0, 0) : 1\n",
      "(0, 0, 1) : 2\n",
      "(0, 1, 0) : 4\n",
      "(0, 1, 1) : 5\n",
      "(1, 0, 0) : 7\n",
      "(1, 0, 1) : 8\n",
      "(1, 1, 0) : 10\n",
      "(1, 1, 1) : 11\n"
     ]
    }
   ],
   "source": [
    "arr3d = np.array([\n",
    "    [[1, 2, 3], [4, 5, 6]],\n",
    "    [[7, 8, 9], [10, 11, 12]],\n",
    "])\n",
    "for index, i in np.ndenumerate(arr3d[0:2, 0:2, 0:2]):\n",
    "    print(index, \":\", i)\n"
   ]
  },
  {
   "cell_type": "markdown",
   "metadata": {},
   "source": [
    "# NumPy Joining Array\n",
    "## Joining means putting contents of two or more arrays in a single array.\n",
    "## We pass a sequence of arrays that we want to join to the concatenate() function, along with the axis. If axis is not explicitly passed, it is taken as 0."
   ]
  },
  {
   "cell_type": "code",
   "execution_count": 46,
   "metadata": {},
   "outputs": [
    {
     "name": "stdout",
     "output_type": "stream",
     "text": [
      "[ 1  2  3  4  5  6  7  8  9 10]\n"
     ]
    }
   ],
   "source": [
    "arr1 = np.array([1, 2, 3, 4, 5])\n",
    "arr2 = np.array([6, 7, 8, 9, 10])\n",
    "\n",
    "newarr = np.concatenate((arr1, arr2))\n",
    "print(newarr)\n"
   ]
  },
  {
   "cell_type": "code",
   "execution_count": 47,
   "metadata": {},
   "outputs": [
    {
     "name": "stdout",
     "output_type": "stream",
     "text": [
      "[ 1  2  3  4  5  6  7  8  9 10]\n"
     ]
    }
   ],
   "source": [
    "arr1 = np.array([1, 2, 3, 4, 5])\n",
    "arr2 = np.array([6, 7, 8, 9, 10])\n",
    "\n",
    "newarr = np.concatenate((arr1, arr2), axis=0)  # axis = 0 is By Default\n",
    "print(newarr)\n"
   ]
  },
  {
   "cell_type": "code",
   "execution_count": 48,
   "metadata": {},
   "outputs": [
    {
     "name": "stdout",
     "output_type": "stream",
     "text": [
      "[[  1   2   3   4   5]\n",
      " [ 10  20  30  40  50]\n",
      " [  6   7   8   9  10]\n",
      " [ 60  70  80  99 100]]\n"
     ]
    }
   ],
   "source": [
    "arr1 = np.array([[1, 2, 3, 4, 5], [10, 20, 30, 40, 50]])\n",
    "arr2 = np.array([[6, 7, 8, 9, 10], [60, 70, 80, 99, 100]])\n",
    "\n",
    "newarr = np.concatenate((arr1, arr2), axis=0)\n",
    "print(newarr)\n"
   ]
  },
  {
   "cell_type": "code",
   "execution_count": 49,
   "metadata": {},
   "outputs": [
    {
     "name": "stdout",
     "output_type": "stream",
     "text": [
      "[[  1   2   3   4   5   6   7   8   9  10]\n",
      " [ 10  20  30  40  50  60  70  80  99 100]]\n"
     ]
    }
   ],
   "source": [
    "arr1 = np.array([[1, 2, 3, 4, 5], [10, 20, 30, 40, 50]])\n",
    "arr2 = np.array([[6, 7, 8, 9, 10], [60, 70, 80, 99, 100]])\n",
    "\n",
    "newarr = np.concatenate((arr1, arr2), axis=1)\n",
    "print(newarr)\n"
   ]
  },
  {
   "cell_type": "markdown",
   "metadata": {},
   "source": [
    "## Joining Arrays Using Stack Functions\n",
    "### Stacking is same as concatenation, the only difference is that stacking is done along a new axis.\n",
    "\n",
    "### We can concatenate two 1-D arrays along the second axis which would result in putting them one over the other, ie. stacking.\n",
    "\n",
    "### We pass a sequence of arrays that we want to join to the stack() method along with the axis. If axis is not explicitly passed it is taken as 0."
   ]
  },
  {
   "cell_type": "code",
   "execution_count": 50,
   "metadata": {},
   "outputs": [
    {
     "name": "stdout",
     "output_type": "stream",
     "text": [
      "[[1 4]\n",
      " [2 5]\n",
      " [3 6]]\n",
      "[1 2 3 4 5 6]\n",
      "[[1 2 3]\n",
      " [4 5 6]]\n"
     ]
    }
   ],
   "source": [
    "arr1 = np.array([1, 2, 3])\n",
    "arr2 = np.array([4, 5, 6])\n",
    "\n",
    "arr = np.stack((arr1, arr2), axis=1)\n",
    "x = np.hstack((arr1, arr2))  # Horizontal Joining\n",
    "y = np.vstack((arr1, arr2))  # Vertical joining\n",
    "\n",
    "print(arr)\n",
    "print(x)\n",
    "print(y)\n"
   ]
  },
  {
   "cell_type": "markdown",
   "metadata": {},
   "source": [
    "# Splitting NumPy Arrays\n",
    "### Splitting is reverse operation of Joining.\n",
    "\n",
    "### Joining merges multiple arrays into one and Splitting breaks one array into multiple.\n",
    "\n",
    "### We use array_split() for splitting arrays, we pass it the array we want to split and the number of splits."
   ]
  },
  {
   "cell_type": "code",
   "execution_count": 51,
   "metadata": {},
   "outputs": [
    {
     "name": "stdout",
     "output_type": "stream",
     "text": [
      "[array([1, 2]), array([3, 4]), array([5, 6])]\n",
      "[1 2]\n",
      "[3 4]\n",
      "[5 6]\n",
      "Elements By Elements:\n",
      "1 2 3 4 5 6 "
     ]
    }
   ],
   "source": [
    "arr = np.array([1, 2, 3, 4, 5, 6])\n",
    "# Split the array into 3 equal parts and return list of arrays\n",
    "newarr = np.array_split(arr, 3)\n",
    "print(newarr)\n",
    "\n",
    "for i in newarr:\n",
    "    print(i)\n",
    "\n",
    "print(\"Elements By Elements:\")\n",
    "for i in newarr:\n",
    "    for j in i:\n",
    "        print(j, end=\" \")\n"
   ]
  },
  {
   "cell_type": "code",
   "execution_count": 52,
   "metadata": {},
   "outputs": [
    {
     "name": "stdout",
     "output_type": "stream",
     "text": [
      "[array([[1, 2, 3, 4, 5]]), array([[ 6,  7,  8,  9, 10]]), array([], shape=(0, 5), dtype=int32)]\n",
      "Arrays Generated: \n",
      "[[1 2 3 4 5]]\n",
      "[[ 6  7  8  9 10]]\n",
      "[]\n"
     ]
    }
   ],
   "source": [
    "arr = np.array([[1, 2, 3, 4, 5], [6, 7, 8, 9, 10]])\n",
    "newarr = np.array_split(arr, 3)\n",
    "print(newarr)\n",
    "\n",
    "print(\"Arrays Generated: \")\n",
    "for i in newarr:\n",
    "    print(i)\n",
    "\n",
    "# for i in newarr:\n",
    "#     for j in i:\n",
    "#         print(j)\n"
   ]
  },
  {
   "cell_type": "code",
   "execution_count": 53,
   "metadata": {},
   "outputs": [
    {
     "name": "stdout",
     "output_type": "stream",
     "text": [
      "[array([[1, 2, 3],\n",
      "       [6, 7, 8]]), array([[ 4,  5],\n",
      "       [ 9, 10]])]\n",
      "Arrays Generated: \n",
      "[[1 2 3]\n",
      " [6 7 8]]\n",
      "[[ 4  5]\n",
      " [ 9 10]]\n"
     ]
    }
   ],
   "source": [
    "arr = np.array([[1, 2, 3, 4, 5], [6, 7, 8, 9, 10]])\n",
    "newarr = np.array_split(arr, 2, axis=1)\n",
    "print(newarr)\n",
    "\n",
    "print(\"Arrays Generated: \")\n",
    "for i in newarr:\n",
    "    print(i)\n"
   ]
  },
  {
   "cell_type": "code",
   "execution_count": 54,
   "metadata": {},
   "outputs": [
    {
     "name": "stdout",
     "output_type": "stream",
     "text": [
      "Horizontal Split:  [array([[ 1],\n",
      "       [ 6],\n",
      "       [11]]), array([[ 2],\n",
      "       [ 7],\n",
      "       [12]]), array([[ 3],\n",
      "       [ 8],\n",
      "       [13]])]\n",
      "Arrays Generated using Horizontal Split:\n",
      "[[ 1]\n",
      " [ 6]\n",
      " [11]]\n",
      "[[ 2]\n",
      " [ 7]\n",
      " [12]]\n",
      "[[ 3]\n",
      " [ 8]\n",
      " [13]]\n",
      "Vertical Split:  [array([[1, 2, 3]]), array([[6, 7, 8]]), array([[11, 12, 13]])]\n",
      "Arrays Generated using Vertical Split:\n",
      "[[1 2 3]]\n",
      "[[6 7 8]]\n",
      "[[11 12 13]]\n"
     ]
    }
   ],
   "source": [
    "arr = np.array([\n",
    "    [1, 2, 3],\n",
    "    [6, 7, 8],\n",
    "    [11, 12, 13]\n",
    "])\n",
    "newarr = np.hsplit(arr, 3)\n",
    "print(\"Horizontal Split: \", newarr)\n",
    "print(\"Arrays Generated using Horizontal Split:\")\n",
    "for i in newarr:\n",
    "    print(i)\n",
    "\n",
    "newarr = np.vsplit(arr, 3)\n",
    "print(\"Vertical Split: \", newarr)\n",
    "print(\"Arrays Generated using Vertical Split:\")\n",
    "for i in newarr:\n",
    "    print(i)\n"
   ]
  },
  {
   "cell_type": "markdown",
   "metadata": {},
   "source": [
    "# NumPy Searching Arrays\n",
    "### You can search an array for a certain value, and return the indexes that get a match.\n",
    "\n",
    "### To search an array, use the where() method."
   ]
  },
  {
   "cell_type": "code",
   "execution_count": 55,
   "metadata": {},
   "outputs": [
    {
     "name": "stdout",
     "output_type": "stream",
     "text": [
      "(array([9], dtype=int64),)\n"
     ]
    }
   ],
   "source": [
    "arr = np.array([1, 2, 3, 4, 5, 6, 7, 8, 9, 10])\n",
    "x = np.where(arr == 10)\n",
    "print(x)\n"
   ]
  },
  {
   "cell_type": "code",
   "execution_count": 56,
   "metadata": {},
   "outputs": [
    {
     "name": "stdout",
     "output_type": "stream",
     "text": [
      "(array([ 3,  7,  9, 11], dtype=int64),)\n",
      "Element Found At  3\n",
      "Element Found At  7\n",
      "Element Found At  9\n",
      "Element Found At  11\n"
     ]
    }
   ],
   "source": [
    "arr = np.array([1, 2, 3, 4, 5, 1, 6, 4, 7, 4, 8, 4])\n",
    "indexes = np.where(arr == 4)\n",
    "print(indexes)\n",
    "\n",
    "for i in indexes:\n",
    "    for j in i:\n",
    "        print(\"Element Found At \", j)\n"
   ]
  },
  {
   "cell_type": "code",
   "execution_count": 57,
   "metadata": {},
   "outputs": [
    {
     "name": "stdout",
     "output_type": "stream",
     "text": [
      "(array([ 1,  3,  6,  7,  9, 10, 11], dtype=int64),)\n"
     ]
    }
   ],
   "source": [
    "arr = np.array([1, 2, 3, 4, 5, 1, 6, 4, 7, 4, 8, 4])\n",
    "# Find the Indexes where elements are even\n",
    "find = np.where(arr % 2 == 0)\n",
    "print(find)\n"
   ]
  },
  {
   "cell_type": "code",
   "execution_count": 58,
   "metadata": {},
   "outputs": [
    {
     "name": "stdout",
     "output_type": "stream",
     "text": [
      "(array([1], dtype=int64), array([4], dtype=int64))\n",
      "[1] [4] "
     ]
    }
   ],
   "source": [
    "arr = np.array([\n",
    "    [1, 2, 3, 4, 5],\n",
    "    [6, 7, 8, 9, 10]\n",
    "])\n",
    "index = np.where(arr == 10)\n",
    "print(index)\n",
    "\n",
    "for i in index:\n",
    "    print(i, end=\" \")\n"
   ]
  },
  {
   "cell_type": "markdown",
   "metadata": {},
   "source": [
    "# Search Sorted\n",
    "### There is a method called searchsorted() which performs a binary search in the array, and returns the index where the specified value would be inserted to maintain the search order."
   ]
  },
  {
   "cell_type": "code",
   "execution_count": 59,
   "metadata": {},
   "outputs": [
    {
     "name": "stdout",
     "output_type": "stream",
     "text": [
      "2\n"
     ]
    }
   ],
   "source": [
    "arr = np.array([1, 2, 3, 4, 5, 6])\n",
    "x = np.searchsorted(arr, 3)\n",
    "print(x)\n"
   ]
  },
  {
   "cell_type": "code",
   "execution_count": 60,
   "metadata": {},
   "outputs": [
    {
     "name": "stdout",
     "output_type": "stream",
     "text": [
      "2\n"
     ]
    }
   ],
   "source": [
    "arr = np.array([1, 2, 7, 4, 5, 6])\n",
    "x = np.searchsorted(arr, 3)\n",
    "print(x)\n"
   ]
  },
  {
   "cell_type": "code",
   "execution_count": 61,
   "metadata": {},
   "outputs": [
    {
     "name": "stdout",
     "output_type": "stream",
     "text": [
      "6\n"
     ]
    }
   ],
   "source": [
    "arr = np.array([1, 2, 3, 4, 5, 6])\n",
    "x = np.searchsorted(arr, 3100)\n",
    "print(x)\n"
   ]
  },
  {
   "cell_type": "code",
   "execution_count": 62,
   "metadata": {},
   "outputs": [
    {
     "name": "stdout",
     "output_type": "stream",
     "text": [
      "3\n"
     ]
    }
   ],
   "source": [
    "arr = np.array([1, 2, 3, 4, 5, 6])\n",
    "x = np.searchsorted(arr, 3, side='right')\n",
    "print(x)\n"
   ]
  },
  {
   "cell_type": "code",
   "execution_count": 63,
   "metadata": {},
   "outputs": [
    {
     "name": "stdout",
     "output_type": "stream",
     "text": [
      "6\n"
     ]
    }
   ],
   "source": [
    "arr = np.array([1, 2, 3, 4, 5, 6])\n",
    "x = np.searchsorted(arr, 300, side='right')\n",
    "print(x)\n"
   ]
  },
  {
   "cell_type": "code",
   "execution_count": 64,
   "metadata": {},
   "outputs": [
    {
     "name": "stdout",
     "output_type": "stream",
     "text": [
      "[1 2 3]\n"
     ]
    }
   ],
   "source": [
    "arr = np.array([1, 3, 5, 7])\n",
    "x = np.searchsorted(arr, [2, 4, 6])\n",
    "# position of elements will get return in array\n",
    "print(x)\n"
   ]
  },
  {
   "cell_type": "markdown",
   "metadata": {},
   "source": [
    "# NumPy Sorting Arrays\n",
    "### Sorting means putting elements in an ordered sequence.\n",
    "\n",
    "### Ordered sequence is any sequence that has an order corresponding to elements, like numeric or alphabetical, ascending or descending.\n",
    "\n",
    "### The NumPy ndarray object has a function called sort(), that will sort a specified array."
   ]
  },
  {
   "cell_type": "code",
   "execution_count": 65,
   "metadata": {},
   "outputs": [
    {
     "name": "stdout",
     "output_type": "stream",
     "text": [
      "[ 0  4  5  7  8 20 30]\n"
     ]
    }
   ],
   "source": [
    "arr = np.array([30, 20, 4, 5, 7, 8, 0])\n",
    "print(np.sort(arr))\n"
   ]
  },
  {
   "cell_type": "code",
   "execution_count": 66,
   "metadata": {},
   "outputs": [
    {
     "name": "stdout",
     "output_type": "stream",
     "text": [
      "['apple' 'banana' 'cherry']\n"
     ]
    }
   ],
   "source": [
    "arr = np.array(['banana', 'cherry', 'apple'])\n",
    "print(np.sort(arr))\n"
   ]
  },
  {
   "cell_type": "code",
   "execution_count": 67,
   "metadata": {},
   "outputs": [
    {
     "name": "stdout",
     "output_type": "stream",
     "text": [
      "[False  True  True]\n"
     ]
    }
   ],
   "source": [
    "arr = np.array([True, False, True])\n",
    "print(np.sort(arr))\n"
   ]
  },
  {
   "cell_type": "code",
   "execution_count": 68,
   "metadata": {},
   "outputs": [
    {
     "name": "stdout",
     "output_type": "stream",
     "text": [
      "[[2 3 4]\n",
      " [0 1 5]]\n"
     ]
    }
   ],
   "source": [
    "arr = np.array([[3, 2, 4], [5, 0, 1]])\n",
    "print(np.sort(arr))\n"
   ]
  },
  {
   "cell_type": "markdown",
   "metadata": {},
   "source": [
    "# NumPy Filter Array\n",
    "### Getting some elements out of an existing array and creating a new array out of them is called filtering.\n",
    "\n",
    "### In NumPy, you filter an array using a boolean index list.\n",
    "\n",
    "### \"A boolean index list is a list of booleans corresponding to indexes in the array.\""
   ]
  },
  {
   "cell_type": "markdown",
   "metadata": {},
   "source": [
    "##### If the value at an index is True that element is contained in the filtered array, if the value at that index is False that element is excluded from the filtered array."
   ]
  },
  {
   "cell_type": "code",
   "execution_count": 69,
   "metadata": {},
   "outputs": [
    {
     "name": "stdout",
     "output_type": "stream",
     "text": [
      "Array:  [1 2 3 4 5 6 7]\n",
      "Filtered Array [1 3 5 7]\n"
     ]
    }
   ],
   "source": [
    "arr = np.array([1, 2, 3, 4, 5, 6, 7])\n",
    "print(\"Array: \", arr)\n",
    "x = [True, False, True, False, True, False, True]\n",
    "newarr = arr[x]\n",
    "print(\"Filtered Array\", newarr)\n"
   ]
  },
  {
   "cell_type": "code",
   "execution_count": 70,
   "metadata": {},
   "outputs": [
    {
     "name": "stdout",
     "output_type": "stream",
     "text": [
      "Array :  [40 42 39 45 50 20 11 67 89 90]\n",
      "Filtered_Array:  [40 42 45 50 67 89 90]\n"
     ]
    }
   ],
   "source": [
    "arr = np.array([40, 42, 39, 45, 50, 20, 11, 67, 89, 90])\n",
    "print(\"Array : \", arr)\n",
    "filterarr = []\n",
    "\n",
    "for i in arr:\n",
    "    if(i >= 40):\n",
    "        filterarr.append(True)\n",
    "    else:\n",
    "        filterarr.append(False)\n",
    "\n",
    "newarr = arr[filterarr]\n",
    "print(\"Filtered_Array: \", newarr)\n"
   ]
  },
  {
   "cell_type": "markdown",
   "metadata": {},
   "source": [
    "### Creating Filter Directly From Array\n",
    "##### We can directly substitute the array instead of the iterable variable in our condition and it will work just as we expect it to."
   ]
  },
  {
   "cell_type": "code",
   "execution_count": 71,
   "metadata": {},
   "outputs": [
    {
     "name": "stdout",
     "output_type": "stream",
     "text": [
      "Array :  [ 1  2  3  4  5  6  7  8  9 10]\n",
      "[False False False False False  True  True  True  True  True]\n",
      "Filtered_Array:  [ 6  7  8  9 10]\n"
     ]
    }
   ],
   "source": [
    "arr = np.array([1, 2, 3, 4, 5, 6, 7, 8, 9, 10])\n",
    "print(\"Array : \", arr)\n",
    "filterarr = arr > 5\n",
    "newarr = arr[filterarr]\n",
    "\n",
    "print(filterarr)\n",
    "print(\"Filtered_Array: \", newarr)\n"
   ]
  },
  {
   "cell_type": "code",
   "execution_count": 72,
   "metadata": {},
   "outputs": [
    {
     "name": "stdout",
     "output_type": "stream",
     "text": [
      "Array :  [ 1  2  3  4  5  6  7  8  9 10]\n",
      "[False False False False False  True  True  True  True  True]\n",
      "Filtered_Array:  [ 6  7  8  9 10]\n"
     ]
    }
   ],
   "source": [
    "arr = np.array([1, 2, 3, 4, 5, 6, 7, 8, 9, 10])\n",
    "print(\"Array : \", arr)\n",
    "filter_arr = arr % 2 == 0\n",
    "newarr = arr[filterarr]\n",
    "\n",
    "print(filterarr)\n",
    "print(\"Filtered_Array: \", newarr)\n"
   ]
  }
 ],
 "metadata": {
  "kernelspec": {
   "display_name": "Python 3",
   "language": "python",
   "name": "python3"
  },
  "language_info": {
   "codemirror_mode": {
    "name": "ipython",
    "version": 3
   },
   "file_extension": ".py",
   "mimetype": "text/x-python",
   "name": "python",
   "nbconvert_exporter": "python",
   "pygments_lexer": "ipython3",
   "version": "3.10.1"
  }
 },
 "nbformat": 4,
 "nbformat_minor": 4
}
