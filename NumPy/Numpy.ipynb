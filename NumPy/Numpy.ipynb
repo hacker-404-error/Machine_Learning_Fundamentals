{
 "cells": [
  {
   "cell_type": "markdown",
   "metadata": {},
   "source": [
    "<br>\n",
    "<div align=\"center\">\n",
    "    <img src=\"https://upload.wikimedia.org/wikipedia/commons/3/31/NumPy_logo_2020.svg\" alt=\"NumPy\">\n",
    "</div>\n",
    "<br>\n",
    "\n",
    "# `NumPy` stands for numeric python which is a python package for the computation and processing of the multidimensional and single dimensional array elements. `Travis Oliphant` created NumPy package in 2005 by injecting the features of the ancestor module Numeric into another module Numarray.\n",
    "\n",
    "# It is an extension module of Python which is mostly written in C. It provides various functions which are capable of performing the numeric computations with a high speed."
   ]
  },
  {
   "cell_type": "markdown",
   "metadata": {},
   "source": [
    "# NumPy Ndarray"
   ]
  },
  {
   "cell_type": "code",
   "execution_count": null,
   "metadata": {},
   "outputs": [],
   "source": []
  }
 ],
 "metadata": {
  "interpreter": {
   "hash": "04635d289a519a1410467dd0afb0db42f9184808881ca68b2eb5a687a20a5a94"
  },
  "kernelspec": {
   "display_name": "Python 3.10.1 64-bit",
   "language": "python",
   "name": "python3"
  },
  "language_info": {
   "name": "python",
   "version": "3.10.1"
  },
  "orig_nbformat": 4
 },
 "nbformat": 4,
 "nbformat_minor": 2
}
