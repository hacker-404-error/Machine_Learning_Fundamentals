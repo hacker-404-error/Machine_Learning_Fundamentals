{
 "cells": [
  {
   "cell_type": "markdown",
   "metadata": {},
   "source": [
    "# Pandas Introduction"
   ]
  },
  {
   "cell_type": "markdown",
   "metadata": {},
   "source": [
    "## What is Pandas?\n",
    "### Pandas is a Python library used for working with data sets.\n",
    "\n",
    "### It has functions for analyzing, cleaning, exploring, and manipulating data.\n",
    "\n",
    "### The name \"Pandas\" has a reference to both \"Panel Data\", and \"Python Data Analysis\" and was created by Wes McKinney in 2008.\n",
    "\n"
   ]
  },
  {
   "cell_type": "code",
   "execution_count": 2,
   "metadata": {},
   "outputs": [],
   "source": [
    "import pandas as pd\n"
   ]
  },
  {
   "cell_type": "markdown",
   "metadata": {},
   "source": [
    "# Why Use Pandas?\n",
    "### Pandas allows us to analyze big data and make conclusions based on statistical theories.\n",
    "\n",
    "### Pandas can clean messy data sets, and make them readable and relevant.\n",
    "\n",
    "### Relevant data is very important in data science."
   ]
  },
  {
   "cell_type": "markdown",
   "metadata": {},
   "source": [
    "## Pandas Series\n",
    "### A Pandas Series is like a column in a table.\n",
    "### It is a one-dimensional array holding data of any type."
   ]
  },
  {
   "cell_type": "code",
   "execution_count": 3,
   "metadata": {},
   "outputs": [
    {
     "name": "stdout",
     "output_type": "stream",
     "text": [
      "0    1\n",
      "1    2\n",
      "2    3\n",
      "dtype: int64\n",
      "1\n",
      "2\n",
      "3\n"
     ]
    }
   ],
   "source": [
    "a = [1, 2, 3]\n",
    "my_data = pd.Series(a)\n",
    "print(my_data)\n",
    "\n",
    "# By default Labels(indexes) starting from 0\n",
    "print(my_data[0])\n",
    "print(my_data[1])\n",
    "print(my_data[2])\n"
   ]
  },
  {
   "cell_type": "code",
   "execution_count": 4,
   "metadata": {},
   "outputs": [
    {
     "name": "stdout",
     "output_type": "stream",
     "text": [
      "a    1\n",
      "b    2\n",
      "c    3\n",
      "dtype: int64\n",
      "1\n",
      "2\n",
      "3\n"
     ]
    }
   ],
   "source": [
    "arr = [1, 2, 3]\n",
    "# With the index argument, you can name your own labels.\n",
    "dataset = pd.Series(arr, index=[\"a\", \"b\", \"c\"])\n",
    "print(dataset)\n",
    "# Now labels Are \"a\",\"b\",\"c\"\n",
    "print(dataset[\"a\"])\n",
    "print(dataset[\"b\"])\n",
    "print(dataset[\"c\"])\n"
   ]
  },
  {
   "cell_type": "code",
   "execution_count": 5,
   "metadata": {},
   "outputs": [
    {
     "name": "stdout",
     "output_type": "stream",
     "text": [
      "fruits        420\n",
      "vegetables    150\n",
      "clothes       200\n",
      "dtype: int64\n",
      "420\n",
      "150\n",
      "200\n"
     ]
    }
   ],
   "source": [
    "# You can also use a key/value object, like a dictionary, when creating a Series.\n",
    "price_list = {\n",
    "    \"fruits\": 420,\n",
    "    \"vegetables\": 150,\n",
    "    \"clothes\": 200\n",
    "}\n",
    "dataset = pd.Series(price_list)\n",
    "print(dataset)\n",
    "\n",
    "# Labels(Indexes) are now Keys Of Dict\n",
    "print(dataset[\"fruits\"])\n",
    "print(dataset[\"vegetables\"])\n",
    "print(dataset[\"clothes\"])\n"
   ]
  },
  {
   "cell_type": "code",
   "execution_count": 6,
   "metadata": {},
   "outputs": [
    {
     "name": "stdout",
     "output_type": "stream",
     "text": [
      "day1    420\n",
      "day2    380\n",
      "dtype: int64\n"
     ]
    }
   ],
   "source": [
    "calories = {\n",
    "    \"day1\": 420,\n",
    "    \"day2\": 380,\n",
    "    \"day3\": 390\n",
    "}\n",
    "dataset = pd.Series(calories, index=[\"day1\", \"day2\"])\n",
    "print(dataset)\n"
   ]
  },
  {
   "cell_type": "markdown",
   "metadata": {},
   "source": [
    "## DataFrames\n",
    "### Data sets in Pandas are usually multi-dimensional tables, called DataFrames.\n",
    "### Series is like a column, a DataFrame is the whole table.\n",
    "### A Pandas DataFrame is a 2 dimensional data structure, like a 2 dimensional array, or a table with rows and columns."
   ]
  },
  {
   "cell_type": "code",
   "execution_count": 7,
   "metadata": {},
   "outputs": [
    {
     "name": "stdout",
     "output_type": "stream",
     "text": [
      "  breakfast calories\n",
      "1      eggs   50 cal\n",
      "2     bread  150 cal\n",
      "3     juice  100 cal\n"
     ]
    }
   ],
   "source": [
    "data = {\n",
    "    \"breakfast\": [\"eggs\", \"bread\", \"juice\"],\n",
    "    \"calories\": [\"50 cal\", \"150 cal\", \"100 cal\"]\n",
    "}\n",
    "dataset = pd.DataFrame(data, index=[1, 2, 3])\n",
    "print(dataset)\n"
   ]
  },
  {
   "cell_type": "markdown",
   "metadata": {},
   "source": [
    "### Locate Row\n",
    "#### As you can see from the result above, the DataFrame is like a table with rows and columns.\n",
    "#### Pandas use the loc attribute to return one or more specified row(s)"
   ]
  },
  {
   "cell_type": "code",
   "execution_count": 8,
   "metadata": {},
   "outputs": [
    {
     "name": "stdout",
     "output_type": "stream",
     "text": [
      "breakfast      eggs\n",
      "calories     50 cal\n",
      "Name: 1, dtype: object\n"
     ]
    }
   ],
   "source": [
    "print(dataset.loc[1])\n"
   ]
  },
  {
   "cell_type": "code",
   "execution_count": 9,
   "metadata": {},
   "outputs": [
    {
     "name": "stdout",
     "output_type": "stream",
     "text": [
      "  breakfast calories\n",
      "1      eggs   50 cal\n",
      "2     bread  150 cal\n"
     ]
    }
   ],
   "source": [
    "print(dataset.loc[[1, 2]])\n"
   ]
  },
  {
   "cell_type": "code",
   "execution_count": 10,
   "metadata": {},
   "outputs": [
    {
     "name": "stdout",
     "output_type": "stream",
     "text": [
      "     breakfast calories\n",
      "day1      eggs   50 cal\n",
      "day2     bread  150 cal\n",
      "day3     juice  100 cal\n"
     ]
    }
   ],
   "source": [
    "data = {\n",
    "    \"breakfast\": [\"eggs\", \"bread\", \"juice\"],\n",
    "    \"calories\": [\"50 cal\", \"150 cal\", \"100 cal\"]\n",
    "}\n",
    "dataset = pd.DataFrame(data, index=[\"day1\", \"day2\", 'day3'])\n",
    "print(dataset)\n"
   ]
  },
  {
   "cell_type": "code",
   "execution_count": 11,
   "metadata": {},
   "outputs": [
    {
     "name": "stdout",
     "output_type": "stream",
     "text": [
      "     breakfast calories\n",
      "day1      eggs   50 cal\n",
      "day2     bread  150 cal\n"
     ]
    }
   ],
   "source": [
    "print(dataset.loc[[\"day1\", \"day2\"]])\n"
   ]
  },
  {
   "cell_type": "markdown",
   "metadata": {},
   "source": [
    "## Load Files Into a DataFrame\n",
    "### If your data sets are stored in a file, Pandas can load them into a DataFrame."
   ]
  },
  {
   "cell_type": "markdown",
   "metadata": {},
   "source": [
    "### Read CSV Files"
   ]
  },
  {
   "cell_type": "code",
   "execution_count": 12,
   "metadata": {},
   "outputs": [
    {
     "name": "stdout",
     "output_type": "stream",
     "text": [
      "     Duration  Pulse  Maxpulse  Calories\n",
      "0          60    110       130     409.1\n",
      "1          60    117       145     479.0\n",
      "2          60    103       135     340.0\n",
      "3          45    109       175     282.4\n",
      "4          45    117       148     406.0\n",
      "..        ...    ...       ...       ...\n",
      "164        60    105       140     290.8\n",
      "165        60    110       145     300.0\n",
      "166        60    115       145     310.2\n",
      "167        75    120       150     320.4\n",
      "168        75    125       150     330.4\n",
      "\n",
      "[169 rows x 4 columns]\n"
     ]
    }
   ],
   "source": [
    "dataframe = pd.read_csv(\"E:\\MACHINE LEARNING\\DataSets\\CSV\\data.csv\")\n",
    "print(dataframe)\n"
   ]
  },
  {
   "cell_type": "code",
   "execution_count": 13,
   "metadata": {},
   "outputs": [
    {
     "name": "stdout",
     "output_type": "stream",
     "text": [
      "     Duration  Pulse  Maxpulse  Calories\n",
      "0          60    110       130     409.1\n",
      "1          60    117       145     479.0\n",
      "2          60    103       135     340.0\n",
      "3          45    109       175     282.4\n",
      "4          45    117       148     406.0\n",
      "5          60    102       127     300.0\n",
      "6          60    110       136     374.0\n",
      "7          45    104       134     253.3\n",
      "8          30    109       133     195.1\n",
      "9          60     98       124     269.0\n",
      "10         60    103       147     329.3\n",
      "11         60    100       120     250.7\n",
      "12         60    106       128     345.3\n",
      "13         60    104       132     379.3\n",
      "14         60     98       123     275.0\n",
      "15         60     98       120     215.2\n",
      "16         60    100       120     300.0\n",
      "17         45     90       112       NaN\n",
      "18         60    103       123     323.0\n",
      "19         45     97       125     243.0\n",
      "20         60    108       131     364.2\n",
      "21         45    100       119     282.0\n",
      "22         60    130       101     300.0\n",
      "23         45    105       132     246.0\n",
      "24         60    102       126     334.5\n",
      "25         60    100       120     250.0\n",
      "26         60     92       118     241.0\n",
      "27         60    103       132       NaN\n",
      "28         60    100       132     280.0\n",
      "29         60    102       129     380.3\n",
      "30         60     92       115     243.0\n",
      "31         45     90       112     180.1\n",
      "32         60    101       124     299.0\n",
      "33         60     93       113     223.0\n",
      "34         60    107       136     361.0\n",
      "35         60    114       140     415.0\n",
      "36         60    102       127     300.0\n",
      "37         60    100       120     300.0\n",
      "38         60    100       120     300.0\n",
      "39         45    104       129     266.0\n",
      "40         45     90       112     180.1\n",
      "41         60     98       126     286.0\n",
      "42         60    100       122     329.4\n",
      "43         60    111       138     400.0\n",
      "44         60    111       131     397.0\n",
      "45         60     99       119     273.0\n",
      "46         60    109       153     387.6\n",
      "47         45    111       136     300.0\n",
      "48         45    108       129     298.0\n",
      "49         60    111       139     397.6\n",
      "50         60    107       136     380.2\n",
      "51         80    123       146     643.1\n",
      "52         60    106       130     263.0\n",
      "53         60    118       151     486.0\n",
      "54         30    136       175     238.0\n",
      "55         60    121       146     450.7\n",
      "56         60    118       121     413.0\n",
      "57         45    115       144     305.0\n",
      "58         20    153       172     226.4\n",
      "59         45    123       152     321.0\n",
      "60        210    108       160    1376.0\n",
      "61        160    110       137    1034.4\n",
      "62        160    109       135     853.0\n",
      "63         45    118       141     341.0\n",
      "64         20    110       130     131.4\n",
      "65        180     90       130     800.4\n",
      "66        150    105       135     873.4\n",
      "67        150    107       130     816.0\n",
      "68         20    106       136     110.4\n",
      "69        300    108       143    1500.2\n",
      "70        150     97       129    1115.0\n",
      "71         60    109       153     387.6\n",
      "72         90    100       127     700.0\n",
      "73        150     97       127     953.2\n",
      "74         45    114       146     304.0\n",
      "75         90     98       125     563.2\n",
      "76         45    105       134     251.0\n",
      "77         45    110       141     300.0\n",
      "78        120    100       130     500.4\n",
      "79        270    100       131    1729.0\n",
      "80         30    159       182     319.2\n",
      "81         45    149       169     344.0\n",
      "82         30    103       139     151.1\n",
      "83        120    100       130     500.0\n",
      "84         45    100       120     225.3\n",
      "85         30    151       170     300.0\n",
      "86         45    102       136     234.0\n",
      "87        120    100       157    1000.1\n",
      "88         45    129       103     242.0\n",
      "89         20     83       107      50.3\n",
      "90        180    101       127     600.1\n",
      "91         45    107       137       NaN\n",
      "92         30     90       107     105.3\n",
      "93         15     80       100      50.5\n",
      "94         20    150       171     127.4\n",
      "95         20    151       168     229.4\n",
      "96         30     95       128     128.2\n",
      "97         25    152       168     244.2\n",
      "98         30    109       131     188.2\n",
      "99         90     93       124     604.1\n",
      "100        20     95       112      77.7\n",
      "101        90     90       110     500.0\n",
      "102        90     90       100     500.0\n",
      "103        90     90       100     500.4\n",
      "104        30     92       108      92.7\n",
      "105        30     93       128     124.0\n",
      "106       180     90       120     800.3\n",
      "107        30     90       120      86.2\n",
      "108        90     90       120     500.3\n",
      "109       210    137       184    1860.4\n",
      "110        60    102       124     325.2\n",
      "111        45    107       124     275.0\n",
      "112        15    124       139     124.2\n",
      "113        45    100       120     225.3\n",
      "114        60    108       131     367.6\n",
      "115        60    108       151     351.7\n",
      "116        60    116       141     443.0\n",
      "117        60     97       122     277.4\n",
      "118        60    105       125       NaN\n",
      "119        60    103       124     332.7\n",
      "120        30    112       137     193.9\n",
      "121        45    100       120     100.7\n",
      "122        60    119       169     336.7\n",
      "123        60    107       127     344.9\n",
      "124        60    111       151     368.5\n",
      "125        60     98       122     271.0\n",
      "126        60     97       124     275.3\n",
      "127        60    109       127     382.0\n",
      "128        90     99       125     466.4\n",
      "129        60    114       151     384.0\n",
      "130        60    104       134     342.5\n",
      "131        60    107       138     357.5\n",
      "132        60    103       133     335.0\n",
      "133        60    106       132     327.5\n",
      "134        60    103       136     339.0\n",
      "135        20    136       156     189.0\n",
      "136        45    117       143     317.7\n",
      "137        45    115       137     318.0\n",
      "138        45    113       138     308.0\n",
      "139        20    141       162     222.4\n",
      "140        60    108       135     390.0\n",
      "141        60     97       127       NaN\n",
      "142        45    100       120     250.4\n",
      "143        45    122       149     335.4\n",
      "144        60    136       170     470.2\n",
      "145        45    106       126     270.8\n",
      "146        60    107       136     400.0\n",
      "147        60    112       146     361.9\n",
      "148        30    103       127     185.0\n",
      "149        60    110       150     409.4\n",
      "150        60    106       134     343.0\n",
      "151        60    109       129     353.2\n",
      "152        60    109       138     374.0\n",
      "153        30    150       167     275.8\n",
      "154        60    105       128     328.0\n",
      "155        60    111       151     368.5\n",
      "156        60     97       131     270.4\n",
      "157        60    100       120     270.4\n",
      "158        60    114       150     382.8\n",
      "159        30     80       120     240.9\n",
      "160        30     85       120     250.4\n",
      "161        45     90       130     260.4\n",
      "162        45     95       130     270.0\n",
      "163        45    100       140     280.9\n",
      "164        60    105       140     290.8\n",
      "165        60    110       145     300.0\n",
      "166        60    115       145     310.2\n",
      "167        75    120       150     320.4\n",
      "168        75    125       150     330.4\n"
     ]
    }
   ],
   "source": [
    "dataframe = pd.read_csv(\"E:\\MACHINE LEARNING\\DataSets\\CSV\\data.csv\")\n",
    "print(dataframe.to_string())\n"
   ]
  },
  {
   "cell_type": "markdown",
   "metadata": {},
   "source": [
    "# Reading & Saving "
   ]
  },
  {
   "cell_type": "code",
   "execution_count": 53,
   "metadata": {},
   "outputs": [],
   "source": [
    "import pandas as pd \n",
    "   \n",
    "# list of name, degree, score\n",
    "nme = [\"aparna\", \"pankaj\", \"sudhir\", \"Geeku\"]\n",
    "deg = [\"MBA\", \"BCA\", \"M.Tech\", \"MBA\"]\n",
    "scr = [90, 40, 80, 98]\n",
    "   \n",
    "# dictionary of lists \n",
    "dict = {'name': nme, 'degree': deg, 'score': scr} \n",
    "     \n",
    "df = pd.DataFrame(dict)\n",
    "  \n",
    "# saving the dataframe\n",
    "df.to_csv(r'E:\\MACHINE LEARNING\\DataSets\\CSV\\file3.csv', index=False)\n"
   ]
  },
  {
   "cell_type": "markdown",
   "metadata": {},
   "source": [
    "# Adding Rows To DataFrame"
   ]
  },
  {
   "cell_type": "code",
   "execution_count": 55,
   "metadata": {},
   "outputs": [
    {
     "name": "stdout",
     "output_type": "stream",
     "text": [
      "     outlook  temp humidity  windy play\n",
      "0      sunny   hot     high  False   no\n",
      "1   overcast  mild     high   true  yes\n",
      "2   overcast   hot     high  False  yes\n",
      "3      rainy  mild     high  False  yes\n",
      "4      rainy  cool   normal  False  yes\n",
      "5      rainy  cool   normal   True   no\n",
      "6   overcast  cool   normal   True  yes\n",
      "7      sunny  mild     high  False   no\n",
      "8      sunny  cool   normal  False  yes\n",
      "9      rainy  mild   normal  False  yes\n",
      "10     sunny  mild   normal   True  yes\n",
      "11  overcast  mild     high   True  yes\n",
      "12  overcast   hot   normal  False  yes\n",
      "13     rainy  mild     high   True   no\n",
      "14     sunny  mild     high   true  yes\n"
     ]
    }
   ],
   "source": [
    "dataframe = pd.read_csv(\"E:\\MACHINE LEARNING\\DataSets\\CSV\\\\tennis.csv\")\n",
    "\n",
    "dataframe.loc[len(dataframe.index)] = [\"sunny\", \"mild\", \"high\", \"true\", \"yes\"]\n",
    "\n",
    "\n",
    "dataframe.loc[1] = [\"overcast\", \"mild\", \"high\", \"true\", \"yes\"]\n",
    "print(dataframe.to_string())\n"
   ]
  },
  {
   "cell_type": "code",
   "execution_count": 16,
   "metadata": {},
   "outputs": [
    {
     "name": "stdout",
     "output_type": "stream",
     "text": [
      "     outlook  temp humidity  windy play\n",
      "0      sunny   hot     high  False   no\n",
      "1      sunny   hot     high   True   no\n",
      "2   overcast   hot     high  False  yes\n",
      "3      rainy  mild     high  False  yes\n",
      "4      rainy  cool   normal  False  yes\n",
      "5      rainy  cool   normal   True   no\n",
      "6   overcast  cool   normal   True  yes\n",
      "7      sunny  mild     high  False   no\n",
      "8      sunny  cool   normal  False  yes\n",
      "9      rainy  mild   normal  False  yes\n",
      "10     sunny  mild   normal   True  yes\n",
      "11  overcast  mild     high   True  yes\n",
      "12  overcast   hot   normal  False  yes\n",
      "13     rainy  mild     high   True   no\n",
      "14     sunny  mild     high   true  yes\n"
     ]
    }
   ],
   "source": [
    "dataframe = pd.read_csv(\"E:\\MACHINE LEARNING\\DataSets\\CSV\\\\tennis.csv\")\n",
    "x = {\"outlook\":\"sunny\",  \"temp\":\"mild\", \"humidity\":\"high\",  \"windy\":\"true\", \"play\":\"yes\"}\n",
    "df = dataframe.append(x,ignore_index = True)\n",
    "print(df.to_string())\n"
   ]
  },
  {
   "cell_type": "markdown",
   "metadata": {},
   "source": [
    "# Adding Columns In DataFrames"
   ]
  },
  {
   "cell_type": "code",
   "execution_count": 17,
   "metadata": {},
   "outputs": [
    {
     "name": "stdout",
     "output_type": "stream",
     "text": [
      "[0, 1, 2, 3, 4, 5, 6, 7, 8, 9, 10, 11, 12, 13]\n",
      "     outlook  temp humidity  windy play  Rating\n",
      "0      sunny   hot     high  False   no       0\n",
      "1      sunny   hot     high   True   no       1\n",
      "2   overcast   hot     high  False  yes       2\n",
      "3      rainy  mild     high  False  yes       3\n",
      "4      rainy  cool   normal  False  yes       4\n",
      "5      rainy  cool   normal   True   no       5\n",
      "6   overcast  cool   normal   True  yes       6\n",
      "7      sunny  mild     high  False   no       7\n",
      "8      sunny  cool   normal  False  yes       8\n",
      "9      rainy  mild   normal  False  yes       9\n",
      "10     sunny  mild   normal   True  yes      10\n",
      "11  overcast  mild     high   True  yes      11\n",
      "12  overcast   hot   normal  False  yes      12\n",
      "13     rainy  mild     high   True   no      13\n"
     ]
    }
   ],
   "source": [
    "dataframe = pd.read_csv(\"E:\\MACHINE LEARNING\\DataSets\\CSV\\\\tennis.csv\")\n",
    "rating = []\n",
    "for i in range(0,14):\n",
    "        rating.append(i)\n",
    "print(rating)\n",
    "\n",
    "dataframe[\"Rating\"] = rating\n",
    "print(dataframe)"
   ]
  },
  {
   "cell_type": "code",
   "execution_count": 18,
   "metadata": {},
   "outputs": [
    {
     "name": "stdout",
     "output_type": "stream",
     "text": [
      "     Name  Height  Age Qualification\n",
      "0     Jai     5.1   21           Msc\n",
      "1  Princi     6.2   23            MA\n",
      "2  Gaurav     5.1   24           Msc\n",
      "3    Anuj     5.2   21           Msc\n"
     ]
    }
   ],
   "source": [
    "data = {'Name': ['Jai', 'Princi', 'Gaurav', 'Anuj'],\n",
    "        'Height': [5.1, 6.2, 5.1, 5.2],\n",
    "        'Qualification': ['Msc', 'MA', 'Msc', 'Msc']}\n",
    " \n",
    "# Convert the dictionary into DataFrame\n",
    "df = pd.DataFrame(data)\n",
    " \n",
    "# Using DataFrame.insert() to add a column\n",
    "df.insert(2, \"Age\", [21, 23, 24, 21])\n",
    "print(df)"
   ]
  },
  {
   "cell_type": "markdown",
   "metadata": {},
   "source": [
    "# Deleting Rows From DataFrame"
   ]
  },
  {
   "cell_type": "code",
   "execution_count": 19,
   "metadata": {},
   "outputs": [
    {
     "name": "stdout",
     "output_type": "stream",
     "text": [
      "          temp humidity  windy play\n",
      "outlook                            \n",
      "overcast   hot     high  False  yes\n",
      "rainy     mild     high  False  yes\n",
      "rainy     cool   normal  False  yes\n",
      "rainy     cool   normal   True   no\n",
      "overcast  cool   normal   True  yes\n",
      "rainy     mild   normal  False  yes\n",
      "overcast  mild     high   True  yes\n",
      "overcast   hot   normal  False  yes\n",
      "rainy     mild     high   True   no\n"
     ]
    }
   ],
   "source": [
    "#index_col make the col as index otherwise default start from 0\n",
    "dataframe = pd.read_csv(\"E:\\MACHINE LEARNING\\DataSets\\CSV\\\\tennis.csv\",index_col = \"outlook\")\n",
    "# remove all rows whose outlook is sunny \n",
    "dataframe.drop(\"sunny\",inplace = True)\n",
    "print(dataframe.to_string())"
   ]
  },
  {
   "cell_type": "markdown",
   "metadata": {},
   "source": [
    "# Deleting Columns From DataFrame"
   ]
  },
  {
   "cell_type": "code",
   "execution_count": 60,
   "metadata": {},
   "outputs": [
    {
     "name": "stdout",
     "output_type": "stream",
     "text": [
      "    temp humidity play\n",
      "0    hot     high   no\n",
      "1    hot     high   no\n",
      "2    hot     high  yes\n",
      "3   mild     high  yes\n",
      "4   cool   normal  yes\n",
      "5   cool   normal   no\n",
      "6   cool   normal  yes\n",
      "7   mild     high   no\n",
      "8   cool   normal  yes\n",
      "9   mild   normal  yes\n",
      "10  mild   normal  yes\n",
      "11  mild     high  yes\n",
      "12   hot   normal  yes\n",
      "13  mild     high   no\n"
     ]
    }
   ],
   "source": [
    "dataframe = pd.read_csv(\"E:\\MACHINE LEARNING\\DataSets\\CSV\\\\tennis.csv\")\n",
    "# remove all columns whose labell is specified (outlook and windy)\n",
    "dataframe.drop([\"outlook\",\"windy\"],axis=1,inplace=True)\n",
    "print(dataframe.to_string())"
   ]
  },
  {
   "cell_type": "code",
   "execution_count": 21,
   "metadata": {},
   "outputs": [
    {
     "name": "stdout",
     "output_type": "stream",
     "text": [
      "Max Rows Print In O/P:  60\n",
      "     Unnamed: 0  Duration  Pulse  Maxpulse  Calories\n",
      "0             0        60    110       130     409.1\n",
      "1             1        60    117       145     479.0\n",
      "2             2        60    103       135     340.0\n",
      "3             3        45    109       175     282.4\n",
      "4             4        45    117       148     406.0\n",
      "5             5        60    102       127     300.0\n",
      "6             6        60    110       136     374.0\n",
      "7             7        45    104       134     253.3\n",
      "8             8        30    109       133     195.1\n",
      "9             9        60     98       124     269.0\n",
      "10           10        60    103       147     329.3\n",
      "11           11        60    100       120     250.7\n",
      "12           12        60    106       128     345.3\n",
      "13           13        60    104       132     379.3\n",
      "14           14        60     98       123     275.0\n",
      "15           15        60     98       120     215.2\n",
      "16           16        60    100       120     300.0\n",
      "17           17        45     90       112       NaN\n",
      "18           18        60    103       123     323.0\n",
      "19           19        45     97       125     243.0\n",
      "20           20        60    108       131     364.2\n",
      "21           21        45    100       119     282.0\n",
      "22           22        60    130       101     300.0\n",
      "23           23        45    105       132     246.0\n",
      "24           24        60    102       126     334.5\n",
      "25           25        60    100       120     250.0\n",
      "26           26        60     92       118     241.0\n",
      "27           27        60    103       132       NaN\n",
      "28           28        60    100       132     280.0\n",
      "29           29        60    102       129     380.3\n",
      "30           30        60     92       115     243.0\n",
      "31           31        45     90       112     180.1\n",
      "32           32        60    101       124     299.0\n",
      "33           33        60     93       113     223.0\n",
      "34           34        60    107       136     361.0\n",
      "35           35        60    114       140     415.0\n",
      "36           36        60    102       127     300.0\n",
      "37           37        60    100       120     300.0\n",
      "38           38        60    100       120     300.0\n",
      "39           39        45    104       129     266.0\n",
      "40           40        45     90       112     180.1\n",
      "41           41        60     98       126     286.0\n",
      "42           42        60    100       122     329.4\n",
      "43           43        60    111       138     400.0\n",
      "44           44        60    111       131     397.0\n",
      "45           45        60     99       119     273.0\n",
      "46           46        60    109       153     387.6\n",
      "47           47        45    111       136     300.0\n",
      "48           48        45    108       129     298.0\n",
      "49           49        60    111       139     397.6\n",
      "50           50        60    107       136     380.2\n",
      "51           51        80    123       146     643.1\n",
      "52           52        60    106       130     263.0\n",
      "53           53        60    118       151     486.0\n",
      "54           54        30    136       175     238.0\n",
      "55           55        60    121       146     450.7\n",
      "56           56        60    118       121     413.0\n",
      "57           57        45    115       144     305.0\n",
      "58           58        20    153       172     226.4\n",
      "59           59        45    123       152     321.0\n",
      "60           60       210    108       160    1376.0\n",
      "61           61       160    110       137    1034.4\n",
      "62           62       160    109       135     853.0\n",
      "63           63        45    118       141     341.0\n",
      "64           64        20    110       130     131.4\n",
      "65           65       180     90       130     800.4\n",
      "66           66       150    105       135     873.4\n",
      "67           67       150    107       130     816.0\n",
      "68           68        20    106       136     110.4\n",
      "69           69       300    108       143    1500.2\n",
      "70           70       150     97       129    1115.0\n",
      "71           71        60    109       153     387.6\n",
      "72           72        90    100       127     700.0\n",
      "73           73       150     97       127     953.2\n",
      "74           74        45    114       146     304.0\n",
      "75           75        90     98       125     563.2\n",
      "76           76        45    105       134     251.0\n",
      "77           77        45    110       141     300.0\n",
      "78           78       120    100       130     500.4\n",
      "79           79       270    100       131    1729.0\n",
      "80           80        30    159       182     319.2\n",
      "81           81        45    149       169     344.0\n",
      "82           82        30    103       139     151.1\n",
      "83           83       120    100       130     500.0\n",
      "84           84        45    100       120     225.3\n",
      "85           85        30    151       170     300.0\n",
      "86           86        45    102       136     234.0\n",
      "87           87       120    100       157    1000.1\n",
      "88           88        45    129       103     242.0\n",
      "89           89        20     83       107      50.3\n",
      "90           90       180    101       127     600.1\n",
      "91           91        45    107       137       NaN\n",
      "92           92        30     90       107     105.3\n",
      "93           93        15     80       100      50.5\n",
      "94           94        20    150       171     127.4\n",
      "95           95        20    151       168     229.4\n",
      "96           96        30     95       128     128.2\n",
      "97           97        25    152       168     244.2\n",
      "98           98        30    109       131     188.2\n",
      "99           99        90     93       124     604.1\n",
      "100         100        20     95       112      77.7\n",
      "101         101        90     90       110     500.0\n",
      "102         102        90     90       100     500.0\n",
      "103         103        90     90       100     500.4\n",
      "104         104        30     92       108      92.7\n",
      "105         105        30     93       128     124.0\n",
      "106         106       180     90       120     800.3\n",
      "107         107        30     90       120      86.2\n",
      "108         108        90     90       120     500.3\n",
      "109         109       210    137       184    1860.4\n",
      "110         110        60    102       124     325.2\n",
      "111         111        45    107       124     275.0\n",
      "112         112        15    124       139     124.2\n",
      "113         113        45    100       120     225.3\n",
      "114         114        60    108       131     367.6\n",
      "115         115        60    108       151     351.7\n",
      "116         116        60    116       141     443.0\n",
      "117         117        60     97       122     277.4\n",
      "118         118        60    105       125       NaN\n",
      "119         119        60    103       124     332.7\n",
      "120         120        30    112       137     193.9\n",
      "121         121        45    100       120     100.7\n",
      "122         122        60    119       169     336.7\n",
      "123         123        60    107       127     344.9\n",
      "124         124        60    111       151     368.5\n",
      "125         125        60     98       122     271.0\n",
      "126         126        60     97       124     275.3\n",
      "127         127        60    109       127     382.0\n",
      "128         128        90     99       125     466.4\n",
      "129         129        60    114       151     384.0\n",
      "130         130        60    104       134     342.5\n",
      "131         131        60    107       138     357.5\n",
      "132         132        60    103       133     335.0\n",
      "133         133        60    106       132     327.5\n",
      "134         134        60    103       136     339.0\n",
      "135         135        20    136       156     189.0\n",
      "136         136        45    117       143     317.7\n",
      "137         137        45    115       137     318.0\n",
      "138         138        45    113       138     308.0\n",
      "139         139        20    141       162     222.4\n",
      "140         140        60    108       135     390.0\n",
      "141         141        60     97       127       NaN\n",
      "142         142        45    100       120     250.4\n",
      "143         143        45    122       149     335.4\n",
      "144         144        60    136       170     470.2\n",
      "145         145        45    106       126     270.8\n",
      "146         146        60    107       136     400.0\n",
      "147         147        60    112       146     361.9\n",
      "148         148        30    103       127     185.0\n",
      "149         149        60    110       150     409.4\n",
      "150         150        60    106       134     343.0\n",
      "151         151        60    109       129     353.2\n",
      "152         152        60    109       138     374.0\n",
      "153         153        30    150       167     275.8\n",
      "154         154        60    105       128     328.0\n",
      "155         155        60    111       151     368.5\n",
      "156         156        60     97       131     270.4\n",
      "157         157        60    100       120     270.4\n",
      "158         158        60    114       150     382.8\n",
      "159         159        30     80       120     240.9\n",
      "160         160        30     85       120     250.4\n",
      "161         161        45     90       130     260.4\n",
      "162         162        45     95       130     270.0\n",
      "163         163        45    100       140     280.9\n",
      "164         164        60    105       140     290.8\n",
      "165         165        60    110       145     300.0\n",
      "166         166        60    115       145     310.2\n",
      "167         167        75    120       150     320.4\n",
      "168         168        75    125       150     330.4\n"
     ]
    }
   ],
   "source": [
    "dataframe = pd.read_csv(\"E:\\MACHINE LEARNING\\DataSets\\CSV\\data.csv\")\n",
    "print(\"Max Rows Print In O/P: \", pd.options.display.max_rows)\n",
    "\n",
    "pd.options.display.max_rows = 999\n",
    "print(dataframe)\n"
   ]
  },
  {
   "cell_type": "markdown",
   "metadata": {},
   "source": [
    "### Read JSON\n",
    "#### Big data sets are often stored, or extracted as JSON.\n",
    "#### JSON is plain text, but has the format of an object, and is well known in the world of programming, including Pandas."
   ]
  },
  {
   "cell_type": "code",
   "execution_count": 22,
   "metadata": {},
   "outputs": [
    {
     "name": "stdout",
     "output_type": "stream",
     "text": [
      "     Duration  Pulse  Maxpulse  Calories\n",
      "0          60    110       130     409.1\n",
      "1          60    117       145     479.0\n",
      "2          60    103       135     340.0\n",
      "3          45    109       175     282.4\n",
      "4          45    117       148     406.0\n",
      "5          60    102       127     300.5\n",
      "6          60    110       136     374.0\n",
      "7          45    104       134     253.3\n",
      "8          30    109       133     195.1\n",
      "9          60     98       124     269.0\n",
      "10         60    103       147     329.3\n",
      "11         60    100       120     250.7\n",
      "12         60    106       128     345.3\n",
      "13         60    104       132     379.3\n",
      "14         60     98       123     275.0\n",
      "15         60     98       120     215.2\n",
      "16         60    100       120     300.0\n",
      "17         45     90       112       NaN\n",
      "18         60    103       123     323.0\n",
      "19         45     97       125     243.0\n",
      "20         60    108       131     364.2\n",
      "21         45    100       119     282.0\n",
      "22         60    130       101     300.0\n",
      "23         45    105       132     246.0\n",
      "24         60    102       126     334.5\n",
      "25         60    100       120     250.0\n",
      "26         60     92       118     241.0\n",
      "27         60    103       132       NaN\n",
      "28         60    100       132     280.0\n",
      "29         60    102       129     380.3\n",
      "30         60     92       115     243.0\n",
      "31         45     90       112     180.1\n",
      "32         60    101       124     299.0\n",
      "33         60     93       113     223.0\n",
      "34         60    107       136     361.0\n",
      "35         60    114       140     415.0\n",
      "36         60    102       127     300.5\n",
      "37         60    100       120     300.1\n",
      "38         60    100       120     300.0\n",
      "39         45    104       129     266.0\n",
      "40         45     90       112     180.1\n",
      "41         60     98       126     286.0\n",
      "42         60    100       122     329.4\n",
      "43         60    111       138     400.0\n",
      "44         60    111       131     397.0\n",
      "45         60     99       119     273.0\n",
      "46         60    109       153     387.6\n",
      "47         45    111       136     300.0\n",
      "48         45    108       129     298.0\n",
      "49         60    111       139     397.6\n",
      "50         60    107       136     380.2\n",
      "51         80    123       146     643.1\n",
      "52         60    106       130     263.0\n",
      "53         60    118       151     486.0\n",
      "54         30    136       175     238.0\n",
      "55         60    121       146     450.7\n",
      "56         60    118       121     413.0\n",
      "57         45    115       144     305.0\n",
      "58         20    153       172     226.4\n",
      "59         45    123       152     321.0\n",
      "60        210    108       160    1376.0\n",
      "61        160    110       137    1034.4\n",
      "62        160    109       135     853.0\n",
      "63         45    118       141     341.0\n",
      "64         20    110       130     131.4\n",
      "65        180     90       130     800.4\n",
      "66        150    105       135     873.4\n",
      "67        150    107       130     816.0\n",
      "68         20    106       136     110.4\n",
      "69        300    108       143    1500.2\n",
      "70        150     97       129    1115.0\n",
      "71         60    109       153     387.6\n",
      "72         90    100       127     700.0\n",
      "73        150     97       127     953.2\n",
      "74         45    114       146     304.0\n",
      "75         90     98       125     563.2\n",
      "76         45    105       134     251.0\n",
      "77         45    110       141     300.0\n",
      "78        120    100       130     500.4\n",
      "79        270    100       131    1729.0\n",
      "80         30    159       182     319.2\n",
      "81         45    149       169     344.0\n",
      "82         30    103       139     151.1\n",
      "83        120    100       130     500.0\n",
      "84         45    100       120     225.3\n",
      "85         30    151       170     300.1\n",
      "86         45    102       136     234.0\n",
      "87        120    100       157    1000.1\n",
      "88         45    129       103     242.0\n",
      "89         20     83       107      50.3\n",
      "90        180    101       127     600.1\n",
      "91         45    107       137       NaN\n",
      "92         30     90       107     105.3\n",
      "93         15     80       100      50.5\n",
      "94         20    150       171     127.4\n",
      "95         20    151       168     229.4\n",
      "96         30     95       128     128.2\n",
      "97         25    152       168     244.2\n",
      "98         30    109       131     188.2\n",
      "99         90     93       124     604.1\n",
      "100        20     95       112      77.7\n",
      "101        90     90       110     500.0\n",
      "102        90     90       100     500.0\n",
      "103        90     90       100     500.4\n",
      "104        30     92       108      92.7\n",
      "105        30     93       128     124.0\n",
      "106       180     90       120     800.3\n",
      "107        30     90       120      86.2\n",
      "108        90     90       120     500.3\n",
      "109       210    137       184    1860.4\n",
      "110        60    102       124     325.2\n",
      "111        45    107       124     275.0\n",
      "112        15    124       139     124.2\n",
      "113        45    100       120     225.3\n",
      "114        60    108       131     367.6\n",
      "115        60    108       151     351.7\n",
      "116        60    116       141     443.0\n",
      "117        60     97       122     277.4\n",
      "118        60    105       125       NaN\n",
      "119        60    103       124     332.7\n",
      "120        30    112       137     193.9\n",
      "121        45    100       120     100.7\n",
      "122        60    119       169     336.7\n",
      "123        60    107       127     344.9\n",
      "124        60    111       151     368.5\n",
      "125        60     98       122     271.0\n",
      "126        60     97       124     275.3\n",
      "127        60    109       127     382.0\n",
      "128        90     99       125     466.4\n",
      "129        60    114       151     384.0\n",
      "130        60    104       134     342.5\n",
      "131        60    107       138     357.5\n",
      "132        60    103       133     335.0\n",
      "133        60    106       132     327.5\n",
      "134        60    103       136     339.0\n",
      "135        20    136       156     189.0\n",
      "136        45    117       143     317.7\n",
      "137        45    115       137     318.0\n",
      "138        45    113       138     308.0\n",
      "139        20    141       162     222.4\n",
      "140        60    108       135     390.0\n",
      "141        60     97       127       NaN\n",
      "142        45    100       120     250.4\n",
      "143        45    122       149     335.4\n",
      "144        60    136       170     470.2\n",
      "145        45    106       126     270.8\n",
      "146        60    107       136     400.0\n",
      "147        60    112       146     361.9\n",
      "148        30    103       127     185.0\n",
      "149        60    110       150     409.4\n",
      "150        60    106       134     343.0\n",
      "151        60    109       129     353.2\n",
      "152        60    109       138     374.0\n",
      "153        30    150       167     275.8\n",
      "154        60    105       128     328.0\n",
      "155        60    111       151     368.5\n",
      "156        60     97       131     270.4\n",
      "157        60    100       120     270.4\n",
      "158        60    114       150     382.8\n",
      "159        30     80       120     240.9\n",
      "160        30     85       120     250.4\n",
      "161        45     90       130     260.4\n",
      "162        45     95       130     270.0\n",
      "163        45    100       140     280.9\n",
      "164        60    105       140     290.8\n",
      "165        60    110       145     300.4\n",
      "166        60    115       145     310.2\n",
      "167        75    120       150     320.4\n",
      "168        75    125       150     330.4\n"
     ]
    }
   ],
   "source": [
    "df = pd.read_json(\"E:\\MACHINE LEARNING\\DataSets\\JSON\\data.json\")\n",
    "print(df)\n"
   ]
  },
  {
   "cell_type": "code",
   "execution_count": 23,
   "metadata": {},
   "outputs": [
    {
     "name": "stdout",
     "output_type": "stream",
     "text": [
      "   Duration  Pulse\n",
      "0        60    110\n",
      "1        60    117\n",
      "2        60    103\n",
      "3        45    109\n",
      "4        45    117\n",
      "5        60    102\n"
     ]
    }
   ],
   "source": [
    "data = {\n",
    "    \"Duration\": {\n",
    "        \"0\": 60,\n",
    "        \"1\": 60,\n",
    "        \"2\": 60,\n",
    "        \"3\": 45,\n",
    "        \"4\": 45,\n",
    "        \"5\": 60\n",
    "    },\n",
    "    \"Pulse\": {\n",
    "        \"0\": 110,\n",
    "        \"1\": 117,\n",
    "        \"2\": 103,\n",
    "        \"3\": 109,\n",
    "        \"4\": 117,\n",
    "        \"5\": 102\n",
    "    }\n",
    "}\n",
    "df = pd.DataFrame(data)\n",
    "print(df)\n"
   ]
  },
  {
   "cell_type": "markdown",
   "metadata": {},
   "source": [
    "## Analyzing DataFrames"
   ]
  },
  {
   "cell_type": "code",
   "execution_count": 24,
   "metadata": {},
   "outputs": [
    {
     "name": "stdout",
     "output_type": "stream",
     "text": [
      "   Duration  Pulse  Maxpulse  Calories\n",
      "0        60    110       130     409.1\n",
      "1        60    117       145     479.0\n",
      "2        60    103       135     340.0\n",
      "3        45    109       175     282.4\n",
      "4        45    117       148     406.0\n"
     ]
    }
   ],
   "source": [
    "df = pd.read_json(\"E:\\MACHINE LEARNING\\DataSets\\JSON\\data.json\")\n",
    "print(df.head())  # Will Show Only First 5 Rows\n"
   ]
  },
  {
   "cell_type": "code",
   "execution_count": 25,
   "metadata": {},
   "outputs": [
    {
     "name": "stdout",
     "output_type": "stream",
     "text": [
      "   Duration  Pulse  Maxpulse  Calories\n",
      "0        60    110       130     409.1\n",
      "1        60    117       145     479.0\n",
      "2        60    103       135     340.0\n",
      "3        45    109       175     282.4\n",
      "4        45    117       148     406.0\n",
      "5        60    102       127     300.5\n",
      "6        60    110       136     374.0\n",
      "7        45    104       134     253.3\n",
      "8        30    109       133     195.1\n",
      "9        60     98       124     269.0\n"
     ]
    }
   ],
   "source": [
    "df = pd.read_json(\"E:\\MACHINE LEARNING\\DataSets\\JSON\\data.json\")\n",
    "print(df.head(10))  # Will Show Only First 10 Rows\n"
   ]
  },
  {
   "cell_type": "code",
   "execution_count": 26,
   "metadata": {},
   "outputs": [
    {
     "name": "stdout",
     "output_type": "stream",
     "text": [
      "     Duration  Pulse  Maxpulse  Calories\n",
      "164        60    105       140     290.8\n",
      "165        60    110       145     300.4\n",
      "166        60    115       145     310.2\n",
      "167        75    120       150     320.4\n",
      "168        75    125       150     330.4\n"
     ]
    }
   ],
   "source": [
    "df = pd.read_json(\"E:\\MACHINE LEARNING\\DataSets\\JSON\\data.json\")\n",
    "print(df.tail())  # Will Show Only last 5 Rows\n"
   ]
  },
  {
   "cell_type": "code",
   "execution_count": 27,
   "metadata": {},
   "outputs": [
    {
     "name": "stdout",
     "output_type": "stream",
     "text": [
      "     Duration  Pulse  Maxpulse  Calories\n",
      "159        30     80       120     240.9\n",
      "160        30     85       120     250.4\n",
      "161        45     90       130     260.4\n",
      "162        45     95       130     270.0\n",
      "163        45    100       140     280.9\n",
      "164        60    105       140     290.8\n",
      "165        60    110       145     300.4\n",
      "166        60    115       145     310.2\n",
      "167        75    120       150     320.4\n",
      "168        75    125       150     330.4\n"
     ]
    }
   ],
   "source": [
    "df = pd.read_json(\"E:\\MACHINE LEARNING\\DataSets\\JSON\\data.json\")\n",
    "print(df.tail(10))  # Will Show Only last 10 Rows\n"
   ]
  },
  {
   "cell_type": "code",
   "execution_count": 28,
   "metadata": {},
   "outputs": [
    {
     "name": "stdout",
     "output_type": "stream",
     "text": [
      "<class 'pandas.core.frame.DataFrame'>\n",
      "Int64Index: 169 entries, 0 to 168\n",
      "Data columns (total 4 columns):\n",
      " #   Column    Non-Null Count  Dtype  \n",
      "---  ------    --------------  -----  \n",
      " 0   Duration  169 non-null    int64  \n",
      " 1   Pulse     169 non-null    int64  \n",
      " 2   Maxpulse  169 non-null    int64  \n",
      " 3   Calories  164 non-null    float64\n",
      "dtypes: float64(1), int64(3)\n",
      "memory usage: 6.6 KB\n",
      "None\n"
     ]
    }
   ],
   "source": [
    "# The DataFrames object has a method called info(), that gives you more information about the data set.\n",
    "# Print information about the data:\n",
    "print(df.info())\n"
   ]
  },
  {
   "cell_type": "markdown",
   "metadata": {},
   "source": [
    "## Sorting a DataFrame\n",
    "#### To sort the DataFrame based on the values in a single column, use .sort_values(). By default, this will return a new DataFrame sorted in ascending order. It does not modify the original DataFrame.\n"
   ]
  },
  {
   "cell_type": "code",
   "execution_count": 66,
   "metadata": {},
   "outputs": [
    {
     "name": "stdout",
     "output_type": "stream",
     "text": [
      "     Duration  Pulse  Maxpulse  Calories\n",
      "89         20     83       107      50.3\n",
      "93         15     80       100      50.5\n",
      "100        20     95       112      77.7\n",
      "107        30     90       120      86.2\n",
      "104        30     92       108      92.7\n",
      "121        45    100       120     100.7\n",
      "92         30     90       107     105.3\n",
      "68         20    106       136     110.4\n",
      "105        30     93       128     124.0\n",
      "112        15    124       139     124.2\n",
      "94         20    150       171     127.4\n",
      "96         30     95       128     128.2\n",
      "64         20    110       130     131.4\n",
      "82         30    103       139     151.1\n",
      "31         45     90       112     180.1\n",
      "40         45     90       112     180.1\n",
      "148        30    103       127     185.0\n",
      "98         30    109       131     188.2\n",
      "135        20    136       156     189.0\n",
      "120        30    112       137     193.9\n",
      "8          30    109       133     195.1\n",
      "15         60     98       120     215.2\n",
      "139        20    141       162     222.4\n",
      "33         60     93       113     223.0\n",
      "113        45    100       120     225.3\n",
      "84         45    100       120     225.3\n",
      "58         20    153       172     226.4\n",
      "95         20    151       168     229.4\n",
      "86         45    102       136     234.0\n",
      "54         30    136       175     238.0\n",
      "159        30     80       120     240.9\n",
      "26         60     92       118     241.0\n",
      "88         45    129       103     242.0\n",
      "30         60     92       115     243.0\n",
      "19         45     97       125     243.0\n",
      "97         25    152       168     244.2\n",
      "23         45    105       132     246.0\n",
      "25         60    100       120     250.0\n",
      "142        45    100       120     250.4\n",
      "160        30     85       120     250.4\n",
      "11         60    100       120     250.7\n",
      "76         45    105       134     251.0\n",
      "7          45    104       134     253.3\n",
      "161        45     90       130     260.4\n",
      "52         60    106       130     263.0\n",
      "39         45    104       129     266.0\n",
      "9          60     98       124     269.0\n",
      "162        45     95       130     270.0\n",
      "157        60    100       120     270.4\n",
      "156        60     97       131     270.4\n",
      "145        45    106       126     270.8\n",
      "125        60     98       122     271.0\n",
      "45         60     99       119     273.0\n",
      "14         60     98       123     275.0\n",
      "111        45    107       124     275.0\n",
      "126        60     97       124     275.3\n",
      "153        30    150       167     275.8\n",
      "117        60     97       122     277.4\n",
      "28         60    100       132     280.0\n",
      "163        45    100       140     280.9\n",
      "21         45    100       119     282.0\n",
      "3          45    109       175     282.4\n",
      "41         60     98       126     286.0\n",
      "164        60    105       140     290.8\n",
      "48         45    108       129     298.0\n",
      "32         60    101       124     299.0\n",
      "47         45    111       136     300.0\n",
      "77         45    110       141     300.0\n",
      "16         60    100       120     300.0\n",
      "38         60    100       120     300.0\n",
      "22         60    130       101     300.0\n",
      "85         30    151       170     300.1\n",
      "37         60    100       120     300.1\n",
      "165        60    110       145     300.4\n",
      "36         60    102       127     300.5\n",
      "5          60    102       127     300.5\n",
      "74         45    114       146     304.0\n",
      "57         45    115       144     305.0\n",
      "138        45    113       138     308.0\n",
      "166        60    115       145     310.2\n",
      "136        45    117       143     317.7\n",
      "137        45    115       137     318.0\n",
      "80         30    159       182     319.2\n",
      "167        75    120       150     320.4\n",
      "59         45    123       152     321.0\n",
      "18         60    103       123     323.0\n",
      "110        60    102       124     325.2\n",
      "133        60    106       132     327.5\n",
      "154        60    105       128     328.0\n",
      "10         60    103       147     329.3\n",
      "42         60    100       122     329.4\n",
      "168        75    125       150     330.4\n",
      "119        60    103       124     332.7\n",
      "24         60    102       126     334.5\n",
      "132        60    103       133     335.0\n",
      "143        45    122       149     335.4\n",
      "122        60    119       169     336.7\n",
      "134        60    103       136     339.0\n",
      "2          60    103       135     340.0\n",
      "63         45    118       141     341.0\n",
      "130        60    104       134     342.5\n",
      "150        60    106       134     343.0\n",
      "81         45    149       169     344.0\n",
      "123        60    107       127     344.9\n",
      "12         60    106       128     345.3\n",
      "115        60    108       151     351.7\n",
      "151        60    109       129     353.2\n",
      "131        60    107       138     357.5\n",
      "34         60    107       136     361.0\n",
      "147        60    112       146     361.9\n",
      "20         60    108       131     364.2\n",
      "114        60    108       131     367.6\n",
      "155        60    111       151     368.5\n",
      "124        60    111       151     368.5\n",
      "152        60    109       138     374.0\n",
      "6          60    110       136     374.0\n",
      "13         60    104       132     379.3\n",
      "50         60    107       136     380.2\n",
      "29         60    102       129     380.3\n",
      "127        60    109       127     382.0\n",
      "158        60    114       150     382.8\n",
      "129        60    114       151     384.0\n",
      "71         60    109       153     387.6\n",
      "46         60    109       153     387.6\n",
      "140        60    108       135     390.0\n",
      "44         60    111       131     397.0\n",
      "49         60    111       139     397.6\n",
      "146        60    107       136     400.0\n",
      "43         60    111       138     400.0\n",
      "4          45    117       148     406.0\n",
      "0          60    110       130     409.1\n",
      "149        60    110       150     409.4\n",
      "56         60    118       121     413.0\n",
      "35         60    114       140     415.0\n",
      "116        60    116       141     443.0\n",
      "55         60    121       146     450.7\n",
      "128        90     99       125     466.4\n",
      "144        60    136       170     470.2\n",
      "1          60    117       145     479.0\n",
      "53         60    118       151     486.0\n",
      "83        120    100       130     500.0\n",
      "101        90     90       110     500.0\n",
      "102        90     90       100     500.0\n",
      "108        90     90       120     500.3\n",
      "78        120    100       130     500.4\n",
      "103        90     90       100     500.4\n",
      "75         90     98       125     563.2\n",
      "90        180    101       127     600.1\n",
      "99         90     93       124     604.1\n",
      "51         80    123       146     643.1\n",
      "72         90    100       127     700.0\n",
      "106       180     90       120     800.3\n",
      "65        180     90       130     800.4\n",
      "67        150    107       130     816.0\n",
      "62        160    109       135     853.0\n",
      "66        150    105       135     873.4\n",
      "73        150     97       127     953.2\n",
      "87        120    100       157    1000.1\n",
      "61        160    110       137    1034.4\n",
      "70        150     97       129    1115.0\n",
      "60        210    108       160    1376.0\n",
      "69        300    108       143    1500.2\n",
      "79        270    100       131    1729.0\n",
      "109       210    137       184    1860.4\n",
      "17         45     90       112       NaN\n",
      "27         60    103       132       NaN\n",
      "91         45    107       137       NaN\n",
      "118        60    105       125       NaN\n",
      "141        60     97       127       NaN\n"
     ]
    }
   ],
   "source": [
    "df = pd.read_json(\"E:\\MACHINE LEARNING\\DataSets\\JSON\\data.json\")\n",
    "# print(df)\n",
    "df.sort_values(\"Calories\", inplace = True)\n",
    "print(df)"
   ]
  },
  {
   "cell_type": "markdown",
   "metadata": {},
   "source": [
    "# Data Cleaning\n",
    "### Data cleaning means fixing bad data in your data set.\n",
    "#### Bad data could be:\n",
    "#### [1] Empty cells\n",
    "#### [2] Data in wrong format\n",
    "#### [3] Wrong data\n",
    "#### [4] Duplicates"
   ]
  },
  {
   "cell_type": "code",
   "execution_count": 29,
   "metadata": {},
   "outputs": [
    {
     "name": "stdout",
     "output_type": "stream",
     "text": [
      "    Duration          Date  Pulse  Maxpulse  Calories\n",
      "0         60  '2020/12/01'    110       130     409.1\n",
      "1         60  '2020/12/02'    117       145     479.0\n",
      "2         60  '2020/12/03'    103       135     340.0\n",
      "3         45  '2020/12/04'    109       175     282.4\n",
      "4         45  '2020/12/05'    117       148     406.0\n",
      "5         60  '2020/12/06'    102       127     300.0\n",
      "6         60  '2020/12/07'    110       136     374.0\n",
      "7        450  '2020/12/08'    104       134     253.3\n",
      "8         30  '2020/12/09'    109       133     195.1\n",
      "9         60  '2020/12/10'     98       124     269.0\n",
      "10        60  '2020/12/11'    103       147     329.3\n",
      "11        60  '2020/12/12'    100       120     250.7\n",
      "12        60  '2020/12/12'    100       120     250.7\n",
      "13        60  '2020/12/13'    106       128     345.3\n",
      "14        60  '2020/12/14'    104       132     379.3\n",
      "15        60  '2020/12/15'     98       123     275.0\n",
      "16        60  '2020/12/16'     98       120     215.2\n",
      "17        60  '2020/12/17'    100       120     300.0\n",
      "18        45  '2020/12/18'     90       112       NaN\n",
      "19        60  '2020/12/19'    103       123     323.0\n",
      "20        45  '2020/12/20'     97       125     243.0\n",
      "21        60  '2020/12/21'    108       131     364.2\n",
      "22        45           NaN    100       119     282.0\n",
      "23        60  '2020/12/23'    130       101     300.0\n",
      "24        45  '2020/12/24'    105       132     246.0\n",
      "25        60  '2020/12/25'    102       126     334.5\n",
      "26        60      20201226    100       120     250.0\n",
      "27        60  '2020/12/27'     92       118     241.0\n",
      "28        60  '2020/12/28'    103       132       NaN\n",
      "29        60  '2020/12/29'    100       132     280.0\n",
      "30        60  '2020/12/30'    102       129     380.3\n",
      "31        60  '2020/12/31'     92       115     243.0\n"
     ]
    }
   ],
   "source": [
    "dirt = pd.read_csv(\"E:\\MACHINE LEARNING\\DataSets\\CSV\\dirtydata.csv\")\n",
    "print(dirt.to_string())\n"
   ]
  },
  {
   "cell_type": "markdown",
   "metadata": {},
   "source": [
    "# NULL Handling"
   ]
  },
  {
   "cell_type": "code",
   "execution_count": 67,
   "metadata": {},
   "outputs": [
    {
     "name": "stdout",
     "output_type": "stream",
     "text": [
      "    Duration   Date  Pulse  Maxpulse  Calories\n",
      "0      False  False  False     False     False\n",
      "1      False  False  False     False     False\n",
      "2      False  False  False     False     False\n",
      "3      False  False  False     False     False\n",
      "4      False  False  False     False     False\n",
      "5      False  False  False     False     False\n",
      "6      False  False  False     False     False\n",
      "7      False  False  False     False     False\n",
      "8      False  False  False     False     False\n",
      "9      False  False  False     False     False\n",
      "10     False  False  False     False     False\n",
      "11     False  False  False     False     False\n",
      "12     False  False  False     False     False\n",
      "13     False  False  False     False     False\n",
      "14     False  False  False     False     False\n",
      "15     False  False  False     False     False\n",
      "16     False  False  False     False     False\n",
      "17     False  False  False     False     False\n",
      "18     False  False  False     False      True\n",
      "19     False  False  False     False     False\n",
      "20     False  False  False     False     False\n",
      "21     False  False  False     False     False\n",
      "22     False   True  False     False     False\n",
      "23     False  False  False     False     False\n",
      "24     False  False  False     False     False\n",
      "25     False  False  False     False     False\n",
      "26     False  False  False     False     False\n",
      "27     False  False  False     False     False\n",
      "28     False  False  False     False      True\n",
      "29     False  False  False     False     False\n",
      "30     False  False  False     False     False\n",
      "31     False  False  False     False     False\n"
     ]
    }
   ],
   "source": [
    "dirt = pd.read_csv(\"E:\\MACHINE LEARNING\\DataSets\\CSV\\dirtydata.csv\")\n",
    "print(dirt.isna())\n",
    "# Show True Where Null Value is Present\n",
    "# print(dirt.to_string())"
   ]
  },
  {
   "cell_type": "code",
   "execution_count": 69,
   "metadata": {},
   "outputs": [
    {
     "name": "stdout",
     "output_type": "stream",
     "text": [
      "    Duration   Date  Pulse  Maxpulse  Calories\n",
      "0       True   True   True      True      True\n",
      "1       True   True   True      True      True\n",
      "2       True   True   True      True      True\n",
      "3       True   True   True      True      True\n",
      "4       True   True   True      True      True\n",
      "5       True   True   True      True      True\n",
      "6       True   True   True      True      True\n",
      "7       True   True   True      True      True\n",
      "8       True   True   True      True      True\n",
      "9       True   True   True      True      True\n",
      "10      True   True   True      True      True\n",
      "11      True   True   True      True      True\n",
      "12      True   True   True      True      True\n",
      "13      True   True   True      True      True\n",
      "14      True   True   True      True      True\n",
      "15      True   True   True      True      True\n",
      "16      True   True   True      True      True\n",
      "17      True   True   True      True      True\n",
      "18      True   True   True      True     False\n",
      "19      True   True   True      True      True\n",
      "20      True   True   True      True      True\n",
      "21      True   True   True      True      True\n",
      "22      True  False   True      True      True\n",
      "23      True   True   True      True      True\n",
      "24      True   True   True      True      True\n",
      "25      True   True   True      True      True\n",
      "26      True   True   True      True      True\n",
      "27      True   True   True      True      True\n",
      "28      True   True   True      True     False\n",
      "29      True   True   True      True      True\n",
      "30      True   True   True      True      True\n",
      "31      True   True   True      True      True\n"
     ]
    }
   ],
   "source": [
    "dirt = pd.read_csv(\"E:\\MACHINE LEARNING\\DataSets\\CSV\\dirtydata.csv\")\n",
    "print(dirt.notna())\n",
    "#The notna() function returns TRUE, if the data is free from missing values else it returns FALSE (if null values are encountered)."
   ]
  },
  {
   "cell_type": "markdown",
   "metadata": {},
   "source": [
    "### Remove Rows\n",
    "#### One way to deal with empty cells is to remove rows that contain empty cells.\n",
    "\n",
    "#### This is usually OK, since data sets can be very big, and removing a few rows will not have a big impact on the result."
   ]
  },
  {
   "cell_type": "code",
   "execution_count": 30,
   "metadata": {},
   "outputs": [
    {
     "name": "stdout",
     "output_type": "stream",
     "text": [
      "    Duration          Date  Pulse  Maxpulse  Calories\n",
      "0         60  '2020/12/01'    110       130     409.1\n",
      "1         60  '2020/12/02'    117       145     479.0\n",
      "2         60  '2020/12/03'    103       135     340.0\n",
      "3         45  '2020/12/04'    109       175     282.4\n",
      "4         45  '2020/12/05'    117       148     406.0\n",
      "5         60  '2020/12/06'    102       127     300.0\n",
      "6         60  '2020/12/07'    110       136     374.0\n",
      "7        450  '2020/12/08'    104       134     253.3\n",
      "8         30  '2020/12/09'    109       133     195.1\n",
      "9         60  '2020/12/10'     98       124     269.0\n",
      "10        60  '2020/12/11'    103       147     329.3\n",
      "11        60  '2020/12/12'    100       120     250.7\n",
      "12        60  '2020/12/12'    100       120     250.7\n",
      "13        60  '2020/12/13'    106       128     345.3\n",
      "14        60  '2020/12/14'    104       132     379.3\n",
      "15        60  '2020/12/15'     98       123     275.0\n",
      "16        60  '2020/12/16'     98       120     215.2\n",
      "17        60  '2020/12/17'    100       120     300.0\n",
      "19        60  '2020/12/19'    103       123     323.0\n",
      "20        45  '2020/12/20'     97       125     243.0\n",
      "21        60  '2020/12/21'    108       131     364.2\n",
      "23        60  '2020/12/23'    130       101     300.0\n",
      "24        45  '2020/12/24'    105       132     246.0\n",
      "25        60  '2020/12/25'    102       126     334.5\n",
      "26        60      20201226    100       120     250.0\n",
      "27        60  '2020/12/27'     92       118     241.0\n",
      "29        60  '2020/12/29'    100       132     280.0\n",
      "30        60  '2020/12/30'    102       129     380.3\n",
      "31        60  '2020/12/31'     92       115     243.0\n"
     ]
    }
   ],
   "source": [
    "dirt = pd.read_csv(\"E:\\MACHINE LEARNING\\DataSets\\CSV\\dirtydata.csv\")\n",
    "\n",
    "# This will remove all the NULL Values From The Table\n",
    "clean = dirt.dropna()\n",
    "print(clean.to_string())\n"
   ]
  },
  {
   "cell_type": "markdown",
   "metadata": {},
   "source": [
    "### By default, the dropna() method returns a new DataFrame, and will not change the original.\n",
    "\n",
    "### If you want to change the original DataFrame, use the inplace = True argument:"
   ]
  },
  {
   "cell_type": "code",
   "execution_count": 31,
   "metadata": {},
   "outputs": [
    {
     "name": "stdout",
     "output_type": "stream",
     "text": [
      "    Duration          Date  Pulse  Maxpulse  Calories\n",
      "0         60  '2020/12/01'    110       130     409.1\n",
      "1         60  '2020/12/02'    117       145     479.0\n",
      "2         60  '2020/12/03'    103       135     340.0\n",
      "3         45  '2020/12/04'    109       175     282.4\n",
      "4         45  '2020/12/05'    117       148     406.0\n",
      "5         60  '2020/12/06'    102       127     300.0\n",
      "6         60  '2020/12/07'    110       136     374.0\n",
      "7        450  '2020/12/08'    104       134     253.3\n",
      "8         30  '2020/12/09'    109       133     195.1\n",
      "9         60  '2020/12/10'     98       124     269.0\n",
      "10        60  '2020/12/11'    103       147     329.3\n",
      "11        60  '2020/12/12'    100       120     250.7\n",
      "12        60  '2020/12/12'    100       120     250.7\n",
      "13        60  '2020/12/13'    106       128     345.3\n",
      "14        60  '2020/12/14'    104       132     379.3\n",
      "15        60  '2020/12/15'     98       123     275.0\n",
      "16        60  '2020/12/16'     98       120     215.2\n",
      "17        60  '2020/12/17'    100       120     300.0\n",
      "19        60  '2020/12/19'    103       123     323.0\n",
      "20        45  '2020/12/20'     97       125     243.0\n",
      "21        60  '2020/12/21'    108       131     364.2\n",
      "23        60  '2020/12/23'    130       101     300.0\n",
      "24        45  '2020/12/24'    105       132     246.0\n",
      "25        60  '2020/12/25'    102       126     334.5\n",
      "26        60      20201226    100       120     250.0\n",
      "27        60  '2020/12/27'     92       118     241.0\n",
      "29        60  '2020/12/29'    100       132     280.0\n",
      "30        60  '2020/12/30'    102       129     380.3\n",
      "31        60  '2020/12/31'     92       115     243.0\n"
     ]
    }
   ],
   "source": [
    "dirt = pd.read_csv(\"E:\\MACHINE LEARNING\\DataSets\\CSV\\dirtydata.csv\")\n",
    "\n",
    "# This will remove all the NULL Values From The Table\n",
    "dirt.dropna(inplace=True)\n",
    "print(dirt.to_string())\n"
   ]
  },
  {
   "cell_type": "markdown",
   "metadata": {},
   "source": [
    "## Replace Empty Values\n",
    "### Another way of dealing with empty cells is to insert a new value instead.\n",
    "\n",
    "### This way you do not have to delete entire rows just because of some empty cells.\n",
    "\n",
    "### The fillna() method allows us to replace empty cells with a value:"
   ]
  },
  {
   "cell_type": "code",
   "execution_count": 32,
   "metadata": {},
   "outputs": [
    {
     "name": "stdout",
     "output_type": "stream",
     "text": [
      "    Duration          Date  Pulse  Maxpulse  Calories\n",
      "0         60  '2020/12/01'    110       130     409.1\n",
      "1         60  '2020/12/02'    117       145     479.0\n",
      "2         60  '2020/12/03'    103       135     340.0\n",
      "3         45  '2020/12/04'    109       175     282.4\n",
      "4         45  '2020/12/05'    117       148     406.0\n",
      "5         60  '2020/12/06'    102       127     300.0\n",
      "6         60  '2020/12/07'    110       136     374.0\n",
      "7        450  '2020/12/08'    104       134     253.3\n",
      "8         30  '2020/12/09'    109       133     195.1\n",
      "9         60  '2020/12/10'     98       124     269.0\n",
      "10        60  '2020/12/11'    103       147     329.3\n",
      "11        60  '2020/12/12'    100       120     250.7\n",
      "12        60  '2020/12/12'    100       120     250.7\n",
      "13        60  '2020/12/13'    106       128     345.3\n",
      "14        60  '2020/12/14'    104       132     379.3\n",
      "15        60  '2020/12/15'     98       123     275.0\n",
      "16        60  '2020/12/16'     98       120     215.2\n",
      "17        60  '2020/12/17'    100       120     300.0\n",
      "18        45  '2020/12/18'     90       112     130.0\n",
      "19        60  '2020/12/19'    103       123     323.0\n",
      "20        45  '2020/12/20'     97       125     243.0\n",
      "21        60  '2020/12/21'    108       131     364.2\n",
      "22        45           130    100       119     282.0\n",
      "23        60  '2020/12/23'    130       101     300.0\n",
      "24        45  '2020/12/24'    105       132     246.0\n",
      "25        60  '2020/12/25'    102       126     334.5\n",
      "26        60      20201226    100       120     250.0\n",
      "27        60  '2020/12/27'     92       118     241.0\n",
      "28        60  '2020/12/28'    103       132     130.0\n",
      "29        60  '2020/12/29'    100       132     280.0\n",
      "30        60  '2020/12/30'    102       129     380.3\n",
      "31        60  '2020/12/31'     92       115     243.0\n"
     ]
    }
   ],
   "source": [
    "dirt = pd.read_csv(\"E:\\MACHINE LEARNING\\DataSets\\CSV\\dirtydata.csv\")\n",
    "\n",
    "# This will replace all the NULL Values with specified values\n",
    "dirt.fillna(130, inplace=True)\n",
    "print(dirt.to_string())\n"
   ]
  },
  {
   "cell_type": "markdown",
   "metadata": {},
   "source": [
    "### Replace Only For Specified Columns\n",
    "#### The example above replaces all empty cells in the whole Data Frame.\n",
    "\n",
    "#### To only replace empty values for one column, specify the column name for the DataFrame"
   ]
  },
  {
   "cell_type": "code",
   "execution_count": 33,
   "metadata": {},
   "outputs": [
    {
     "name": "stdout",
     "output_type": "stream",
     "text": [
      "    Duration          Date  Pulse  Maxpulse  Calories\n",
      "0         60  '2020/12/01'    110       130     409.1\n",
      "1         60  '2020/12/02'    117       145     479.0\n",
      "2         60  '2020/12/03'    103       135     340.0\n",
      "3         45  '2020/12/04'    109       175     282.4\n",
      "4         45  '2020/12/05'    117       148     406.0\n",
      "5         60  '2020/12/06'    102       127     300.0\n",
      "6         60  '2020/12/07'    110       136     374.0\n",
      "7        450  '2020/12/08'    104       134     253.3\n",
      "8         30  '2020/12/09'    109       133     195.1\n",
      "9         60  '2020/12/10'     98       124     269.0\n",
      "10        60  '2020/12/11'    103       147     329.3\n",
      "11        60  '2020/12/12'    100       120     250.7\n",
      "12        60  '2020/12/12'    100       120     250.7\n",
      "13        60  '2020/12/13'    106       128     345.3\n",
      "14        60  '2020/12/14'    104       132     379.3\n",
      "15        60  '2020/12/15'     98       123     275.0\n",
      "16        60  '2020/12/16'     98       120     215.2\n",
      "17        60  '2020/12/17'    100       120     300.0\n",
      "18        45  '2020/12/18'     90       112     130.0\n",
      "19        60  '2020/12/19'    103       123     323.0\n",
      "20        45  '2020/12/20'     97       125     243.0\n",
      "21        60  '2020/12/21'    108       131     364.2\n",
      "22        45           NaN    100       119     282.0\n",
      "23        60  '2020/12/23'    130       101     300.0\n",
      "24        45  '2020/12/24'    105       132     246.0\n",
      "25        60  '2020/12/25'    102       126     334.5\n",
      "26        60      20201226    100       120     250.0\n",
      "27        60  '2020/12/27'     92       118     241.0\n",
      "28        60  '2020/12/28'    103       132     130.0\n",
      "29        60  '2020/12/29'    100       132     280.0\n",
      "30        60  '2020/12/30'    102       129     380.3\n",
      "31        60  '2020/12/31'     92       115     243.0\n"
     ]
    }
   ],
   "source": [
    "dirt = pd.read_csv(\"E:\\MACHINE LEARNING\\DataSets\\CSV\\dirtydata.csv\")\n",
    "\n",
    "# This will replace all the NULL Values with specified values\n",
    "dirt[\"Calories\"].fillna(130, inplace=True)\n",
    "print(dirt.to_string())\n"
   ]
  },
  {
   "cell_type": "code",
   "execution_count": 34,
   "metadata": {},
   "outputs": [
    {
     "name": "stdout",
     "output_type": "stream",
     "text": [
      "    Duration          Date  Pulse  Maxpulse Calories\n",
      "0         60  '2020/12/01'    110       130    409.1\n",
      "1         60  '2020/12/02'    117       145      479\n",
      "2         60  '2020/12/03'    103       135      340\n",
      "3         45  '2020/12/04'    109       175    282.4\n",
      "4         45  '2020/12/05'    117       148      406\n",
      "5         60  '2020/12/06'    102       127      300\n",
      "6         60  '2020/12/07'    110       136      374\n",
      "7        450  '2020/12/08'    104       134    253.3\n",
      "8         30  '2020/12/09'    109       133    195.1\n",
      "9         60  '2020/12/10'     98       124      269\n",
      "10        60  '2020/12/11'    103       147    329.3\n",
      "11        60  '2020/12/12'    100       120    250.7\n",
      "12        60  '2020/12/12'    100       120    250.7\n",
      "13        60  '2020/12/13'    106       128    345.3\n",
      "14        60  '2020/12/14'    104       132    379.3\n",
      "15        60  '2020/12/15'     98       123      275\n",
      "16        60  '2020/12/16'     98       120    215.2\n",
      "17        60  '2020/12/17'    100       120      300\n",
      "18        45  '2020/12/18'     90       112      130\n",
      "19        60  '2020/12/19'    103       123      323\n",
      "20        45  '2020/12/20'     97       125      243\n",
      "21        60  '2020/12/21'    108       131    364.2\n",
      "22        45  '2020/12/22'    100       119      282\n",
      "23        60  '2020/12/23'    130       101      300\n",
      "24        45  '2020/12/24'    105       132      246\n",
      "25        60  '2020/12/25'    102       126    334.5\n",
      "26        60      20201226    100       120      250\n",
      "27        60  '2020/12/27'     92       118      241\n",
      "28        60  '2020/12/28'    103       132      130\n",
      "29        60  '2020/12/29'    100       132      280\n",
      "30        60  '2020/12/30'    102       129    380.3\n",
      "31        60  '2020/12/31'     92       115      243\n"
     ]
    }
   ],
   "source": [
    "dirt = pd.read_csv(\"E:\\MACHINE LEARNING\\DataSets\\CSV\\dirtydata.csv\")\n",
    "\n",
    "# This will replace all the NULL Values with specified values\n",
    "dirt['Date'].fillna(\"'2020/12/22'\", inplace=True)\n",
    "dirt['Calories'].fillna(\"130\", inplace=True)\n",
    "print(dirt.to_string())\n"
   ]
  },
  {
   "cell_type": "markdown",
   "metadata": {},
   "source": [
    "### Replace Using Mean, Median, or Mode"
   ]
  },
  {
   "cell_type": "code",
   "execution_count": 35,
   "metadata": {},
   "outputs": [
    {
     "name": "stdout",
     "output_type": "stream",
     "text": [
      "Mean Of Calories :  304.68\n",
      "Median of Calories:  291.2\n",
      "Mode of Calories:  300.0\n",
      "    Duration          Date  Pulse  Maxpulse  Calories\n",
      "0         60  '2020/12/01'    110       130    409.10\n",
      "1         60  '2020/12/02'    117       145    479.00\n",
      "2         60  '2020/12/03'    103       135    340.00\n",
      "3         45  '2020/12/04'    109       175    282.40\n",
      "4         45  '2020/12/05'    117       148    406.00\n",
      "5         60  '2020/12/06'    102       127    300.00\n",
      "6         60  '2020/12/07'    110       136    374.00\n",
      "7        450  '2020/12/08'    104       134    253.30\n",
      "8         30  '2020/12/09'    109       133    195.10\n",
      "9         60  '2020/12/10'     98       124    269.00\n",
      "10        60  '2020/12/11'    103       147    329.30\n",
      "11        60  '2020/12/12'    100       120    250.70\n",
      "12        60  '2020/12/12'    100       120    250.70\n",
      "13        60  '2020/12/13'    106       128    345.30\n",
      "14        60  '2020/12/14'    104       132    379.30\n",
      "15        60  '2020/12/15'     98       123    275.00\n",
      "16        60  '2020/12/16'     98       120    215.20\n",
      "17        60  '2020/12/17'    100       120    300.00\n",
      "18        45  '2020/12/18'     90       112    304.68\n",
      "19        60  '2020/12/19'    103       123    323.00\n",
      "20        45  '2020/12/20'     97       125    243.00\n",
      "21        60  '2020/12/21'    108       131    364.20\n",
      "22        45           NaN    100       119    282.00\n",
      "23        60  '2020/12/23'    130       101    300.00\n",
      "24        45  '2020/12/24'    105       132    246.00\n",
      "25        60  '2020/12/25'    102       126    334.50\n",
      "26        60      20201226    100       120    250.00\n",
      "27        60  '2020/12/27'     92       118    241.00\n",
      "28        60  '2020/12/28'    103       132    304.68\n",
      "29        60  '2020/12/29'    100       132    280.00\n",
      "30        60  '2020/12/30'    102       129    380.30\n",
      "31        60  '2020/12/31'     92       115    243.00\n"
     ]
    }
   ],
   "source": [
    "dirt = pd.read_csv(\"E:\\MACHINE LEARNING\\DataSets\\CSV\\dirtydata.csv\")\n",
    "\n",
    "x = dirt[\"Calories\"].mean()\n",
    "print(\"Mean Of Calories : \", x)\n",
    "\n",
    "y = dirt[\"Calories\"].median()\n",
    "print(\"Median of Calories: \", y)\n",
    "\n",
    "z = dirt[\"Calories\"].mode()[0]\n",
    "print(\"Mode of Calories: \", z)\n",
    "\n",
    "dirt[\"Calories\"].fillna(x, inplace=True)\n",
    "print(dirt.to_string())\n"
   ]
  },
  {
   "cell_type": "markdown",
   "metadata": {},
   "source": [
    "## Cleaning Data of Wrong Format\n",
    "#### Cells with data of wrong format can make it difficult, or even impossible, to analyze data.\n",
    "#### To fix it, you have two options: remove the rows, or convert all cells in the columns into the same format."
   ]
  },
  {
   "cell_type": "code",
   "execution_count": 36,
   "metadata": {},
   "outputs": [
    {
     "name": "stdout",
     "output_type": "stream",
     "text": [
      "    Duration       Date  Pulse  Maxpulse  Calories\n",
      "0         60 2020-12-01    110       130     409.1\n",
      "1         60 2020-12-02    117       145     479.0\n",
      "2         60 2020-12-03    103       135     340.0\n",
      "3         45 2020-12-04    109       175     282.4\n",
      "4         45 2020-12-05    117       148     406.0\n",
      "5         60 2020-12-06    102       127     300.0\n",
      "6         60 2020-12-07    110       136     374.0\n",
      "7        450 2020-12-08    104       134     253.3\n",
      "8         30 2020-12-09    109       133     195.1\n",
      "9         60 2020-12-10     98       124     269.0\n",
      "10        60 2020-12-11    103       147     329.3\n",
      "11        60 2020-12-12    100       120     250.7\n",
      "12        60 2020-12-12    100       120     250.7\n",
      "13        60 2020-12-13    106       128     345.3\n",
      "14        60 2020-12-14    104       132     379.3\n",
      "15        60 2020-12-15     98       123     275.0\n",
      "16        60 2020-12-16     98       120     215.2\n",
      "17        60 2020-12-17    100       120     300.0\n",
      "18        45 2020-12-18     90       112       NaN\n",
      "19        60 2020-12-19    103       123     323.0\n",
      "20        45 2020-12-20     97       125     243.0\n",
      "21        60 2020-12-21    108       131     364.2\n",
      "22        45        NaT    100       119     282.0\n",
      "23        60 2020-12-23    130       101     300.0\n",
      "24        45 2020-12-24    105       132     246.0\n",
      "25        60 2020-12-25    102       126     334.5\n",
      "26        60 2020-12-26    100       120     250.0\n",
      "27        60 2020-12-27     92       118     241.0\n",
      "28        60 2020-12-28    103       132       NaN\n",
      "29        60 2020-12-29    100       132     280.0\n",
      "30        60 2020-12-30    102       129     380.3\n",
      "31        60 2020-12-31     92       115     243.0\n"
     ]
    }
   ],
   "source": [
    "dirt = pd.read_csv(\"E:\\MACHINE LEARNING\\DataSets\\CSV\\dirtydata.csv\")\n",
    "dirt['Date'] = pd.to_datetime(dirt['Date'])\n",
    "print(dirt.to_string())\n"
   ]
  },
  {
   "cell_type": "code",
   "execution_count": 37,
   "metadata": {},
   "outputs": [
    {
     "name": "stdout",
     "output_type": "stream",
     "text": [
      "    Duration          Date  Pulse  Maxpulse  Calories\n",
      "0         60  '2020/12/01'    110       130     409.1\n",
      "1         60  '2020/12/02'    117       145     479.0\n",
      "2         60  '2020/12/03'    103       135     340.0\n",
      "3         45  '2020/12/04'    109       175     282.4\n",
      "4         45  '2020/12/05'    117       148     406.0\n",
      "5         60  '2020/12/06'    102       127     300.0\n",
      "6         60  '2020/12/07'    110       136     374.0\n",
      "7        450  '2020/12/08'    104       134     253.3\n",
      "8         30  '2020/12/09'    109       133     195.1\n",
      "9         60  '2020/12/10'     98       124     269.0\n",
      "10        60  '2020/12/11'    103       147     329.3\n",
      "11        60  '2020/12/12'    100       120     250.7\n",
      "12        60  '2020/12/12'    100       120     250.7\n",
      "13        60  '2020/12/13'    106       128     345.3\n",
      "14        60  '2020/12/14'    104       132     379.3\n",
      "15        60  '2020/12/15'     98       123     275.0\n",
      "16        60  '2020/12/16'     98       120     215.2\n",
      "17        60  '2020/12/17'    100       120     300.0\n",
      "18        45  '2020/12/18'     90       112       NaN\n",
      "19        60  '2020/12/19'    103       123     323.0\n",
      "20        45  '2020/12/20'     97       125     243.0\n",
      "21        60  '2020/12/21'    108       131     364.2\n",
      "23        60  '2020/12/23'    130       101     300.0\n",
      "24        45  '2020/12/24'    105       132     246.0\n",
      "25        60  '2020/12/25'    102       126     334.5\n",
      "26        60      20201226    100       120     250.0\n",
      "27        60  '2020/12/27'     92       118     241.0\n",
      "28        60  '2020/12/28'    103       132       NaN\n",
      "29        60  '2020/12/29'    100       132     280.0\n",
      "30        60  '2020/12/30'    102       129     380.3\n",
      "31        60  '2020/12/31'     92       115     243.0\n"
     ]
    }
   ],
   "source": [
    "dirt = pd.read_csv(\"E:\\MACHINE LEARNING\\DataSets\\CSV\\dirtydata.csv\")\n",
    "\n",
    "# Remove rows with a NULL value in the \"Date\" column( 22th row removed ):\n",
    "dirt.dropna(subset=['Date'], inplace=True)\n",
    "print(dirt.to_string())\n"
   ]
  },
  {
   "cell_type": "markdown",
   "metadata": {},
   "source": [
    "## Wrong Data\n",
    "#### \"Wrong data\" does not have to be \"empty cells\" or \"wrong format\", it can just be wrong, like if someone registered \"199\" instead of \"1.99\".\n",
    "#### Sometimes you can spot wrong data by looking at the data set, because you have an expectation of what it should be.\n",
    "#### If you take a look at our data set, you can see that in row 7, the duration is 450, but for all the other rows the duration is between 30 and 60.\n",
    "#### It doesn't have to be wrong, but taking in consideration that this is the data set of someone's workout sessions, we conclude with the fact that this person did not work out in 450 minutes."
   ]
  },
  {
   "cell_type": "code",
   "execution_count": 38,
   "metadata": {},
   "outputs": [
    {
     "name": "stdout",
     "output_type": "stream",
     "text": [
      "    Duration          Date  Pulse  Maxpulse  Calories\n",
      "0         60  '2020/12/01'    110       130     409.1\n",
      "1         60  '2020/12/02'    117       145     479.0\n",
      "2         60  '2020/12/03'    103       135     340.0\n",
      "3         45  '2020/12/04'    109       175     282.4\n",
      "4         45  '2020/12/05'    117       148     406.0\n",
      "5         60  '2020/12/06'    102       127     300.0\n",
      "6         60  '2020/12/07'    110       136     374.0\n",
      "7        450  '2020/12/08'    104       134     253.3\n",
      "8         30  '2020/12/09'    109       133     195.1\n",
      "9         60  '2020/12/10'     98       124     269.0\n",
      "10        60  '2020/12/11'    103       147     329.3\n",
      "11        60  '2020/12/12'    100       120     250.7\n",
      "12        60  '2020/12/12'    100       120     250.7\n",
      "13        60  '2020/12/13'    106       128     345.3\n",
      "14        60  '2020/12/14'    104       132     379.3\n",
      "15        60  '2020/12/15'     98       123     275.0\n",
      "16        60  '2020/12/16'     98       120     215.2\n",
      "17        60  '2020/12/17'    100       120     300.0\n",
      "18        45  '2020/12/18'     90       112       NaN\n",
      "19        60  '2020/12/19'    103       123     323.0\n",
      "20        45  '2020/12/20'     97       125     243.0\n",
      "21        60  '2020/12/21'    108       131     364.2\n",
      "22        45           NaN    100       119     282.0\n",
      "23        60  '2020/12/23'    130       101     300.0\n",
      "24        45  '2020/12/24'    105       132     246.0\n",
      "25        60  '2020/12/25'    102       126     334.5\n",
      "26        60      20201226    100       120     250.0\n",
      "27        60  '2020/12/27'     92       118     241.0\n",
      "28        60  '2020/12/28'    103       132       NaN\n",
      "29        60  '2020/12/29'    100       132     280.0\n",
      "30        60  '2020/12/30'    102       129     380.3\n",
      "31        60  '2020/12/31'     92       115     243.0\n"
     ]
    }
   ],
   "source": [
    "dirt = pd.read_csv(\"E:\\MACHINE LEARNING\\DataSets\\CSV\\dirtydata.csv\")\n",
    "print(dirt.to_string())\n"
   ]
  },
  {
   "cell_type": "code",
   "execution_count": 39,
   "metadata": {},
   "outputs": [
    {
     "data": {
      "text/plain": [
       "Duration             450\n",
       "Date        '2020/12/08'\n",
       "Pulse                104\n",
       "Maxpulse             134\n",
       "Calories           253.3\n",
       "Name: 7, dtype: object"
      ]
     },
     "execution_count": 39,
     "metadata": {},
     "output_type": "execute_result"
    }
   ],
   "source": [
    "dirt.loc[7]\n"
   ]
  },
  {
   "cell_type": "code",
   "execution_count": 40,
   "metadata": {},
   "outputs": [
    {
     "name": "stdout",
     "output_type": "stream",
     "text": [
      "    Duration          Date  Pulse  Maxpulse  Calories\n",
      "0         60  '2020/12/01'    110       130     409.1\n",
      "1         60  '2020/12/02'    117       145     479.0\n",
      "2         60  '2020/12/03'    103       135     340.0\n",
      "3         45  '2020/12/04'    109       175     282.4\n",
      "4         45  '2020/12/05'    117       148     406.0\n",
      "5         60  '2020/12/06'    102       127     300.0\n",
      "6         60  '2020/12/07'    110       136     374.0\n",
      "7         45  '2020/12/08'    104       134     253.3\n",
      "8         30  '2020/12/09'    109       133     195.1\n",
      "9         60  '2020/12/10'     98       124     269.0\n",
      "10        60  '2020/12/11'    103       147     329.3\n",
      "11        60  '2020/12/12'    100       120     250.7\n",
      "12        60  '2020/12/12'    100       120     250.7\n",
      "13        60  '2020/12/13'    106       128     345.3\n",
      "14        60  '2020/12/14'    104       132     379.3\n",
      "15        60  '2020/12/15'     98       123     275.0\n",
      "16        60  '2020/12/16'     98       120     215.2\n",
      "17        60  '2020/12/17'    100       120     300.0\n",
      "18        45  '2020/12/18'     90       112       NaN\n",
      "19        60  '2020/12/19'    103       123     323.0\n",
      "20        45  '2020/12/20'     97       125     243.0\n",
      "21        60  '2020/12/21'    108       131     364.2\n",
      "22        45           NaN    100       119     282.0\n",
      "23        60  '2020/12/23'    130       101     300.0\n",
      "24        45  '2020/12/24'    105       132     246.0\n",
      "25        60  '2020/12/25'    102       126     334.5\n",
      "26        60      20201226    100       120     250.0\n",
      "27        60  '2020/12/27'     92       118     241.0\n",
      "28        60  '2020/12/28'    103       132       NaN\n",
      "29        60  '2020/12/29'    100       132     280.0\n",
      "30        60  '2020/12/30'    102       129     380.3\n",
      "31        60  '2020/12/31'     92       115     243.0\n"
     ]
    }
   ],
   "source": [
    "# One way to fix wrong values is to replace them with something else.\n",
    "dirt.loc[7, \"Duration\"] = 45\n",
    "# value changed to 45 in 7th row of duration column\n",
    "print(dirt.to_string())\n"
   ]
  },
  {
   "cell_type": "code",
   "execution_count": 41,
   "metadata": {},
   "outputs": [
    {
     "name": "stdout",
     "output_type": "stream",
     "text": [
      "Index:  0 1 2 3 4 5 6 7 8 9 10 11 12 13 14 15 16 17 18 19 20 21 22 23 24 25 26 27 28 29 30 31 \n",
      "\n",
      "Duration:  60 60 60 45 45 60 60 45 30 60 60 60 60 60 60 60 60 60 45 60 45 60 45 60 45 60 60 60 60 60 60 60 \n",
      "\n",
      "Pulse:  110 117 103 109 117 102 110 104 109 98 103 100 100 106 104 98 98 100 90 103 97 108 100 130 105 102 100 92 103 100 102 92 "
     ]
    }
   ],
   "source": [
    "print(\"Index: \", end=\" \")\n",
    "for x in dirt.index:\n",
    "    print(x, end=\" \")\n",
    "print(\"\\n\")\n",
    "print(\"Duration: \", end=\" \")\n",
    "for x in dirt.index:\n",
    "    print(dirt.loc[x, \"Duration\"], end=\" \")\n",
    "print(\"\\n\")\n",
    "print(\"Pulse: \", end=\" \")\n",
    "for x in dirt.index:\n",
    "    print(dirt.loc[x, \"Pulse\"], end=\" \")\n"
   ]
  },
  {
   "cell_type": "code",
   "execution_count": 42,
   "metadata": {},
   "outputs": [
    {
     "name": "stdout",
     "output_type": "stream",
     "text": [
      "    Duration          Date  Pulse  Maxpulse  Calories\n",
      "0         60  '2020/12/01'    110       130     409.1\n",
      "1         60  '2020/12/02'    117       145     479.0\n",
      "2         60  '2020/12/03'    103       135     340.0\n",
      "3         60  '2020/12/04'    109       175     282.4\n",
      "4         60  '2020/12/05'    117       148     406.0\n",
      "5         60  '2020/12/06'    102       127     300.0\n",
      "6         60  '2020/12/07'    110       136     374.0\n",
      "7         60  '2020/12/08'    104       134     253.3\n",
      "8         30  '2020/12/09'    109       133     195.1\n",
      "9         60  '2020/12/10'     98       124     269.0\n",
      "10        60  '2020/12/11'    103       147     329.3\n",
      "11        60  '2020/12/12'    100       120     250.7\n",
      "12        60  '2020/12/12'    100       120     250.7\n",
      "13        60  '2020/12/13'    106       128     345.3\n",
      "14        60  '2020/12/14'    104       132     379.3\n",
      "15        60  '2020/12/15'     98       123     275.0\n",
      "16        60  '2020/12/16'     98       120     215.2\n",
      "17        60  '2020/12/17'    100       120     300.0\n",
      "18        60  '2020/12/18'     90       112       NaN\n",
      "19        60  '2020/12/19'    103       123     323.0\n",
      "20        60  '2020/12/20'     97       125     243.0\n",
      "21        60  '2020/12/21'    108       131     364.2\n",
      "22        60           NaN    100       119     282.0\n",
      "23        60  '2020/12/23'    130       101     300.0\n",
      "24        60  '2020/12/24'    105       132     246.0\n",
      "25        60  '2020/12/25'    102       126     334.5\n",
      "26        60      20201226    100       120     250.0\n",
      "27        60  '2020/12/27'     92       118     241.0\n",
      "28        60  '2020/12/28'    103       132       NaN\n",
      "29        60  '2020/12/29'    100       132     280.0\n",
      "30        60  '2020/12/30'    102       129     380.3\n",
      "31        60  '2020/12/31'     92       115     243.0\n"
     ]
    }
   ],
   "source": [
    "# For small data sets you might be able to replace the wrong data one by one, but not for big data sets.\n",
    "for x in dirt.index:\n",
    "    if dirt.loc[x, \"Duration\"] == 45:\n",
    "        dirt.loc[x, \"Duration\"] = 60\n",
    "print(dirt.to_string())\n"
   ]
  },
  {
   "cell_type": "markdown",
   "metadata": {},
   "source": [
    "## Removing Duplicates\n",
    "## Duplicate rows are rows that have been registered more than one time.(11th and 12th Row)"
   ]
  },
  {
   "cell_type": "markdown",
   "metadata": {},
   "source": [
    "#### To discover duplicates, we can use the duplicated() method.\n",
    "\n",
    "#### The duplicated() method returns a Boolean values for each row"
   ]
  },
  {
   "cell_type": "code",
   "execution_count": 43,
   "metadata": {},
   "outputs": [
    {
     "name": "stdout",
     "output_type": "stream",
     "text": [
      "0     False\n",
      "1     False\n",
      "2     False\n",
      "3     False\n",
      "4     False\n",
      "5     False\n",
      "6     False\n",
      "7     False\n",
      "8     False\n",
      "9     False\n",
      "10    False\n",
      "11    False\n",
      "12     True\n",
      "13    False\n",
      "14    False\n",
      "15    False\n",
      "16    False\n",
      "17    False\n",
      "18    False\n",
      "19    False\n",
      "20    False\n",
      "21    False\n",
      "22    False\n",
      "23    False\n",
      "24    False\n",
      "25    False\n",
      "26    False\n",
      "27    False\n",
      "28    False\n",
      "29    False\n",
      "30    False\n",
      "31    False\n",
      "dtype: bool\n"
     ]
    }
   ],
   "source": [
    "dirt = pd.read_csv(\"E:\\MACHINE LEARNING\\DataSets\\CSV\\dirtydata.csv\")\n",
    "\n",
    "print(dirt.duplicated())\n"
   ]
  },
  {
   "cell_type": "markdown",
   "metadata": {},
   "source": [
    "### Removing Duplicates\n",
    "#### To remove duplicates, use the drop_duplicates() method."
   ]
  },
  {
   "cell_type": "code",
   "execution_count": 44,
   "metadata": {},
   "outputs": [
    {
     "name": "stdout",
     "output_type": "stream",
     "text": [
      "    Duration          Date  Pulse  Maxpulse  Calories\n",
      "0         60  '2020/12/01'    110       130     409.1\n",
      "1         60  '2020/12/02'    117       145     479.0\n",
      "2         60  '2020/12/03'    103       135     340.0\n",
      "3         45  '2020/12/04'    109       175     282.4\n",
      "4         45  '2020/12/05'    117       148     406.0\n",
      "5         60  '2020/12/06'    102       127     300.0\n",
      "6         60  '2020/12/07'    110       136     374.0\n",
      "7        450  '2020/12/08'    104       134     253.3\n",
      "8         30  '2020/12/09'    109       133     195.1\n",
      "9         60  '2020/12/10'     98       124     269.0\n",
      "10        60  '2020/12/11'    103       147     329.3\n",
      "11        60  '2020/12/12'    100       120     250.7\n",
      "13        60  '2020/12/13'    106       128     345.3\n",
      "14        60  '2020/12/14'    104       132     379.3\n",
      "15        60  '2020/12/15'     98       123     275.0\n",
      "16        60  '2020/12/16'     98       120     215.2\n",
      "17        60  '2020/12/17'    100       120     300.0\n",
      "18        45  '2020/12/18'     90       112       NaN\n",
      "19        60  '2020/12/19'    103       123     323.0\n",
      "20        45  '2020/12/20'     97       125     243.0\n",
      "21        60  '2020/12/21'    108       131     364.2\n",
      "22        45           NaN    100       119     282.0\n",
      "23        60  '2020/12/23'    130       101     300.0\n",
      "24        45  '2020/12/24'    105       132     246.0\n",
      "25        60  '2020/12/25'    102       126     334.5\n",
      "26        60      20201226    100       120     250.0\n",
      "27        60  '2020/12/27'     92       118     241.0\n",
      "28        60  '2020/12/28'    103       132       NaN\n",
      "29        60  '2020/12/29'    100       132     280.0\n",
      "30        60  '2020/12/30'    102       129     380.3\n",
      "31        60  '2020/12/31'     92       115     243.0\n"
     ]
    }
   ],
   "source": [
    "dirt = pd.read_csv(\"E:\\MACHINE LEARNING\\DataSets\\CSV\\dirtydata.csv\")\n",
    "# 12th row deleted because 12 and 13th were duplicates\n",
    "dirt.drop_duplicates(inplace=True)\n",
    "print(dirt)\n"
   ]
  },
  {
   "cell_type": "markdown",
   "metadata": {},
   "source": [
    "# Data Correlations"
   ]
  },
  {
   "cell_type": "markdown",
   "metadata": {},
   "source": [
    "### Finding Relationships\n",
    "#### A great aspect of the Pandas module is the corr() method.\n",
    "#### The corr() method calculates the relationship between each column in your data set."
   ]
  },
  {
   "cell_type": "code",
   "execution_count": 45,
   "metadata": {},
   "outputs": [
    {
     "name": "stdout",
     "output_type": "stream",
     "text": [
      "DataSet:\n",
      "    Unnamed: 0  Duration  Pulse  Maxpulse  Calories\n",
      "0           0        60    110       130     409.1\n",
      "1           1        60    117       145     479.0\n",
      "2           2        60    103       135     340.0\n",
      "3           3        45    109       175     282.4\n",
      "4           4        45    117       148     406.0\n",
      "5           5        60    102       127     300.0\n",
      "6           6        60    110       136     374.0\n",
      "7           7        45    104       134     253.3\n",
      "8           8        30    109       133     195.1\n",
      "9           9        60     98       124     269.0\n",
      "Data Correlations:\n"
     ]
    },
    {
     "data": {
      "text/html": [
       "<div>\n",
       "<style scoped>\n",
       "    .dataframe tbody tr th:only-of-type {\n",
       "        vertical-align: middle;\n",
       "    }\n",
       "\n",
       "    .dataframe tbody tr th {\n",
       "        vertical-align: top;\n",
       "    }\n",
       "\n",
       "    .dataframe thead th {\n",
       "        text-align: right;\n",
       "    }\n",
       "</style>\n",
       "<table border=\"1\" class=\"dataframe\">\n",
       "  <thead>\n",
       "    <tr style=\"text-align: right;\">\n",
       "      <th></th>\n",
       "      <th>Unnamed: 0</th>\n",
       "      <th>Duration</th>\n",
       "      <th>Pulse</th>\n",
       "      <th>Maxpulse</th>\n",
       "      <th>Calories</th>\n",
       "    </tr>\n",
       "  </thead>\n",
       "  <tbody>\n",
       "    <tr>\n",
       "      <th>Unnamed: 0</th>\n",
       "      <td>1.000000</td>\n",
       "      <td>-0.060423</td>\n",
       "      <td>0.080199</td>\n",
       "      <td>0.143536</td>\n",
       "      <td>-0.044701</td>\n",
       "    </tr>\n",
       "    <tr>\n",
       "      <th>Duration</th>\n",
       "      <td>-0.060423</td>\n",
       "      <td>1.000000</td>\n",
       "      <td>-0.155408</td>\n",
       "      <td>0.009403</td>\n",
       "      <td>0.922717</td>\n",
       "    </tr>\n",
       "    <tr>\n",
       "      <th>Pulse</th>\n",
       "      <td>0.080199</td>\n",
       "      <td>-0.155408</td>\n",
       "      <td>1.000000</td>\n",
       "      <td>0.786535</td>\n",
       "      <td>0.025121</td>\n",
       "    </tr>\n",
       "    <tr>\n",
       "      <th>Maxpulse</th>\n",
       "      <td>0.143536</td>\n",
       "      <td>0.009403</td>\n",
       "      <td>0.786535</td>\n",
       "      <td>1.000000</td>\n",
       "      <td>0.203813</td>\n",
       "    </tr>\n",
       "    <tr>\n",
       "      <th>Calories</th>\n",
       "      <td>-0.044701</td>\n",
       "      <td>0.922717</td>\n",
       "      <td>0.025121</td>\n",
       "      <td>0.203813</td>\n",
       "      <td>1.000000</td>\n",
       "    </tr>\n",
       "  </tbody>\n",
       "</table>\n",
       "</div>"
      ],
      "text/plain": [
       "            Unnamed: 0  Duration     Pulse  Maxpulse  Calories\n",
       "Unnamed: 0    1.000000 -0.060423  0.080199  0.143536 -0.044701\n",
       "Duration     -0.060423  1.000000 -0.155408  0.009403  0.922717\n",
       "Pulse         0.080199 -0.155408  1.000000  0.786535  0.025121\n",
       "Maxpulse      0.143536  0.009403  0.786535  1.000000  0.203813\n",
       "Calories     -0.044701  0.922717  0.025121  0.203813  1.000000"
      ]
     },
     "execution_count": 45,
     "metadata": {},
     "output_type": "execute_result"
    }
   ],
   "source": [
    "dirt = pd.read_csv(\"E:\\MACHINE LEARNING\\DataSets\\CSV\\data.csv\")\n",
    "print(\"DataSet:\\n\", dirt.head(10))\n",
    "print(\"Data Correlations:\")\n",
    "dirt.corr()\n"
   ]
  },
  {
   "cell_type": "markdown",
   "metadata": {},
   "source": [
    "#### The Result of the corr() method is a table with a lot of numbers that represents how well the relationship is between two columns.\n",
    "\n",
    "# The number varies from -1 to 1.\n",
    "\n",
    "#### 1 means that there is a 1 to 1 relationship (a perfect correlation), and for this data set, each time a value went up in the first column, the other one went up as well.\n",
    "\n",
    "#### 0.9 is also a good relationship, and if you increase one value, the other will probably increase as well.\n",
    "\n",
    "#### -0.9 would be just as good relationship as 0.9, but if you increase one value, the other will probably go down.\n",
    "\n",
    "#### 0.2 means NOT a good relationship, meaning that if one value goes up does not mean that the other will."
   ]
  },
  {
   "cell_type": "markdown",
   "metadata": {},
   "source": [
    "## What is a good correlation? It depends on the use, but I think it is safe to say you have to have at least 0.6 (or -0.6) to call it a good correlation."
   ]
  },
  {
   "cell_type": "markdown",
   "metadata": {},
   "source": [
    "## Perfect Correlation:\n",
    "#### We can see that \"Duration\" and \"Duration\" got the number 1.000000, which makes sense, each column always has a perfect relationship with itself.\n",
    "\n",
    "## Good Correlation:\n",
    "#### \"Duration\" and \"Calories\" got a 0.922721 correlation, which is a very good correlation, and we can predict that the longer you work out, the more calories you burn, and the other way around: if you burned a lot of calories, you probably had a long work out.\n",
    "\n",
    "## Bad Correlation:\n",
    "#### \"Duration\" and \"Maxpulse\" got a 0.009403 correlation, which is a very bad correlation, meaning that we can not predict the max pulse by just looking at the duration of the work out, and vice versa."
   ]
  },
  {
   "cell_type": "markdown",
   "metadata": {},
   "source": [
    "## Aggregate Function\n",
    "### Dataframe.aggregate() function is used to apply some aggregation across one or more column. Aggregate using callable, string, dict, or list of string/callables. Most frequently used aggregations are:\n",
    "\n",
    "#### sum: Return the sum of the values for the requested axis\n",
    "#### min: Return the minimum of the values for the requested axis\n",
    "#### max: Return the maximum of the values for the requested axis"
   ]
  },
  {
   "cell_type": "code",
   "execution_count": 70,
   "metadata": {},
   "outputs": [
    {
     "name": "stdout",
     "output_type": "stream",
     "text": [
      "            Name            Team  Number Position   Age Height  Weight  \\\n",
      "0  Avery Bradley  Boston Celtics     0.0       PG  25.0    6-2   180.0   \n",
      "1    Jae Crowder  Boston Celtics    99.0       SF  25.0    6-6   235.0   \n",
      "2   John Holland  Boston Celtics    30.0       SG  27.0    6-5   205.0   \n",
      "3    R.J. Hunter  Boston Celtics    28.0       SG  22.0    6-5   185.0   \n",
      "4  Jonas Jerebko  Boston Celtics     8.0       PF  29.0   6-10   231.0   \n",
      "5   Amir Johnson  Boston Celtics    90.0       PF  29.0    6-9   240.0   \n",
      "6  Jordan Mickey  Boston Celtics    55.0       PF  21.0    6-8   235.0   \n",
      "7   Kelly Olynyk  Boston Celtics    41.0        C  25.0    7-0   238.0   \n",
      "8   Terry Rozier  Boston Celtics    12.0       PG  22.0    6-2   190.0   \n",
      "9   Marcus Smart  Boston Celtics    36.0       PG  22.0    6-4   220.0   \n",
      "\n",
      "             College      Salary  \n",
      "0              Texas   7730337.0  \n",
      "1          Marquette   6796117.0  \n",
      "2  Boston University         NaN  \n",
      "3      Georgia State   1148640.0  \n",
      "4                NaN   5000000.0  \n",
      "5                NaN  12000000.0  \n",
      "6                LSU   1170960.0  \n",
      "7            Gonzaga   2165160.0  \n",
      "8         Louisville   1824360.0  \n",
      "9     Oklahoma State   3431040.0  \n"
     ]
    }
   ],
   "source": [
    "df = pd.read_csv(\"E:\\MACHINE LEARNING\\DataSets\\CSV\\\\nba.csv\")\n",
    "print(df.head(10))"
   ]
  },
  {
   "cell_type": "code",
   "execution_count": 73,
   "metadata": {},
   "outputs": [
    {
     "data": {
      "text/html": [
       "<div>\n",
       "<style scoped>\n",
       "    .dataframe tbody tr th:only-of-type {\n",
       "        vertical-align: middle;\n",
       "    }\n",
       "\n",
       "    .dataframe tbody tr th {\n",
       "        vertical-align: top;\n",
       "    }\n",
       "\n",
       "    .dataframe thead th {\n",
       "        text-align: right;\n",
       "    }\n",
       "</style>\n",
       "<table border=\"1\" class=\"dataframe\">\n",
       "  <thead>\n",
       "    <tr style=\"text-align: right;\">\n",
       "      <th></th>\n",
       "      <th>Number</th>\n",
       "      <th>Age</th>\n",
       "      <th>Weight</th>\n",
       "      <th>Salary</th>\n",
       "    </tr>\n",
       "  </thead>\n",
       "  <tbody>\n",
       "    <tr>\n",
       "      <th>sum</th>\n",
       "      <td>8079.0</td>\n",
       "      <td>12311.0</td>\n",
       "      <td>101236.0</td>\n",
       "      <td>2.159837e+09</td>\n",
       "    </tr>\n",
       "    <tr>\n",
       "      <th>min</th>\n",
       "      <td>0.0</td>\n",
       "      <td>19.0</td>\n",
       "      <td>161.0</td>\n",
       "      <td>3.088800e+04</td>\n",
       "    </tr>\n",
       "    <tr>\n",
       "      <th>max</th>\n",
       "      <td>99.0</td>\n",
       "      <td>40.0</td>\n",
       "      <td>307.0</td>\n",
       "      <td>2.500000e+07</td>\n",
       "    </tr>\n",
       "  </tbody>\n",
       "</table>\n",
       "</div>"
      ],
      "text/plain": [
       "     Number      Age    Weight        Salary\n",
       "sum  8079.0  12311.0  101236.0  2.159837e+09\n",
       "min     0.0     19.0     161.0  3.088800e+04\n",
       "max    99.0     40.0     307.0  2.500000e+07"
      ]
     },
     "execution_count": 73,
     "metadata": {},
     "output_type": "execute_result"
    }
   ],
   "source": [
    "df.aggregate(['sum', 'min','max'])"
   ]
  },
  {
   "cell_type": "code",
   "execution_count": 74,
   "metadata": {},
   "outputs": [
    {
     "data": {
      "text/html": [
       "<div>\n",
       "<style scoped>\n",
       "    .dataframe tbody tr th:only-of-type {\n",
       "        vertical-align: middle;\n",
       "    }\n",
       "\n",
       "    .dataframe tbody tr th {\n",
       "        vertical-align: top;\n",
       "    }\n",
       "\n",
       "    .dataframe thead th {\n",
       "        text-align: right;\n",
       "    }\n",
       "</style>\n",
       "<table border=\"1\" class=\"dataframe\">\n",
       "  <thead>\n",
       "    <tr style=\"text-align: right;\">\n",
       "      <th></th>\n",
       "      <th>Number</th>\n",
       "      <th>Age</th>\n",
       "      <th>Weight</th>\n",
       "      <th>Salary</th>\n",
       "    </tr>\n",
       "  </thead>\n",
       "  <tbody>\n",
       "    <tr>\n",
       "      <th>max</th>\n",
       "      <td>NaN</td>\n",
       "      <td>40.0</td>\n",
       "      <td>NaN</td>\n",
       "      <td>NaN</td>\n",
       "    </tr>\n",
       "    <tr>\n",
       "      <th>min</th>\n",
       "      <td>0.0</td>\n",
       "      <td>19.0</td>\n",
       "      <td>161.0</td>\n",
       "      <td>NaN</td>\n",
       "    </tr>\n",
       "    <tr>\n",
       "      <th>sum</th>\n",
       "      <td>8079.0</td>\n",
       "      <td>NaN</td>\n",
       "      <td>101236.0</td>\n",
       "      <td>2.159837e+09</td>\n",
       "    </tr>\n",
       "  </tbody>\n",
       "</table>\n",
       "</div>"
      ],
      "text/plain": [
       "     Number   Age    Weight        Salary\n",
       "max     NaN  40.0       NaN           NaN\n",
       "min     0.0  19.0     161.0           NaN\n",
       "sum  8079.0   NaN  101236.0  2.159837e+09"
      ]
     },
     "execution_count": 74,
     "metadata": {},
     "output_type": "execute_result"
    }
   ],
   "source": [
    "df = pd.read_csv(\"E:\\MACHINE LEARNING\\DataSets\\CSV\\\\nba.csv\")\n",
    "\n",
    "df.aggregate({\"Number\":['sum', 'min'],\n",
    "              \"Age\":['max', 'min'],\n",
    "              \"Weight\":['min', 'sum'], \n",
    "              \"Salary\":['sum']})"
   ]
  },
  {
   "cell_type": "code",
   "execution_count": 82,
   "metadata": {},
   "outputs": [
    {
     "name": "stdout",
     "output_type": "stream",
     "text": [
      "Age\n",
      "19.0     2\n",
      "20.0    19\n",
      "21.0    19\n",
      "22.0    26\n",
      "23.0    41\n",
      "24.0    47\n",
      "25.0    45\n",
      "26.0    36\n",
      "27.0    41\n",
      "28.0    31\n",
      "29.0    28\n",
      "30.0    31\n",
      "31.0    22\n",
      "32.0    13\n",
      "33.0    14\n",
      "34.0    10\n",
      "35.0     9\n",
      "36.0    10\n",
      "37.0     4\n",
      "38.0     4\n",
      "39.0     2\n",
      "40.0     3\n",
      "Name: Age, dtype: int64\n",
      "Weight\n",
      "161.0     161.0\n",
      "165.0     330.0\n",
      "169.0     169.0\n",
      "170.0     170.0\n",
      "172.0     344.0\n",
      "173.0     173.0\n",
      "175.0    2100.0\n",
      "179.0     358.0\n",
      "180.0     720.0\n",
      "183.0     183.0\n",
      "184.0     184.0\n",
      "185.0    2960.0\n",
      "186.0     744.0\n",
      "188.0     188.0\n",
      "189.0     756.0\n",
      "190.0    3040.0\n",
      "191.0     382.0\n",
      "192.0     192.0\n",
      "193.0     193.0\n",
      "194.0     776.0\n",
      "195.0    2925.0\n",
      "198.0     594.0\n",
      "199.0     398.0\n",
      "200.0    5000.0\n",
      "201.0     402.0\n",
      "202.0     202.0\n",
      "203.0     406.0\n",
      "205.0    4510.0\n",
      "206.0    1030.0\n",
      "207.0     207.0\n",
      "208.0     416.0\n",
      "209.0     418.0\n",
      "210.0    3570.0\n",
      "212.0     848.0\n",
      "213.0     639.0\n",
      "214.0     428.0\n",
      "215.0    2795.0\n",
      "216.0     216.0\n",
      "217.0     217.0\n",
      "218.0     872.0\n",
      "219.0     219.0\n",
      "220.0    6380.0\n",
      "221.0     221.0\n",
      "222.0     666.0\n",
      "223.0     223.0\n",
      "225.0    3825.0\n",
      "226.0     678.0\n",
      "227.0     227.0\n",
      "228.0    1596.0\n",
      "229.0     229.0\n",
      "230.0    3910.0\n",
      "231.0     693.0\n",
      "232.0     696.0\n",
      "233.0     233.0\n",
      "234.0     468.0\n",
      "235.0    3995.0\n",
      "237.0     948.0\n",
      "238.0     714.0\n",
      "239.0     239.0\n",
      "240.0    6720.0\n",
      "241.0     241.0\n",
      "242.0     484.0\n",
      "243.0     243.0\n",
      "244.0     244.0\n",
      "245.0    4655.0\n",
      "246.0     492.0\n",
      "248.0     744.0\n",
      "249.0     249.0\n",
      "250.0    6500.0\n",
      "251.0     502.0\n",
      "252.0     252.0\n",
      "253.0     506.0\n",
      "254.0     254.0\n",
      "255.0    2550.0\n",
      "256.0     256.0\n",
      "257.0     257.0\n",
      "260.0    2600.0\n",
      "265.0    2120.0\n",
      "270.0    1620.0\n",
      "273.0     273.0\n",
      "275.0    1375.0\n",
      "278.0     278.0\n",
      "279.0     279.0\n",
      "280.0     280.0\n",
      "289.0     289.0\n",
      "290.0     290.0\n",
      "307.0     307.0\n",
      "Name: Weight, dtype: float64\n"
     ]
    }
   ],
   "source": [
    "df = pd.read_csv(\"E:\\MACHINE LEARNING\\DataSets\\CSV\\\\nba.csv\")\n",
    "print(df.groupby(\"Age\")[\"Age\"].count())\n",
    "# df.groupby(\"Age\")[\"Age\"].min()\n",
    "\n",
    "print(df.groupby(\"Weight\")[\"Weight\"].sum())\n",
    "\n"
   ]
  },
  {
   "cell_type": "markdown",
   "metadata": {},
   "source": [
    "## Applying Lambda functions to Pandas Dataframe"
   ]
  },
  {
   "cell_type": "code",
   "execution_count": 84,
   "metadata": {},
   "outputs": [
    {
     "name": "stdout",
     "output_type": "stream",
     "text": [
      "      Name  Total_Marks  Percentage\n",
      "0    Rohan          455        91.0\n",
      "1   Elvish          250        50.0\n",
      "2   Deepak          495        99.0\n",
      "3     Soni          400        80.0\n",
      "4  Radhika          350        70.0\n",
      "5    Vansh          450        90.0\n"
     ]
    }
   ],
   "source": [
    "# creating and initializing a list\n",
    "values= [['Rohan',455],['Elvish',250],['Deepak',495],\n",
    "         ['Soni',400],['Radhika',350],['Vansh',450]] \n",
    "  \n",
    "# creating a pandas dataframe\n",
    "df = pd.DataFrame(values,columns=['Name','Total_Marks'])\n",
    "  \n",
    "# Applying lambda function to find \n",
    "# percentage of 'Total_Marks' column \n",
    "# using df.assign()\n",
    "df = df.assign(Percentage = lambda x: (x['Total_Marks'] /500 * 100))\n",
    "  \n",
    "print(df)"
   ]
  },
  {
   "cell_type": "code",
   "execution_count": 86,
   "metadata": {},
   "outputs": [
    {
     "data": {
      "text/html": [
       "<div>\n",
       "<style scoped>\n",
       "    .dataframe tbody tr th:only-of-type {\n",
       "        vertical-align: middle;\n",
       "    }\n",
       "\n",
       "    .dataframe tbody tr th {\n",
       "        vertical-align: top;\n",
       "    }\n",
       "\n",
       "    .dataframe thead th {\n",
       "        text-align: right;\n",
       "    }\n",
       "</style>\n",
       "<table border=\"1\" class=\"dataframe\">\n",
       "  <thead>\n",
       "    <tr style=\"text-align: right;\">\n",
       "      <th></th>\n",
       "      <th>Field_1</th>\n",
       "      <th>Field_2</th>\n",
       "      <th>Field_3</th>\n",
       "    </tr>\n",
       "  </thead>\n",
       "  <tbody>\n",
       "    <tr>\n",
       "      <th>a</th>\n",
       "      <td>15.0</td>\n",
       "      <td>2.50</td>\n",
       "      <td>100.0</td>\n",
       "    </tr>\n",
       "    <tr>\n",
       "      <th>b</th>\n",
       "      <td>20.0</td>\n",
       "      <td>4.50</td>\n",
       "      <td>50.0</td>\n",
       "    </tr>\n",
       "    <tr>\n",
       "      <th>c</th>\n",
       "      <td>25.0</td>\n",
       "      <td>5.20</td>\n",
       "      <td>80.0</td>\n",
       "    </tr>\n",
       "    <tr>\n",
       "      <th>d</th>\n",
       "      <td>2025.0</td>\n",
       "      <td>33.64</td>\n",
       "      <td>2304.0</td>\n",
       "    </tr>\n",
       "    <tr>\n",
       "      <th>e</th>\n",
       "      <td>40.0</td>\n",
       "      <td>6.30</td>\n",
       "      <td>70.0</td>\n",
       "    </tr>\n",
       "    <tr>\n",
       "      <th>f</th>\n",
       "      <td>41.0</td>\n",
       "      <td>6.40</td>\n",
       "      <td>90.0</td>\n",
       "    </tr>\n",
       "    <tr>\n",
       "      <th>g</th>\n",
       "      <td>51.0</td>\n",
       "      <td>2.30</td>\n",
       "      <td>111.0</td>\n",
       "    </tr>\n",
       "  </tbody>\n",
       "</table>\n",
       "</div>"
      ],
      "text/plain": [
       "   Field_1  Field_2  Field_3\n",
       "a     15.0     2.50    100.0\n",
       "b     20.0     4.50     50.0\n",
       "c     25.0     5.20     80.0\n",
       "d   2025.0    33.64   2304.0\n",
       "e     40.0     6.30     70.0\n",
       "f     41.0     6.40     90.0\n",
       "g     51.0     2.30    111.0"
      ]
     },
     "execution_count": 86,
     "metadata": {},
     "output_type": "execute_result"
    }
   ],
   "source": [
    "import numpy as np\n",
    "# creating and initializing a nested list\n",
    "values_list = [[15, 2.5, 100], [20, 4.5, 50], [25, 5.2, 80],\n",
    "               [45, 5.8, 48], [40, 6.3, 70], [41, 6.4, 90], \n",
    "               [51, 2.3, 111]]\n",
    "  \n",
    "# creating a pandas dataframe\n",
    "df = pd.DataFrame(values_list, columns=['Field_1', 'Field_2', 'Field_3'],\n",
    "                  index=['a', 'b', 'c', 'd', 'e', 'f', 'g'])\n",
    "  \n",
    "  \n",
    "# Apply function numpy.square() to square\n",
    "# the values of one row only i.e. row \n",
    "# with index name 'd'\n",
    "df = df.apply(lambda x: np.square(x) if x.name == 'd' else x, axis=1)\n",
    "  \n",
    "  \n",
    "# printing dataframe\n",
    "df"
   ]
  },
  {
   "cell_type": "markdown",
   "metadata": {},
   "source": [
    "### Pandas Merging, Joining, and Concatenating"
   ]
  },
  {
   "cell_type": "code",
   "execution_count": 92,
   "metadata": {},
   "outputs": [
    {
     "name": "stdout",
     "output_type": "stream",
     "text": [
      "     Name  Age    Address Qualification  Mobile No\n",
      "0     Jai   27     Nagpur           Msc         97\n",
      "1  Princi   24     Kanpur            MA         91\n",
      "2  Gaurav   22  Allahabad           MCA         58\n",
      "3    Anuj   32    Kannuaj           Phd         76 \n",
      "\n",
      "      Name  Age    Address Qualification  Salary\n",
      "2  Gaurav   22  Allahabad           MCA    1000\n",
      "3    Anuj   32    Kannuaj           Phd    2000\n",
      "6  Dhiraj   12  Allahabad          Bcom    3000\n",
      "7  Hitesh   52    Kannuaj        B.hons    4000\n"
     ]
    }
   ],
   "source": [
    "data1 = {'Name':['Jai', 'Princi', 'Gaurav', 'Anuj'], \n",
    "        'Age':[27, 24, 22, 32], \n",
    "        'Address':['Nagpur', 'Kanpur', 'Allahabad', 'Kannuaj'], \n",
    "        'Qualification':['Msc', 'MA', 'MCA', 'Phd'],\n",
    "        'Mobile No': [97, 91, 58, 76]} \n",
    "   \n",
    "# Define a dictionary containing employee data \n",
    "data2 = {'Name':['Gaurav', 'Anuj', 'Dhiraj', 'Hitesh'], \n",
    "        'Age':[22, 32, 12, 52], \n",
    "        'Address':['Allahabad', 'Kannuaj', 'Allahabad', 'Kannuaj'], \n",
    "        'Qualification':['MCA', 'Phd', 'Bcom', 'B.hons'],\n",
    "        'Salary':[1000, 2000, 3000, 4000]} \n",
    " \n",
    "# Convert the dictionary into DataFrame  \n",
    "df = pd.DataFrame(data1,index=[0, 1, 2, 3])\n",
    " \n",
    "# Convert the dictionary into DataFrame  \n",
    "df1 = pd.DataFrame(data2, index=[2, 3, 6, 7]) \n",
    " \n",
    "print(df, \"\\n\\n\", df1) "
   ]
  },
  {
   "cell_type": "code",
   "execution_count": 93,
   "metadata": {},
   "outputs": [
    {
     "data": {
      "text/html": [
       "<div>\n",
       "<style scoped>\n",
       "    .dataframe tbody tr th:only-of-type {\n",
       "        vertical-align: middle;\n",
       "    }\n",
       "\n",
       "    .dataframe tbody tr th {\n",
       "        vertical-align: top;\n",
       "    }\n",
       "\n",
       "    .dataframe thead th {\n",
       "        text-align: right;\n",
       "    }\n",
       "</style>\n",
       "<table border=\"1\" class=\"dataframe\">\n",
       "  <thead>\n",
       "    <tr style=\"text-align: right;\">\n",
       "      <th></th>\n",
       "      <th>Name</th>\n",
       "      <th>Age</th>\n",
       "      <th>Address</th>\n",
       "      <th>Qualification</th>\n",
       "      <th>Mobile No</th>\n",
       "      <th>Salary</th>\n",
       "    </tr>\n",
       "  </thead>\n",
       "  <tbody>\n",
       "    <tr>\n",
       "      <th>0</th>\n",
       "      <td>Jai</td>\n",
       "      <td>27</td>\n",
       "      <td>Nagpur</td>\n",
       "      <td>Msc</td>\n",
       "      <td>97.0</td>\n",
       "      <td>NaN</td>\n",
       "    </tr>\n",
       "    <tr>\n",
       "      <th>1</th>\n",
       "      <td>Princi</td>\n",
       "      <td>24</td>\n",
       "      <td>Kanpur</td>\n",
       "      <td>MA</td>\n",
       "      <td>91.0</td>\n",
       "      <td>NaN</td>\n",
       "    </tr>\n",
       "    <tr>\n",
       "      <th>2</th>\n",
       "      <td>Gaurav</td>\n",
       "      <td>22</td>\n",
       "      <td>Allahabad</td>\n",
       "      <td>MCA</td>\n",
       "      <td>58.0</td>\n",
       "      <td>NaN</td>\n",
       "    </tr>\n",
       "    <tr>\n",
       "      <th>3</th>\n",
       "      <td>Anuj</td>\n",
       "      <td>32</td>\n",
       "      <td>Kannuaj</td>\n",
       "      <td>Phd</td>\n",
       "      <td>76.0</td>\n",
       "      <td>NaN</td>\n",
       "    </tr>\n",
       "    <tr>\n",
       "      <th>2</th>\n",
       "      <td>Gaurav</td>\n",
       "      <td>22</td>\n",
       "      <td>Allahabad</td>\n",
       "      <td>MCA</td>\n",
       "      <td>NaN</td>\n",
       "      <td>1000.0</td>\n",
       "    </tr>\n",
       "    <tr>\n",
       "      <th>3</th>\n",
       "      <td>Anuj</td>\n",
       "      <td>32</td>\n",
       "      <td>Kannuaj</td>\n",
       "      <td>Phd</td>\n",
       "      <td>NaN</td>\n",
       "      <td>2000.0</td>\n",
       "    </tr>\n",
       "    <tr>\n",
       "      <th>6</th>\n",
       "      <td>Dhiraj</td>\n",
       "      <td>12</td>\n",
       "      <td>Allahabad</td>\n",
       "      <td>Bcom</td>\n",
       "      <td>NaN</td>\n",
       "      <td>3000.0</td>\n",
       "    </tr>\n",
       "    <tr>\n",
       "      <th>7</th>\n",
       "      <td>Hitesh</td>\n",
       "      <td>52</td>\n",
       "      <td>Kannuaj</td>\n",
       "      <td>B.hons</td>\n",
       "      <td>NaN</td>\n",
       "      <td>4000.0</td>\n",
       "    </tr>\n",
       "  </tbody>\n",
       "</table>\n",
       "</div>"
      ],
      "text/plain": [
       "     Name  Age    Address Qualification  Mobile No  Salary\n",
       "0     Jai   27     Nagpur           Msc       97.0     NaN\n",
       "1  Princi   24     Kanpur            MA       91.0     NaN\n",
       "2  Gaurav   22  Allahabad           MCA       58.0     NaN\n",
       "3    Anuj   32    Kannuaj           Phd       76.0     NaN\n",
       "2  Gaurav   22  Allahabad           MCA        NaN  1000.0\n",
       "3    Anuj   32    Kannuaj           Phd        NaN  2000.0\n",
       "6  Dhiraj   12  Allahabad          Bcom        NaN  3000.0\n",
       "7  Hitesh   52    Kannuaj        B.hons        NaN  4000.0"
      ]
     },
     "execution_count": 93,
     "metadata": {},
     "output_type": "execute_result"
    }
   ],
   "source": [
    "# Concatination\n",
    "# using a .concat() method\n",
    "frames = [df, df1]\n",
    " \n",
    "res1 = pd.concat(frames)\n",
    "res1"
   ]
  },
  {
   "cell_type": "code",
   "execution_count": 94,
   "metadata": {},
   "outputs": [
    {
     "data": {
      "text/html": [
       "<div>\n",
       "<style scoped>\n",
       "    .dataframe tbody tr th:only-of-type {\n",
       "        vertical-align: middle;\n",
       "    }\n",
       "\n",
       "    .dataframe tbody tr th {\n",
       "        vertical-align: top;\n",
       "    }\n",
       "\n",
       "    .dataframe thead th {\n",
       "        text-align: right;\n",
       "    }\n",
       "</style>\n",
       "<table border=\"1\" class=\"dataframe\">\n",
       "  <thead>\n",
       "    <tr style=\"text-align: right;\">\n",
       "      <th></th>\n",
       "      <th>Name</th>\n",
       "      <th>Age</th>\n",
       "      <th>Address</th>\n",
       "      <th>Qualification</th>\n",
       "      <th>Mobile No</th>\n",
       "      <th>Name</th>\n",
       "      <th>Age</th>\n",
       "      <th>Address</th>\n",
       "      <th>Qualification</th>\n",
       "      <th>Salary</th>\n",
       "    </tr>\n",
       "  </thead>\n",
       "  <tbody>\n",
       "    <tr>\n",
       "      <th>2</th>\n",
       "      <td>Gaurav</td>\n",
       "      <td>22</td>\n",
       "      <td>Allahabad</td>\n",
       "      <td>MCA</td>\n",
       "      <td>58</td>\n",
       "      <td>Gaurav</td>\n",
       "      <td>22</td>\n",
       "      <td>Allahabad</td>\n",
       "      <td>MCA</td>\n",
       "      <td>1000</td>\n",
       "    </tr>\n",
       "    <tr>\n",
       "      <th>3</th>\n",
       "      <td>Anuj</td>\n",
       "      <td>32</td>\n",
       "      <td>Kannuaj</td>\n",
       "      <td>Phd</td>\n",
       "      <td>76</td>\n",
       "      <td>Anuj</td>\n",
       "      <td>32</td>\n",
       "      <td>Kannuaj</td>\n",
       "      <td>Phd</td>\n",
       "      <td>2000</td>\n",
       "    </tr>\n",
       "  </tbody>\n",
       "</table>\n",
       "</div>"
      ],
      "text/plain": [
       "     Name  Age    Address Qualification  Mobile No    Name  Age    Address  \\\n",
       "2  Gaurav   22  Allahabad           MCA         58  Gaurav   22  Allahabad   \n",
       "3    Anuj   32    Kannuaj           Phd         76    Anuj   32    Kannuaj   \n",
       "\n",
       "  Qualification  Salary  \n",
       "2           MCA    1000  \n",
       "3           Phd    2000  "
      ]
     },
     "execution_count": 94,
     "metadata": {},
     "output_type": "execute_result"
    }
   ],
   "source": [
    "# Intersection\n",
    "# applying concat with axes\n",
    "# join = 'inner'\n",
    "res2 = pd.concat([df, df1], axis=1, join='inner')\n",
    " \n",
    "res2"
   ]
  },
  {
   "cell_type": "code",
   "execution_count": 96,
   "metadata": {},
   "outputs": [
    {
     "data": {
      "text/html": [
       "<div>\n",
       "<style scoped>\n",
       "    .dataframe tbody tr th:only-of-type {\n",
       "        vertical-align: middle;\n",
       "    }\n",
       "\n",
       "    .dataframe tbody tr th {\n",
       "        vertical-align: top;\n",
       "    }\n",
       "\n",
       "    .dataframe thead th {\n",
       "        text-align: right;\n",
       "    }\n",
       "</style>\n",
       "<table border=\"1\" class=\"dataframe\">\n",
       "  <thead>\n",
       "    <tr style=\"text-align: right;\">\n",
       "      <th></th>\n",
       "      <th>Name</th>\n",
       "      <th>Age</th>\n",
       "      <th>Address</th>\n",
       "      <th>Qualification</th>\n",
       "      <th>Mobile No</th>\n",
       "      <th>Name</th>\n",
       "      <th>Age</th>\n",
       "      <th>Address</th>\n",
       "      <th>Qualification</th>\n",
       "      <th>Salary</th>\n",
       "    </tr>\n",
       "  </thead>\n",
       "  <tbody>\n",
       "    <tr>\n",
       "      <th>0</th>\n",
       "      <td>Jai</td>\n",
       "      <td>27.0</td>\n",
       "      <td>Nagpur</td>\n",
       "      <td>Msc</td>\n",
       "      <td>97.0</td>\n",
       "      <td>NaN</td>\n",
       "      <td>NaN</td>\n",
       "      <td>NaN</td>\n",
       "      <td>NaN</td>\n",
       "      <td>NaN</td>\n",
       "    </tr>\n",
       "    <tr>\n",
       "      <th>1</th>\n",
       "      <td>Princi</td>\n",
       "      <td>24.0</td>\n",
       "      <td>Kanpur</td>\n",
       "      <td>MA</td>\n",
       "      <td>91.0</td>\n",
       "      <td>NaN</td>\n",
       "      <td>NaN</td>\n",
       "      <td>NaN</td>\n",
       "      <td>NaN</td>\n",
       "      <td>NaN</td>\n",
       "    </tr>\n",
       "    <tr>\n",
       "      <th>2</th>\n",
       "      <td>Gaurav</td>\n",
       "      <td>22.0</td>\n",
       "      <td>Allahabad</td>\n",
       "      <td>MCA</td>\n",
       "      <td>58.0</td>\n",
       "      <td>Gaurav</td>\n",
       "      <td>22.0</td>\n",
       "      <td>Allahabad</td>\n",
       "      <td>MCA</td>\n",
       "      <td>1000.0</td>\n",
       "    </tr>\n",
       "    <tr>\n",
       "      <th>3</th>\n",
       "      <td>Anuj</td>\n",
       "      <td>32.0</td>\n",
       "      <td>Kannuaj</td>\n",
       "      <td>Phd</td>\n",
       "      <td>76.0</td>\n",
       "      <td>Anuj</td>\n",
       "      <td>32.0</td>\n",
       "      <td>Kannuaj</td>\n",
       "      <td>Phd</td>\n",
       "      <td>2000.0</td>\n",
       "    </tr>\n",
       "    <tr>\n",
       "      <th>6</th>\n",
       "      <td>NaN</td>\n",
       "      <td>NaN</td>\n",
       "      <td>NaN</td>\n",
       "      <td>NaN</td>\n",
       "      <td>NaN</td>\n",
       "      <td>Dhiraj</td>\n",
       "      <td>12.0</td>\n",
       "      <td>Allahabad</td>\n",
       "      <td>Bcom</td>\n",
       "      <td>3000.0</td>\n",
       "    </tr>\n",
       "    <tr>\n",
       "      <th>7</th>\n",
       "      <td>NaN</td>\n",
       "      <td>NaN</td>\n",
       "      <td>NaN</td>\n",
       "      <td>NaN</td>\n",
       "      <td>NaN</td>\n",
       "      <td>Hitesh</td>\n",
       "      <td>52.0</td>\n",
       "      <td>Kannuaj</td>\n",
       "      <td>B.hons</td>\n",
       "      <td>4000.0</td>\n",
       "    </tr>\n",
       "  </tbody>\n",
       "</table>\n",
       "</div>"
      ],
      "text/plain": [
       "     Name   Age    Address Qualification  Mobile No    Name   Age    Address  \\\n",
       "0     Jai  27.0     Nagpur           Msc       97.0     NaN   NaN        NaN   \n",
       "1  Princi  24.0     Kanpur            MA       91.0     NaN   NaN        NaN   \n",
       "2  Gaurav  22.0  Allahabad           MCA       58.0  Gaurav  22.0  Allahabad   \n",
       "3    Anuj  32.0    Kannuaj           Phd       76.0    Anuj  32.0    Kannuaj   \n",
       "6     NaN   NaN        NaN           NaN        NaN  Dhiraj  12.0  Allahabad   \n",
       "7     NaN   NaN        NaN           NaN        NaN  Hitesh  52.0    Kannuaj   \n",
       "\n",
       "  Qualification  Salary  \n",
       "0           NaN     NaN  \n",
       "1           NaN     NaN  \n",
       "2           MCA  1000.0  \n",
       "3           Phd  2000.0  \n",
       "6          Bcom  3000.0  \n",
       "7        B.hons  4000.0  "
      ]
     },
     "execution_count": 96,
     "metadata": {},
     "output_type": "execute_result"
    }
   ],
   "source": [
    "# UNION\n",
    "# using a .concat for\n",
    "# union of dataframe\n",
    "res2 = pd.concat([df, df1], axis=1, join='outer')\n",
    " \n",
    "res2"
   ]
  },
  {
   "cell_type": "markdown",
   "metadata": {},
   "source": [
    "# Plotting\n",
    "#### Pandas uses the plot() method to create diagrams.\n",
    "#### We can use Pyplot, a submodule of the Matplotlib library to visualize the diagram on the screen."
   ]
  },
  {
   "cell_type": "code",
   "execution_count": 99,
   "metadata": {},
   "outputs": [
    {
     "data": {
      "image/png": "[encoded data removed]",
      "text/plain": [
       "<Figure size 432x288 with 1 Axes>"
      ]
     },
     "metadata": {
      "needs_background": "light"
     },
     "output_type": "display_data"
    },
    {
     "name": "stdout",
     "output_type": "stream",
     "text": [
      "Descripion of the table : \n",
      "        Unnamed: 0    Duration       Pulse    Maxpulse     Calories\n",
      "count  169.000000  169.000000  169.000000  169.000000   164.000000\n",
      "mean    84.000000   63.846154  107.461538  134.047337   375.790244\n",
      "std     48.930222   42.299949   14.510259   16.450434   266.379919\n",
      "min      0.000000   15.000000   80.000000  100.000000    50.300000\n",
      "25%     42.000000   45.000000  100.000000  124.000000   250.925000\n",
      "50%     84.000000   60.000000  105.000000  131.000000   318.600000\n",
      "75%    126.000000   60.000000  111.000000  141.000000   387.600000\n",
      "max    168.000000  300.000000  159.000000  184.000000  1860.400000\n"
     ]
    }
   ],
   "source": [
    "import matplotlib.pyplot as plt\n",
    "ds = pd.read_csv(\"E:\\MACHINE LEARNING\\DataSets\\CSV\\data.csv\")\n",
    "ds.plot()\n",
    "plt.show()\n",
    "\n",
    "print(\"Descripion of the table : \\n\",ds.describe())\n"
   ]
  }
 ],
 "metadata": {
  "interpreter": {
   "hash": "215dea8494d900f95198fb6f8c1037bb36091c52d352cc11f22cad2221fe1635"
  },
  "kernelspec": {
   "display_name": "Python 3.8.5 64-bit ('base': conda)",
   "language": "python",
   "name": "python3"
  },
  "language_info": {
   "codemirror_mode": {
    "name": "ipython",
    "version": 3
   },
   "file_extension": ".py",
   "mimetype": "text/x-python",
   "name": "python",
   "nbconvert_exporter": "python",
   "pygments_lexer": "ipython3",
   "version": "3.9.7"
  },
  "orig_nbformat": 4
 },
 "nbformat": 4,
 "nbformat_minor": 2
}
