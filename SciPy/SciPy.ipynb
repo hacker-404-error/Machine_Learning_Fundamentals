{
 "cells": [
  {
   "cell_type": "markdown",
   "metadata": {},
   "source": [
    "# What is SciPy?\n",
    "### SciPy is a scientific computation library that uses NumPy underneath.\n",
    "### SciPy stands for Scientific Python.\n",
    "### It provides more utility functions for optimization, stats and signal processing.\n",
    "### Like NumPy, SciPy is open source so we can use it freely.\n",
    "### SciPy was created by NumPy's creator Travis Olliphant."
   ]
  },
  {
   "cell_type": "markdown",
   "metadata": {},
   "source": [
    "### Why Use SciPy?\n",
    "#### If SciPy uses NumPy underneath, why can we not just use NumPy?\n",
    "#### SciPy has optimized and added functions that are frequently used in NumPy and Data Science."
   ]
  },
  {
   "cell_type": "code",
   "execution_count": null,
   "metadata": {},
   "outputs": [],
   "source": []
  }
 ],
 "metadata": {
  "interpreter": {
   "hash": "215dea8494d900f95198fb6f8c1037bb36091c52d352cc11f22cad2221fe1635"
  },
  "kernelspec": {
   "display_name": "Python 3.8.5 ('base')",
   "language": "python",
   "name": "python3"
  },
  "language_info": {
   "name": "python",
   "version": "3.9.7"
  },
  "orig_nbformat": 4
 },
 "nbformat": 4,
 "nbformat_minor": 2
}
